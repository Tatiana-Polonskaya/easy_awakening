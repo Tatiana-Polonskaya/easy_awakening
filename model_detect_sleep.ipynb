{
  "nbformat": 4,
  "nbformat_minor": 0,
  "metadata": {
    "colab": {
      "provenance": [],
      "authorship_tag": "ABX9TyMQmfKME4GdV1ygy3kXC4NM",
      "include_colab_link": true
    },
    "kernelspec": {
      "name": "python3",
      "display_name": "Python 3"
    },
    "language_info": {
      "name": "python"
    }
  },
  "cells": [
    {
      "cell_type": "markdown",
      "metadata": {
        "id": "view-in-github",
        "colab_type": "text"
      },
      "source": [
        "<a href=\"https://colab.research.google.com/github/Tatiana-Polonskaya/easy_awakening/blob/main/model_detect_sleep.ipynb\" target=\"_parent\"><img src=\"https://colab.research.google.com/assets/colab-badge.svg\" alt=\"Open In Colab\"/></a>"
      ]
    },
    {
      "cell_type": "code",
      "source": [
        "!pip install catboost"
      ],
      "metadata": {
        "colab": {
          "base_uri": "https://localhost:8080/"
        },
        "id": "0PS28I6xjyyW",
        "outputId": "805fc95f-4b34-43c1-d959-4755ed9ada35"
      },
      "execution_count": null,
      "outputs": [
        {
          "output_type": "stream",
          "name": "stdout",
          "text": [
            "Looking in indexes: https://pypi.org/simple, https://us-python.pkg.dev/colab-wheels/public/simple/\n",
            "Collecting catboost\n",
            "  Downloading catboost-1.1.1-cp39-none-manylinux1_x86_64.whl (76.6 MB)\n",
            "\u001b[2K     \u001b[90m━━━━━━━━━━━━━━━━━━━━━━━━━━━━━━━━━━━━━━━━\u001b[0m \u001b[32m76.6/76.6 MB\u001b[0m \u001b[31m11.4 MB/s\u001b[0m eta \u001b[36m0:00:00\u001b[0m\n",
            "\u001b[?25hRequirement already satisfied: scipy in /usr/local/lib/python3.9/dist-packages (from catboost) (1.10.1)\n",
            "Requirement already satisfied: six in /usr/local/lib/python3.9/dist-packages (from catboost) (1.16.0)\n",
            "Requirement already satisfied: matplotlib in /usr/local/lib/python3.9/dist-packages (from catboost) (3.7.1)\n",
            "Requirement already satisfied: pandas>=0.24.0 in /usr/local/lib/python3.9/dist-packages (from catboost) (1.4.4)\n",
            "Requirement already satisfied: plotly in /usr/local/lib/python3.9/dist-packages (from catboost) (5.13.1)\n",
            "Requirement already satisfied: graphviz in /usr/local/lib/python3.9/dist-packages (from catboost) (0.20.1)\n",
            "Requirement already satisfied: numpy>=1.16.0 in /usr/local/lib/python3.9/dist-packages (from catboost) (1.22.4)\n",
            "Requirement already satisfied: pytz>=2020.1 in /usr/local/lib/python3.9/dist-packages (from pandas>=0.24.0->catboost) (2022.7.1)\n",
            "Requirement already satisfied: python-dateutil>=2.8.1 in /usr/local/lib/python3.9/dist-packages (from pandas>=0.24.0->catboost) (2.8.2)\n",
            "Requirement already satisfied: pyparsing>=2.3.1 in /usr/local/lib/python3.9/dist-packages (from matplotlib->catboost) (3.0.9)\n",
            "Requirement already satisfied: contourpy>=1.0.1 in /usr/local/lib/python3.9/dist-packages (from matplotlib->catboost) (1.0.7)\n",
            "Requirement already satisfied: pillow>=6.2.0 in /usr/local/lib/python3.9/dist-packages (from matplotlib->catboost) (8.4.0)\n",
            "Requirement already satisfied: cycler>=0.10 in /usr/local/lib/python3.9/dist-packages (from matplotlib->catboost) (0.11.0)\n",
            "Requirement already satisfied: importlib-resources>=3.2.0 in /usr/local/lib/python3.9/dist-packages (from matplotlib->catboost) (5.12.0)\n",
            "Requirement already satisfied: kiwisolver>=1.0.1 in /usr/local/lib/python3.9/dist-packages (from matplotlib->catboost) (1.4.4)\n",
            "Requirement already satisfied: fonttools>=4.22.0 in /usr/local/lib/python3.9/dist-packages (from matplotlib->catboost) (4.39.2)\n",
            "Requirement already satisfied: packaging>=20.0 in /usr/local/lib/python3.9/dist-packages (from matplotlib->catboost) (23.0)\n",
            "Requirement already satisfied: tenacity>=6.2.0 in /usr/local/lib/python3.9/dist-packages (from plotly->catboost) (8.2.2)\n",
            "Requirement already satisfied: zipp>=3.1.0 in /usr/local/lib/python3.9/dist-packages (from importlib-resources>=3.2.0->matplotlib->catboost) (3.15.0)\n",
            "Installing collected packages: catboost\n",
            "Successfully installed catboost-1.1.1\n"
          ]
        }
      ]
    },
    {
      "cell_type": "code",
      "execution_count": null,
      "metadata": {
        "id": "Wou-T2ja7cyx"
      },
      "outputs": [],
      "source": [
        "import pandas as pd\n",
        "import numpy as np\n",
        "import matplotlib.pyplot as plt\n",
        "import matplotlib.ticker as ticker\n",
        "import seaborn as sns\n",
        "from sklearn.model_selection import train_test_split\n",
        "\n",
        "from sklearn.preprocessing import StandardScaler, OneHotEncoder\n",
        "from sklearn.pipeline import Pipeline\n",
        "from sklearn.compose import ColumnTransformer\n",
        "\n",
        "from datetime import datetime, timedelta,time\n",
        "\n",
        "from sklearn.model_selection import GridSearchCV\n",
        "\n",
        "from sklearn import metrics\n",
        "\n",
        "from catboost import CatBoostClassifier\n",
        "from sklearn.ensemble import RandomForestClassifier, AdaBoostClassifier, GradientBoostingClassifier\n",
        "from sklearn.metrics import f1_score,roc_curve,roc_auc_score\n",
        "\n",
        "import pickle"
      ]
    },
    {
      "cell_type": "code",
      "source": [
        "from google.colab import drive\n",
        "drive.mount('/content/drive')"
      ],
      "metadata": {
        "colab": {
          "base_uri": "https://localhost:8080/"
        },
        "id": "G2InlaW27o0N",
        "outputId": "4776a10f-38d4-4cff-a1bc-af70d5f08c42"
      },
      "execution_count": null,
      "outputs": [
        {
          "output_type": "stream",
          "name": "stdout",
          "text": [
            "Mounted at /content/drive\n"
          ]
        }
      ]
    },
    {
      "cell_type": "markdown",
      "source": [
        "**Этапы работы:**\n",
        "1. Произвести сбор датасета;\n",
        "2. Определить предикторы;\n",
        "3. Провести анализ и выбрать оптимальный алгоритм для реализации задачи выбранной темы (на основе сравнительного анализа);\n",
        "4. Обосновать выбор алгоритма (сравнительный анализ необходимо представить в табличном виде);\n",
        "5. Реализовать алгоритм на языке программирования Python; \n",
        "6. Сделать вывод по проделанной работе (выдать численные значения и сравнительную таблицу по аналогичным решениям по accuracy/f1 score, описать полученные значения и возможные ограничения полученного решения и будущего улучшения).\n"
      ],
      "metadata": {
        "id": "MckR7MQ0LsZl"
      }
    },
    {
      "cell_type": "markdown",
      "source": [
        "# Получение датасета"
      ],
      "metadata": {
        "id": "QsKoTQhxMGAZ"
      }
    },
    {
      "cell_type": "markdown",
      "source": [
        "Получаем данные о пульсе в течение дня"
      ],
      "metadata": {
        "id": "tsgj5uce8Dfi"
      }
    },
    {
      "cell_type": "code",
      "source": [
        "pulses = pd.read_csv('/content/drive/MyDrive/Sleep_MO/14.03/HEARTRATE_AUTO/HEARTRATE_AUTO_1678790378309.csv')\n",
        "pulses.info()"
      ],
      "metadata": {
        "colab": {
          "base_uri": "https://localhost:8080/"
        },
        "id": "HPl788577o2u",
        "outputId": "a09f12c3-02f4-47f6-ec23-a11a5de0a0b3"
      },
      "execution_count": null,
      "outputs": [
        {
          "output_type": "stream",
          "name": "stdout",
          "text": [
            "<class 'pandas.core.frame.DataFrame'>\n",
            "RangeIndex: 13336 entries, 0 to 13335\n",
            "Data columns (total 3 columns):\n",
            " #   Column     Non-Null Count  Dtype \n",
            "---  ------     --------------  ----- \n",
            " 0   date       13336 non-null  object\n",
            " 1   time       13336 non-null  object\n",
            " 2   heartRate  13336 non-null  int64 \n",
            "dtypes: int64(1), object(2)\n",
            "memory usage: 312.7+ KB\n"
          ]
        }
      ]
    },
    {
      "cell_type": "code",
      "source": [
        "pulses.head()"
      ],
      "metadata": {
        "colab": {
          "base_uri": "https://localhost:8080/",
          "height": 206
        },
        "id": "aOLmDJBM8O-D",
        "outputId": "20f9b9dd-26b3-416a-ebb6-61766e7db75c"
      },
      "execution_count": null,
      "outputs": [
        {
          "output_type": "execute_result",
          "data": {
            "text/plain": [
              "         date   time  heartRate\n",
              "0  2023-03-01  15:21         90\n",
              "1  2023-03-01  15:22         79\n",
              "2  2023-03-01  15:23         84\n",
              "3  2023-03-01  15:24         81\n",
              "4  2023-03-01  15:25         92"
            ],
            "text/html": [
              "\n",
              "  <div id=\"df-aebc7d9a-9aa5-4e29-91fe-e899c5842a2d\">\n",
              "    <div class=\"colab-df-container\">\n",
              "      <div>\n",
              "<style scoped>\n",
              "    .dataframe tbody tr th:only-of-type {\n",
              "        vertical-align: middle;\n",
              "    }\n",
              "\n",
              "    .dataframe tbody tr th {\n",
              "        vertical-align: top;\n",
              "    }\n",
              "\n",
              "    .dataframe thead th {\n",
              "        text-align: right;\n",
              "    }\n",
              "</style>\n",
              "<table border=\"1\" class=\"dataframe\">\n",
              "  <thead>\n",
              "    <tr style=\"text-align: right;\">\n",
              "      <th></th>\n",
              "      <th>date</th>\n",
              "      <th>time</th>\n",
              "      <th>heartRate</th>\n",
              "    </tr>\n",
              "  </thead>\n",
              "  <tbody>\n",
              "    <tr>\n",
              "      <th>0</th>\n",
              "      <td>2023-03-01</td>\n",
              "      <td>15:21</td>\n",
              "      <td>90</td>\n",
              "    </tr>\n",
              "    <tr>\n",
              "      <th>1</th>\n",
              "      <td>2023-03-01</td>\n",
              "      <td>15:22</td>\n",
              "      <td>79</td>\n",
              "    </tr>\n",
              "    <tr>\n",
              "      <th>2</th>\n",
              "      <td>2023-03-01</td>\n",
              "      <td>15:23</td>\n",
              "      <td>84</td>\n",
              "    </tr>\n",
              "    <tr>\n",
              "      <th>3</th>\n",
              "      <td>2023-03-01</td>\n",
              "      <td>15:24</td>\n",
              "      <td>81</td>\n",
              "    </tr>\n",
              "    <tr>\n",
              "      <th>4</th>\n",
              "      <td>2023-03-01</td>\n",
              "      <td>15:25</td>\n",
              "      <td>92</td>\n",
              "    </tr>\n",
              "  </tbody>\n",
              "</table>\n",
              "</div>\n",
              "      <button class=\"colab-df-convert\" onclick=\"convertToInteractive('df-aebc7d9a-9aa5-4e29-91fe-e899c5842a2d')\"\n",
              "              title=\"Convert this dataframe to an interactive table.\"\n",
              "              style=\"display:none;\">\n",
              "        \n",
              "  <svg xmlns=\"http://www.w3.org/2000/svg\" height=\"24px\"viewBox=\"0 0 24 24\"\n",
              "       width=\"24px\">\n",
              "    <path d=\"M0 0h24v24H0V0z\" fill=\"none\"/>\n",
              "    <path d=\"M18.56 5.44l.94 2.06.94-2.06 2.06-.94-2.06-.94-.94-2.06-.94 2.06-2.06.94zm-11 1L8.5 8.5l.94-2.06 2.06-.94-2.06-.94L8.5 2.5l-.94 2.06-2.06.94zm10 10l.94 2.06.94-2.06 2.06-.94-2.06-.94-.94-2.06-.94 2.06-2.06.94z\"/><path d=\"M17.41 7.96l-1.37-1.37c-.4-.4-.92-.59-1.43-.59-.52 0-1.04.2-1.43.59L10.3 9.45l-7.72 7.72c-.78.78-.78 2.05 0 2.83L4 21.41c.39.39.9.59 1.41.59.51 0 1.02-.2 1.41-.59l7.78-7.78 2.81-2.81c.8-.78.8-2.07 0-2.86zM5.41 20L4 18.59l7.72-7.72 1.47 1.35L5.41 20z\"/>\n",
              "  </svg>\n",
              "      </button>\n",
              "      \n",
              "  <style>\n",
              "    .colab-df-container {\n",
              "      display:flex;\n",
              "      flex-wrap:wrap;\n",
              "      gap: 12px;\n",
              "    }\n",
              "\n",
              "    .colab-df-convert {\n",
              "      background-color: #E8F0FE;\n",
              "      border: none;\n",
              "      border-radius: 50%;\n",
              "      cursor: pointer;\n",
              "      display: none;\n",
              "      fill: #1967D2;\n",
              "      height: 32px;\n",
              "      padding: 0 0 0 0;\n",
              "      width: 32px;\n",
              "    }\n",
              "\n",
              "    .colab-df-convert:hover {\n",
              "      background-color: #E2EBFA;\n",
              "      box-shadow: 0px 1px 2px rgba(60, 64, 67, 0.3), 0px 1px 3px 1px rgba(60, 64, 67, 0.15);\n",
              "      fill: #174EA6;\n",
              "    }\n",
              "\n",
              "    [theme=dark] .colab-df-convert {\n",
              "      background-color: #3B4455;\n",
              "      fill: #D2E3FC;\n",
              "    }\n",
              "\n",
              "    [theme=dark] .colab-df-convert:hover {\n",
              "      background-color: #434B5C;\n",
              "      box-shadow: 0px 1px 3px 1px rgba(0, 0, 0, 0.15);\n",
              "      filter: drop-shadow(0px 1px 2px rgba(0, 0, 0, 0.3));\n",
              "      fill: #FFFFFF;\n",
              "    }\n",
              "  </style>\n",
              "\n",
              "      <script>\n",
              "        const buttonEl =\n",
              "          document.querySelector('#df-aebc7d9a-9aa5-4e29-91fe-e899c5842a2d button.colab-df-convert');\n",
              "        buttonEl.style.display =\n",
              "          google.colab.kernel.accessAllowed ? 'block' : 'none';\n",
              "\n",
              "        async function convertToInteractive(key) {\n",
              "          const element = document.querySelector('#df-aebc7d9a-9aa5-4e29-91fe-e899c5842a2d');\n",
              "          const dataTable =\n",
              "            await google.colab.kernel.invokeFunction('convertToInteractive',\n",
              "                                                     [key], {});\n",
              "          if (!dataTable) return;\n",
              "\n",
              "          const docLinkHtml = 'Like what you see? Visit the ' +\n",
              "            '<a target=\"_blank\" href=https://colab.research.google.com/notebooks/data_table.ipynb>data table notebook</a>'\n",
              "            + ' to learn more about interactive tables.';\n",
              "          element.innerHTML = '';\n",
              "          dataTable['output_type'] = 'display_data';\n",
              "          await google.colab.output.renderOutput(dataTable, element);\n",
              "          const docLink = document.createElement('div');\n",
              "          docLink.innerHTML = docLinkHtml;\n",
              "          element.appendChild(docLink);\n",
              "        }\n",
              "      </script>\n",
              "    </div>\n",
              "  </div>\n",
              "  "
            ]
          },
          "metadata": {},
          "execution_count": 6
        }
      ]
    },
    {
      "cell_type": "markdown",
      "source": [
        "Отбираем только те дни, у которых есть сведения о SpO2"
      ],
      "metadata": {
        "id": "ipvh--GZ8Wek"
      }
    },
    {
      "cell_type": "code",
      "source": [
        "df_pulses = pulses[(pulses.date.isin(['2023-03-13','2023-03-12','2023-03-11','2023-03-10','2023-03-14']))]\n",
        "df_pulses"
      ],
      "metadata": {
        "colab": {
          "base_uri": "https://localhost:8080/",
          "height": 424
        },
        "id": "MzyQ3aJf7o4-",
        "outputId": "cb72c2e0-6770-4a0a-af6b-82a00b66b74d"
      },
      "execution_count": null,
      "outputs": [
        {
          "output_type": "execute_result",
          "data": {
            "text/plain": [
              "             date   time  heartRate\n",
              "10479  2023-03-10  00:00         69\n",
              "10480  2023-03-10  00:01         67\n",
              "10481  2023-03-10  00:02         69\n",
              "10482  2023-03-10  00:03         71\n",
              "10483  2023-03-10  00:04         71\n",
              "...           ...    ...        ...\n",
              "13331  2023-03-14  11:51         88\n",
              "13332  2023-03-14  12:01         84\n",
              "13333  2023-03-14  12:11         77\n",
              "13334  2023-03-14  12:21         76\n",
              "13335  2023-03-14  12:31         75\n",
              "\n",
              "[2857 rows x 3 columns]"
            ],
            "text/html": [
              "\n",
              "  <div id=\"df-34abd7a8-2ae2-4aa5-a208-e01aafd5c034\">\n",
              "    <div class=\"colab-df-container\">\n",
              "      <div>\n",
              "<style scoped>\n",
              "    .dataframe tbody tr th:only-of-type {\n",
              "        vertical-align: middle;\n",
              "    }\n",
              "\n",
              "    .dataframe tbody tr th {\n",
              "        vertical-align: top;\n",
              "    }\n",
              "\n",
              "    .dataframe thead th {\n",
              "        text-align: right;\n",
              "    }\n",
              "</style>\n",
              "<table border=\"1\" class=\"dataframe\">\n",
              "  <thead>\n",
              "    <tr style=\"text-align: right;\">\n",
              "      <th></th>\n",
              "      <th>date</th>\n",
              "      <th>time</th>\n",
              "      <th>heartRate</th>\n",
              "    </tr>\n",
              "  </thead>\n",
              "  <tbody>\n",
              "    <tr>\n",
              "      <th>10479</th>\n",
              "      <td>2023-03-10</td>\n",
              "      <td>00:00</td>\n",
              "      <td>69</td>\n",
              "    </tr>\n",
              "    <tr>\n",
              "      <th>10480</th>\n",
              "      <td>2023-03-10</td>\n",
              "      <td>00:01</td>\n",
              "      <td>67</td>\n",
              "    </tr>\n",
              "    <tr>\n",
              "      <th>10481</th>\n",
              "      <td>2023-03-10</td>\n",
              "      <td>00:02</td>\n",
              "      <td>69</td>\n",
              "    </tr>\n",
              "    <tr>\n",
              "      <th>10482</th>\n",
              "      <td>2023-03-10</td>\n",
              "      <td>00:03</td>\n",
              "      <td>71</td>\n",
              "    </tr>\n",
              "    <tr>\n",
              "      <th>10483</th>\n",
              "      <td>2023-03-10</td>\n",
              "      <td>00:04</td>\n",
              "      <td>71</td>\n",
              "    </tr>\n",
              "    <tr>\n",
              "      <th>...</th>\n",
              "      <td>...</td>\n",
              "      <td>...</td>\n",
              "      <td>...</td>\n",
              "    </tr>\n",
              "    <tr>\n",
              "      <th>13331</th>\n",
              "      <td>2023-03-14</td>\n",
              "      <td>11:51</td>\n",
              "      <td>88</td>\n",
              "    </tr>\n",
              "    <tr>\n",
              "      <th>13332</th>\n",
              "      <td>2023-03-14</td>\n",
              "      <td>12:01</td>\n",
              "      <td>84</td>\n",
              "    </tr>\n",
              "    <tr>\n",
              "      <th>13333</th>\n",
              "      <td>2023-03-14</td>\n",
              "      <td>12:11</td>\n",
              "      <td>77</td>\n",
              "    </tr>\n",
              "    <tr>\n",
              "      <th>13334</th>\n",
              "      <td>2023-03-14</td>\n",
              "      <td>12:21</td>\n",
              "      <td>76</td>\n",
              "    </tr>\n",
              "    <tr>\n",
              "      <th>13335</th>\n",
              "      <td>2023-03-14</td>\n",
              "      <td>12:31</td>\n",
              "      <td>75</td>\n",
              "    </tr>\n",
              "  </tbody>\n",
              "</table>\n",
              "<p>2857 rows × 3 columns</p>\n",
              "</div>\n",
              "      <button class=\"colab-df-convert\" onclick=\"convertToInteractive('df-34abd7a8-2ae2-4aa5-a208-e01aafd5c034')\"\n",
              "              title=\"Convert this dataframe to an interactive table.\"\n",
              "              style=\"display:none;\">\n",
              "        \n",
              "  <svg xmlns=\"http://www.w3.org/2000/svg\" height=\"24px\"viewBox=\"0 0 24 24\"\n",
              "       width=\"24px\">\n",
              "    <path d=\"M0 0h24v24H0V0z\" fill=\"none\"/>\n",
              "    <path d=\"M18.56 5.44l.94 2.06.94-2.06 2.06-.94-2.06-.94-.94-2.06-.94 2.06-2.06.94zm-11 1L8.5 8.5l.94-2.06 2.06-.94-2.06-.94L8.5 2.5l-.94 2.06-2.06.94zm10 10l.94 2.06.94-2.06 2.06-.94-2.06-.94-.94-2.06-.94 2.06-2.06.94z\"/><path d=\"M17.41 7.96l-1.37-1.37c-.4-.4-.92-.59-1.43-.59-.52 0-1.04.2-1.43.59L10.3 9.45l-7.72 7.72c-.78.78-.78 2.05 0 2.83L4 21.41c.39.39.9.59 1.41.59.51 0 1.02-.2 1.41-.59l7.78-7.78 2.81-2.81c.8-.78.8-2.07 0-2.86zM5.41 20L4 18.59l7.72-7.72 1.47 1.35L5.41 20z\"/>\n",
              "  </svg>\n",
              "      </button>\n",
              "      \n",
              "  <style>\n",
              "    .colab-df-container {\n",
              "      display:flex;\n",
              "      flex-wrap:wrap;\n",
              "      gap: 12px;\n",
              "    }\n",
              "\n",
              "    .colab-df-convert {\n",
              "      background-color: #E8F0FE;\n",
              "      border: none;\n",
              "      border-radius: 50%;\n",
              "      cursor: pointer;\n",
              "      display: none;\n",
              "      fill: #1967D2;\n",
              "      height: 32px;\n",
              "      padding: 0 0 0 0;\n",
              "      width: 32px;\n",
              "    }\n",
              "\n",
              "    .colab-df-convert:hover {\n",
              "      background-color: #E2EBFA;\n",
              "      box-shadow: 0px 1px 2px rgba(60, 64, 67, 0.3), 0px 1px 3px 1px rgba(60, 64, 67, 0.15);\n",
              "      fill: #174EA6;\n",
              "    }\n",
              "\n",
              "    [theme=dark] .colab-df-convert {\n",
              "      background-color: #3B4455;\n",
              "      fill: #D2E3FC;\n",
              "    }\n",
              "\n",
              "    [theme=dark] .colab-df-convert:hover {\n",
              "      background-color: #434B5C;\n",
              "      box-shadow: 0px 1px 3px 1px rgba(0, 0, 0, 0.15);\n",
              "      filter: drop-shadow(0px 1px 2px rgba(0, 0, 0, 0.3));\n",
              "      fill: #FFFFFF;\n",
              "    }\n",
              "  </style>\n",
              "\n",
              "      <script>\n",
              "        const buttonEl =\n",
              "          document.querySelector('#df-34abd7a8-2ae2-4aa5-a208-e01aafd5c034 button.colab-df-convert');\n",
              "        buttonEl.style.display =\n",
              "          google.colab.kernel.accessAllowed ? 'block' : 'none';\n",
              "\n",
              "        async function convertToInteractive(key) {\n",
              "          const element = document.querySelector('#df-34abd7a8-2ae2-4aa5-a208-e01aafd5c034');\n",
              "          const dataTable =\n",
              "            await google.colab.kernel.invokeFunction('convertToInteractive',\n",
              "                                                     [key], {});\n",
              "          if (!dataTable) return;\n",
              "\n",
              "          const docLinkHtml = 'Like what you see? Visit the ' +\n",
              "            '<a target=\"_blank\" href=https://colab.research.google.com/notebooks/data_table.ipynb>data table notebook</a>'\n",
              "            + ' to learn more about interactive tables.';\n",
              "          element.innerHTML = '';\n",
              "          dataTable['output_type'] = 'display_data';\n",
              "          await google.colab.output.renderOutput(dataTable, element);\n",
              "          const docLink = document.createElement('div');\n",
              "          docLink.innerHTML = docLinkHtml;\n",
              "          element.appendChild(docLink);\n",
              "        }\n",
              "      </script>\n",
              "    </div>\n",
              "  </div>\n",
              "  "
            ]
          },
          "metadata": {},
          "execution_count": 5
        }
      ]
    },
    {
      "cell_type": "markdown",
      "source": [
        "Преобразовываем дату и время"
      ],
      "metadata": {
        "id": "cU4twPglDQ4v"
      }
    },
    {
      "cell_type": "code",
      "source": [
        "df_pulses['time'] = df_pulses.time.dt.time\n",
        "df_pulses['date_time'] = df_pulses[['date','time']].apply(lambda x: str(x[0]) + ' ' + str(x[1]),axis=1) \n",
        "df_pulses.date_time = pd.to_datetime(df_pulses.date_time)\n",
        "df_pulses.date = pd.to_datetime(df_pulses.date)\n",
        "df_pulses"
      ],
      "metadata": {
        "colab": {
          "base_uri": "https://localhost:8080/",
          "height": 533
        },
        "id": "C9X2nq4yCGV1",
        "outputId": "fecab1b8-fe66-4837-9835-5481de444adc"
      },
      "execution_count": null,
      "outputs": [
        {
          "output_type": "stream",
          "name": "stderr",
          "text": [
            "<ipython-input-45-cc914bf21d38>:1: SettingWithCopyWarning: \n",
            "A value is trying to be set on a copy of a slice from a DataFrame.\n",
            "Try using .loc[row_indexer,col_indexer] = value instead\n",
            "\n",
            "See the caveats in the documentation: https://pandas.pydata.org/pandas-docs/stable/user_guide/indexing.html#returning-a-view-versus-a-copy\n",
            "  df_pulses['date_time'] = df_pulses[['date','time']].apply(lambda x: str(x[0]) + ' ' + str(x[1]),axis=1)\n"
          ]
        },
        {
          "output_type": "execute_result",
          "data": {
            "text/plain": [
              "             date      time  heartRate            date_time\n",
              "10479  2023-03-10  00:00:00         69  2023-03-10 00:00:00\n",
              "10480  2023-03-10  00:01:00         67  2023-03-10 00:01:00\n",
              "10481  2023-03-10  00:02:00         69  2023-03-10 00:02:00\n",
              "10482  2023-03-10  00:03:00         71  2023-03-10 00:03:00\n",
              "10483  2023-03-10  00:04:00         71  2023-03-10 00:04:00\n",
              "...           ...       ...        ...                  ...\n",
              "13331  2023-03-14  11:51:00         88  2023-03-14 11:51:00\n",
              "13332  2023-03-14  12:01:00         84  2023-03-14 12:01:00\n",
              "13333  2023-03-14  12:11:00         77  2023-03-14 12:11:00\n",
              "13334  2023-03-14  12:21:00         76  2023-03-14 12:21:00\n",
              "13335  2023-03-14  12:31:00         75  2023-03-14 12:31:00\n",
              "\n",
              "[2857 rows x 4 columns]"
            ],
            "text/html": [
              "\n",
              "  <div id=\"df-4380effe-47c3-4b49-9396-7b37149bd183\">\n",
              "    <div class=\"colab-df-container\">\n",
              "      <div>\n",
              "<style scoped>\n",
              "    .dataframe tbody tr th:only-of-type {\n",
              "        vertical-align: middle;\n",
              "    }\n",
              "\n",
              "    .dataframe tbody tr th {\n",
              "        vertical-align: top;\n",
              "    }\n",
              "\n",
              "    .dataframe thead th {\n",
              "        text-align: right;\n",
              "    }\n",
              "</style>\n",
              "<table border=\"1\" class=\"dataframe\">\n",
              "  <thead>\n",
              "    <tr style=\"text-align: right;\">\n",
              "      <th></th>\n",
              "      <th>date</th>\n",
              "      <th>time</th>\n",
              "      <th>heartRate</th>\n",
              "      <th>date_time</th>\n",
              "    </tr>\n",
              "  </thead>\n",
              "  <tbody>\n",
              "    <tr>\n",
              "      <th>10479</th>\n",
              "      <td>2023-03-10</td>\n",
              "      <td>00:00:00</td>\n",
              "      <td>69</td>\n",
              "      <td>2023-03-10 00:00:00</td>\n",
              "    </tr>\n",
              "    <tr>\n",
              "      <th>10480</th>\n",
              "      <td>2023-03-10</td>\n",
              "      <td>00:01:00</td>\n",
              "      <td>67</td>\n",
              "      <td>2023-03-10 00:01:00</td>\n",
              "    </tr>\n",
              "    <tr>\n",
              "      <th>10481</th>\n",
              "      <td>2023-03-10</td>\n",
              "      <td>00:02:00</td>\n",
              "      <td>69</td>\n",
              "      <td>2023-03-10 00:02:00</td>\n",
              "    </tr>\n",
              "    <tr>\n",
              "      <th>10482</th>\n",
              "      <td>2023-03-10</td>\n",
              "      <td>00:03:00</td>\n",
              "      <td>71</td>\n",
              "      <td>2023-03-10 00:03:00</td>\n",
              "    </tr>\n",
              "    <tr>\n",
              "      <th>10483</th>\n",
              "      <td>2023-03-10</td>\n",
              "      <td>00:04:00</td>\n",
              "      <td>71</td>\n",
              "      <td>2023-03-10 00:04:00</td>\n",
              "    </tr>\n",
              "    <tr>\n",
              "      <th>...</th>\n",
              "      <td>...</td>\n",
              "      <td>...</td>\n",
              "      <td>...</td>\n",
              "      <td>...</td>\n",
              "    </tr>\n",
              "    <tr>\n",
              "      <th>13331</th>\n",
              "      <td>2023-03-14</td>\n",
              "      <td>11:51:00</td>\n",
              "      <td>88</td>\n",
              "      <td>2023-03-14 11:51:00</td>\n",
              "    </tr>\n",
              "    <tr>\n",
              "      <th>13332</th>\n",
              "      <td>2023-03-14</td>\n",
              "      <td>12:01:00</td>\n",
              "      <td>84</td>\n",
              "      <td>2023-03-14 12:01:00</td>\n",
              "    </tr>\n",
              "    <tr>\n",
              "      <th>13333</th>\n",
              "      <td>2023-03-14</td>\n",
              "      <td>12:11:00</td>\n",
              "      <td>77</td>\n",
              "      <td>2023-03-14 12:11:00</td>\n",
              "    </tr>\n",
              "    <tr>\n",
              "      <th>13334</th>\n",
              "      <td>2023-03-14</td>\n",
              "      <td>12:21:00</td>\n",
              "      <td>76</td>\n",
              "      <td>2023-03-14 12:21:00</td>\n",
              "    </tr>\n",
              "    <tr>\n",
              "      <th>13335</th>\n",
              "      <td>2023-03-14</td>\n",
              "      <td>12:31:00</td>\n",
              "      <td>75</td>\n",
              "      <td>2023-03-14 12:31:00</td>\n",
              "    </tr>\n",
              "  </tbody>\n",
              "</table>\n",
              "<p>2857 rows × 4 columns</p>\n",
              "</div>\n",
              "      <button class=\"colab-df-convert\" onclick=\"convertToInteractive('df-4380effe-47c3-4b49-9396-7b37149bd183')\"\n",
              "              title=\"Convert this dataframe to an interactive table.\"\n",
              "              style=\"display:none;\">\n",
              "        \n",
              "  <svg xmlns=\"http://www.w3.org/2000/svg\" height=\"24px\"viewBox=\"0 0 24 24\"\n",
              "       width=\"24px\">\n",
              "    <path d=\"M0 0h24v24H0V0z\" fill=\"none\"/>\n",
              "    <path d=\"M18.56 5.44l.94 2.06.94-2.06 2.06-.94-2.06-.94-.94-2.06-.94 2.06-2.06.94zm-11 1L8.5 8.5l.94-2.06 2.06-.94-2.06-.94L8.5 2.5l-.94 2.06-2.06.94zm10 10l.94 2.06.94-2.06 2.06-.94-2.06-.94-.94-2.06-.94 2.06-2.06.94z\"/><path d=\"M17.41 7.96l-1.37-1.37c-.4-.4-.92-.59-1.43-.59-.52 0-1.04.2-1.43.59L10.3 9.45l-7.72 7.72c-.78.78-.78 2.05 0 2.83L4 21.41c.39.39.9.59 1.41.59.51 0 1.02-.2 1.41-.59l7.78-7.78 2.81-2.81c.8-.78.8-2.07 0-2.86zM5.41 20L4 18.59l7.72-7.72 1.47 1.35L5.41 20z\"/>\n",
              "  </svg>\n",
              "      </button>\n",
              "      \n",
              "  <style>\n",
              "    .colab-df-container {\n",
              "      display:flex;\n",
              "      flex-wrap:wrap;\n",
              "      gap: 12px;\n",
              "    }\n",
              "\n",
              "    .colab-df-convert {\n",
              "      background-color: #E8F0FE;\n",
              "      border: none;\n",
              "      border-radius: 50%;\n",
              "      cursor: pointer;\n",
              "      display: none;\n",
              "      fill: #1967D2;\n",
              "      height: 32px;\n",
              "      padding: 0 0 0 0;\n",
              "      width: 32px;\n",
              "    }\n",
              "\n",
              "    .colab-df-convert:hover {\n",
              "      background-color: #E2EBFA;\n",
              "      box-shadow: 0px 1px 2px rgba(60, 64, 67, 0.3), 0px 1px 3px 1px rgba(60, 64, 67, 0.15);\n",
              "      fill: #174EA6;\n",
              "    }\n",
              "\n",
              "    [theme=dark] .colab-df-convert {\n",
              "      background-color: #3B4455;\n",
              "      fill: #D2E3FC;\n",
              "    }\n",
              "\n",
              "    [theme=dark] .colab-df-convert:hover {\n",
              "      background-color: #434B5C;\n",
              "      box-shadow: 0px 1px 3px 1px rgba(0, 0, 0, 0.15);\n",
              "      filter: drop-shadow(0px 1px 2px rgba(0, 0, 0, 0.3));\n",
              "      fill: #FFFFFF;\n",
              "    }\n",
              "  </style>\n",
              "\n",
              "      <script>\n",
              "        const buttonEl =\n",
              "          document.querySelector('#df-4380effe-47c3-4b49-9396-7b37149bd183 button.colab-df-convert');\n",
              "        buttonEl.style.display =\n",
              "          google.colab.kernel.accessAllowed ? 'block' : 'none';\n",
              "\n",
              "        async function convertToInteractive(key) {\n",
              "          const element = document.querySelector('#df-4380effe-47c3-4b49-9396-7b37149bd183');\n",
              "          const dataTable =\n",
              "            await google.colab.kernel.invokeFunction('convertToInteractive',\n",
              "                                                     [key], {});\n",
              "          if (!dataTable) return;\n",
              "\n",
              "          const docLinkHtml = 'Like what you see? Visit the ' +\n",
              "            '<a target=\"_blank\" href=https://colab.research.google.com/notebooks/data_table.ipynb>data table notebook</a>'\n",
              "            + ' to learn more about interactive tables.';\n",
              "          element.innerHTML = '';\n",
              "          dataTable['output_type'] = 'display_data';\n",
              "          await google.colab.output.renderOutput(dataTable, element);\n",
              "          const docLink = document.createElement('div');\n",
              "          docLink.innerHTML = docLinkHtml;\n",
              "          element.appendChild(docLink);\n",
              "        }\n",
              "      </script>\n",
              "    </div>\n",
              "  </div>\n",
              "  "
            ]
          },
          "metadata": {},
          "execution_count": 45
        }
      ]
    },
    {
      "cell_type": "code",
      "source": [
        "df_pulses.date_time = pd.to_datetime(df_pulses.date_time, unit='s', utc=True)"
      ],
      "metadata": {
        "id": "Yk41sJBBC5Rr"
      },
      "execution_count": null,
      "outputs": []
    },
    {
      "cell_type": "code",
      "source": [
        "df_pulses.info()"
      ],
      "metadata": {
        "colab": {
          "base_uri": "https://localhost:8080/"
        },
        "id": "7Yh0wmtHCV1Y",
        "outputId": "24c5659b-d8fd-43d1-9cd8-f5ac126a7da8"
      },
      "execution_count": null,
      "outputs": [
        {
          "output_type": "stream",
          "name": "stdout",
          "text": [
            "<class 'pandas.core.frame.DataFrame'>\n",
            "Int64Index: 2857 entries, 10479 to 13335\n",
            "Data columns (total 4 columns):\n",
            " #   Column     Non-Null Count  Dtype              \n",
            "---  ------     --------------  -----              \n",
            " 0   date       2857 non-null   datetime64[ns]     \n",
            " 1   time       2857 non-null   object             \n",
            " 2   heartRate  2857 non-null   int64              \n",
            " 3   date_time  2857 non-null   datetime64[ns, UTC]\n",
            "dtypes: datetime64[ns, UTC](1), datetime64[ns](1), int64(1), object(1)\n",
            "memory usage: 111.6+ KB\n"
          ]
        }
      ]
    },
    {
      "cell_type": "markdown",
      "source": [
        "Извлекаем данные о сне и добавляем целевую переменную"
      ],
      "metadata": {
        "id": "NYpdYWNz8iEt"
      }
    },
    {
      "cell_type": "code",
      "source": [
        "sleeps = pd.read_csv('/content/drive/MyDrive/Sleep_MO/14.03/SLEEP/SLEEP_1678790378210.csv')\n",
        "sleeps"
      ],
      "metadata": {
        "colab": {
          "base_uri": "https://localhost:8080/",
          "height": 488
        },
        "id": "1mpTNEhR8dts",
        "outputId": "4c25211b-1dbb-4e3c-bc9b-e090c1746c18"
      },
      "execution_count": null,
      "outputs": [
        {
          "output_type": "execute_result",
          "data": {
            "text/plain": [
              "          date  deepSleepTime  shallowSleepTime  wakeTime  \\\n",
              "0   2023-03-01            141               464         3   \n",
              "1   2023-03-02              0                 0         0   \n",
              "2   2023-03-03             81               407         9   \n",
              "3   2023-03-04             71               225         3   \n",
              "4   2023-03-05             65               436         0   \n",
              "5   2023-03-06             41               309         0   \n",
              "6   2023-03-07            103               188        10   \n",
              "7   2023-03-08             73               335         0   \n",
              "8   2023-03-09              0                 0         0   \n",
              "9   2023-03-10             92               229        37   \n",
              "10  2023-03-11             53               282         0   \n",
              "11  2023-03-12             71               412         0   \n",
              "12  2023-03-13            100               285         0   \n",
              "13  2023-03-14             36               130         0   \n",
              "\n",
              "                       start                      stop  REMTime  naps  \n",
              "0   2023-02-28 19:36:00+0000  2023-03-01 05:44:00+0000        0   NaN  \n",
              "1   2023-03-02 21:00:00+0000  2023-03-02 21:00:00+0000        0   NaN  \n",
              "2   2023-03-02 19:59:00+0000  2023-03-03 05:47:00+0000       91   NaN  \n",
              "3   2023-03-03 19:59:00+0000  2023-03-04 02:48:00+0000      110   NaN  \n",
              "4   2023-03-04 19:22:00+0000  2023-03-05 05:15:00+0000       92   NaN  \n",
              "5   2023-03-05 23:56:00+0000  2023-03-06 06:33:00+0000       47   NaN  \n",
              "6   2023-03-06 22:46:00+0000  2023-03-07 05:48:00+0000      121   NaN  \n",
              "7   2023-03-07 22:15:00+0000  2023-03-08 05:54:00+0000       51   NaN  \n",
              "8   2023-03-09 21:00:00+0000  2023-03-09 21:00:00+0000        0   NaN  \n",
              "9   2023-03-09 21:07:00+0000  2023-03-10 05:14:00+0000      129   NaN  \n",
              "10  2023-03-10 22:29:00+0000  2023-03-11 05:03:00+0000       59   NaN  \n",
              "11  2023-03-11 20:26:00+0000  2023-03-12 05:05:00+0000       36   NaN  \n",
              "12  2023-03-12 21:24:00+0000  2023-03-13 05:05:00+0000       76   NaN  \n",
              "13  2023-03-14 01:48:00+0000  2023-03-14 05:23:00+0000       49   NaN  "
            ],
            "text/html": [
              "\n",
              "  <div id=\"df-e45d74b4-0ee1-42fd-80b6-bcfc6b9135b5\">\n",
              "    <div class=\"colab-df-container\">\n",
              "      <div>\n",
              "<style scoped>\n",
              "    .dataframe tbody tr th:only-of-type {\n",
              "        vertical-align: middle;\n",
              "    }\n",
              "\n",
              "    .dataframe tbody tr th {\n",
              "        vertical-align: top;\n",
              "    }\n",
              "\n",
              "    .dataframe thead th {\n",
              "        text-align: right;\n",
              "    }\n",
              "</style>\n",
              "<table border=\"1\" class=\"dataframe\">\n",
              "  <thead>\n",
              "    <tr style=\"text-align: right;\">\n",
              "      <th></th>\n",
              "      <th>date</th>\n",
              "      <th>deepSleepTime</th>\n",
              "      <th>shallowSleepTime</th>\n",
              "      <th>wakeTime</th>\n",
              "      <th>start</th>\n",
              "      <th>stop</th>\n",
              "      <th>REMTime</th>\n",
              "      <th>naps</th>\n",
              "    </tr>\n",
              "  </thead>\n",
              "  <tbody>\n",
              "    <tr>\n",
              "      <th>0</th>\n",
              "      <td>2023-03-01</td>\n",
              "      <td>141</td>\n",
              "      <td>464</td>\n",
              "      <td>3</td>\n",
              "      <td>2023-02-28 19:36:00+0000</td>\n",
              "      <td>2023-03-01 05:44:00+0000</td>\n",
              "      <td>0</td>\n",
              "      <td>NaN</td>\n",
              "    </tr>\n",
              "    <tr>\n",
              "      <th>1</th>\n",
              "      <td>2023-03-02</td>\n",
              "      <td>0</td>\n",
              "      <td>0</td>\n",
              "      <td>0</td>\n",
              "      <td>2023-03-02 21:00:00+0000</td>\n",
              "      <td>2023-03-02 21:00:00+0000</td>\n",
              "      <td>0</td>\n",
              "      <td>NaN</td>\n",
              "    </tr>\n",
              "    <tr>\n",
              "      <th>2</th>\n",
              "      <td>2023-03-03</td>\n",
              "      <td>81</td>\n",
              "      <td>407</td>\n",
              "      <td>9</td>\n",
              "      <td>2023-03-02 19:59:00+0000</td>\n",
              "      <td>2023-03-03 05:47:00+0000</td>\n",
              "      <td>91</td>\n",
              "      <td>NaN</td>\n",
              "    </tr>\n",
              "    <tr>\n",
              "      <th>3</th>\n",
              "      <td>2023-03-04</td>\n",
              "      <td>71</td>\n",
              "      <td>225</td>\n",
              "      <td>3</td>\n",
              "      <td>2023-03-03 19:59:00+0000</td>\n",
              "      <td>2023-03-04 02:48:00+0000</td>\n",
              "      <td>110</td>\n",
              "      <td>NaN</td>\n",
              "    </tr>\n",
              "    <tr>\n",
              "      <th>4</th>\n",
              "      <td>2023-03-05</td>\n",
              "      <td>65</td>\n",
              "      <td>436</td>\n",
              "      <td>0</td>\n",
              "      <td>2023-03-04 19:22:00+0000</td>\n",
              "      <td>2023-03-05 05:15:00+0000</td>\n",
              "      <td>92</td>\n",
              "      <td>NaN</td>\n",
              "    </tr>\n",
              "    <tr>\n",
              "      <th>5</th>\n",
              "      <td>2023-03-06</td>\n",
              "      <td>41</td>\n",
              "      <td>309</td>\n",
              "      <td>0</td>\n",
              "      <td>2023-03-05 23:56:00+0000</td>\n",
              "      <td>2023-03-06 06:33:00+0000</td>\n",
              "      <td>47</td>\n",
              "      <td>NaN</td>\n",
              "    </tr>\n",
              "    <tr>\n",
              "      <th>6</th>\n",
              "      <td>2023-03-07</td>\n",
              "      <td>103</td>\n",
              "      <td>188</td>\n",
              "      <td>10</td>\n",
              "      <td>2023-03-06 22:46:00+0000</td>\n",
              "      <td>2023-03-07 05:48:00+0000</td>\n",
              "      <td>121</td>\n",
              "      <td>NaN</td>\n",
              "    </tr>\n",
              "    <tr>\n",
              "      <th>7</th>\n",
              "      <td>2023-03-08</td>\n",
              "      <td>73</td>\n",
              "      <td>335</td>\n",
              "      <td>0</td>\n",
              "      <td>2023-03-07 22:15:00+0000</td>\n",
              "      <td>2023-03-08 05:54:00+0000</td>\n",
              "      <td>51</td>\n",
              "      <td>NaN</td>\n",
              "    </tr>\n",
              "    <tr>\n",
              "      <th>8</th>\n",
              "      <td>2023-03-09</td>\n",
              "      <td>0</td>\n",
              "      <td>0</td>\n",
              "      <td>0</td>\n",
              "      <td>2023-03-09 21:00:00+0000</td>\n",
              "      <td>2023-03-09 21:00:00+0000</td>\n",
              "      <td>0</td>\n",
              "      <td>NaN</td>\n",
              "    </tr>\n",
              "    <tr>\n",
              "      <th>9</th>\n",
              "      <td>2023-03-10</td>\n",
              "      <td>92</td>\n",
              "      <td>229</td>\n",
              "      <td>37</td>\n",
              "      <td>2023-03-09 21:07:00+0000</td>\n",
              "      <td>2023-03-10 05:14:00+0000</td>\n",
              "      <td>129</td>\n",
              "      <td>NaN</td>\n",
              "    </tr>\n",
              "    <tr>\n",
              "      <th>10</th>\n",
              "      <td>2023-03-11</td>\n",
              "      <td>53</td>\n",
              "      <td>282</td>\n",
              "      <td>0</td>\n",
              "      <td>2023-03-10 22:29:00+0000</td>\n",
              "      <td>2023-03-11 05:03:00+0000</td>\n",
              "      <td>59</td>\n",
              "      <td>NaN</td>\n",
              "    </tr>\n",
              "    <tr>\n",
              "      <th>11</th>\n",
              "      <td>2023-03-12</td>\n",
              "      <td>71</td>\n",
              "      <td>412</td>\n",
              "      <td>0</td>\n",
              "      <td>2023-03-11 20:26:00+0000</td>\n",
              "      <td>2023-03-12 05:05:00+0000</td>\n",
              "      <td>36</td>\n",
              "      <td>NaN</td>\n",
              "    </tr>\n",
              "    <tr>\n",
              "      <th>12</th>\n",
              "      <td>2023-03-13</td>\n",
              "      <td>100</td>\n",
              "      <td>285</td>\n",
              "      <td>0</td>\n",
              "      <td>2023-03-12 21:24:00+0000</td>\n",
              "      <td>2023-03-13 05:05:00+0000</td>\n",
              "      <td>76</td>\n",
              "      <td>NaN</td>\n",
              "    </tr>\n",
              "    <tr>\n",
              "      <th>13</th>\n",
              "      <td>2023-03-14</td>\n",
              "      <td>36</td>\n",
              "      <td>130</td>\n",
              "      <td>0</td>\n",
              "      <td>2023-03-14 01:48:00+0000</td>\n",
              "      <td>2023-03-14 05:23:00+0000</td>\n",
              "      <td>49</td>\n",
              "      <td>NaN</td>\n",
              "    </tr>\n",
              "  </tbody>\n",
              "</table>\n",
              "</div>\n",
              "      <button class=\"colab-df-convert\" onclick=\"convertToInteractive('df-e45d74b4-0ee1-42fd-80b6-bcfc6b9135b5')\"\n",
              "              title=\"Convert this dataframe to an interactive table.\"\n",
              "              style=\"display:none;\">\n",
              "        \n",
              "  <svg xmlns=\"http://www.w3.org/2000/svg\" height=\"24px\"viewBox=\"0 0 24 24\"\n",
              "       width=\"24px\">\n",
              "    <path d=\"M0 0h24v24H0V0z\" fill=\"none\"/>\n",
              "    <path d=\"M18.56 5.44l.94 2.06.94-2.06 2.06-.94-2.06-.94-.94-2.06-.94 2.06-2.06.94zm-11 1L8.5 8.5l.94-2.06 2.06-.94-2.06-.94L8.5 2.5l-.94 2.06-2.06.94zm10 10l.94 2.06.94-2.06 2.06-.94-2.06-.94-.94-2.06-.94 2.06-2.06.94z\"/><path d=\"M17.41 7.96l-1.37-1.37c-.4-.4-.92-.59-1.43-.59-.52 0-1.04.2-1.43.59L10.3 9.45l-7.72 7.72c-.78.78-.78 2.05 0 2.83L4 21.41c.39.39.9.59 1.41.59.51 0 1.02-.2 1.41-.59l7.78-7.78 2.81-2.81c.8-.78.8-2.07 0-2.86zM5.41 20L4 18.59l7.72-7.72 1.47 1.35L5.41 20z\"/>\n",
              "  </svg>\n",
              "      </button>\n",
              "      \n",
              "  <style>\n",
              "    .colab-df-container {\n",
              "      display:flex;\n",
              "      flex-wrap:wrap;\n",
              "      gap: 12px;\n",
              "    }\n",
              "\n",
              "    .colab-df-convert {\n",
              "      background-color: #E8F0FE;\n",
              "      border: none;\n",
              "      border-radius: 50%;\n",
              "      cursor: pointer;\n",
              "      display: none;\n",
              "      fill: #1967D2;\n",
              "      height: 32px;\n",
              "      padding: 0 0 0 0;\n",
              "      width: 32px;\n",
              "    }\n",
              "\n",
              "    .colab-df-convert:hover {\n",
              "      background-color: #E2EBFA;\n",
              "      box-shadow: 0px 1px 2px rgba(60, 64, 67, 0.3), 0px 1px 3px 1px rgba(60, 64, 67, 0.15);\n",
              "      fill: #174EA6;\n",
              "    }\n",
              "\n",
              "    [theme=dark] .colab-df-convert {\n",
              "      background-color: #3B4455;\n",
              "      fill: #D2E3FC;\n",
              "    }\n",
              "\n",
              "    [theme=dark] .colab-df-convert:hover {\n",
              "      background-color: #434B5C;\n",
              "      box-shadow: 0px 1px 3px 1px rgba(0, 0, 0, 0.15);\n",
              "      filter: drop-shadow(0px 1px 2px rgba(0, 0, 0, 0.3));\n",
              "      fill: #FFFFFF;\n",
              "    }\n",
              "  </style>\n",
              "\n",
              "      <script>\n",
              "        const buttonEl =\n",
              "          document.querySelector('#df-e45d74b4-0ee1-42fd-80b6-bcfc6b9135b5 button.colab-df-convert');\n",
              "        buttonEl.style.display =\n",
              "          google.colab.kernel.accessAllowed ? 'block' : 'none';\n",
              "\n",
              "        async function convertToInteractive(key) {\n",
              "          const element = document.querySelector('#df-e45d74b4-0ee1-42fd-80b6-bcfc6b9135b5');\n",
              "          const dataTable =\n",
              "            await google.colab.kernel.invokeFunction('convertToInteractive',\n",
              "                                                     [key], {});\n",
              "          if (!dataTable) return;\n",
              "\n",
              "          const docLinkHtml = 'Like what you see? Visit the ' +\n",
              "            '<a target=\"_blank\" href=https://colab.research.google.com/notebooks/data_table.ipynb>data table notebook</a>'\n",
              "            + ' to learn more about interactive tables.';\n",
              "          element.innerHTML = '';\n",
              "          dataTable['output_type'] = 'display_data';\n",
              "          await google.colab.output.renderOutput(dataTable, element);\n",
              "          const docLink = document.createElement('div');\n",
              "          docLink.innerHTML = docLinkHtml;\n",
              "          element.appendChild(docLink);\n",
              "        }\n",
              "      </script>\n",
              "    </div>\n",
              "  </div>\n",
              "  "
            ]
          },
          "metadata": {},
          "execution_count": 7
        }
      ]
    },
    {
      "cell_type": "markdown",
      "source": [
        "Отбираем только тот сон, у которого есть SpO2 "
      ],
      "metadata": {
        "id": "ZygUeRpJ8n32"
      }
    },
    {
      "cell_type": "code",
      "source": [
        "df_sleeps = sleeps[(sleeps.date.isin(['2023-03-13','2023-03-12','2023-03-11','2023-03-10','2023-03-14']))]\n",
        "df_sleeps"
      ],
      "metadata": {
        "colab": {
          "base_uri": "https://localhost:8080/",
          "height": 206
        },
        "id": "ayfVfh7b8dxH",
        "outputId": "532ea71b-e97c-4c4d-f3a8-3204dc8c9cf3"
      },
      "execution_count": null,
      "outputs": [
        {
          "output_type": "execute_result",
          "data": {
            "text/plain": [
              "          date  deepSleepTime  shallowSleepTime  wakeTime  \\\n",
              "9   2023-03-10             92               229        37   \n",
              "10  2023-03-11             53               282         0   \n",
              "11  2023-03-12             71               412         0   \n",
              "12  2023-03-13            100               285         0   \n",
              "13  2023-03-14             36               130         0   \n",
              "\n",
              "                       start                      stop  REMTime  naps  \n",
              "9   2023-03-09 21:07:00+0000  2023-03-10 05:14:00+0000      129   NaN  \n",
              "10  2023-03-10 22:29:00+0000  2023-03-11 05:03:00+0000       59   NaN  \n",
              "11  2023-03-11 20:26:00+0000  2023-03-12 05:05:00+0000       36   NaN  \n",
              "12  2023-03-12 21:24:00+0000  2023-03-13 05:05:00+0000       76   NaN  \n",
              "13  2023-03-14 01:48:00+0000  2023-03-14 05:23:00+0000       49   NaN  "
            ],
            "text/html": [
              "\n",
              "  <div id=\"df-eadadf1e-584f-46b0-aa2e-aaa327c0f1f4\">\n",
              "    <div class=\"colab-df-container\">\n",
              "      <div>\n",
              "<style scoped>\n",
              "    .dataframe tbody tr th:only-of-type {\n",
              "        vertical-align: middle;\n",
              "    }\n",
              "\n",
              "    .dataframe tbody tr th {\n",
              "        vertical-align: top;\n",
              "    }\n",
              "\n",
              "    .dataframe thead th {\n",
              "        text-align: right;\n",
              "    }\n",
              "</style>\n",
              "<table border=\"1\" class=\"dataframe\">\n",
              "  <thead>\n",
              "    <tr style=\"text-align: right;\">\n",
              "      <th></th>\n",
              "      <th>date</th>\n",
              "      <th>deepSleepTime</th>\n",
              "      <th>shallowSleepTime</th>\n",
              "      <th>wakeTime</th>\n",
              "      <th>start</th>\n",
              "      <th>stop</th>\n",
              "      <th>REMTime</th>\n",
              "      <th>naps</th>\n",
              "    </tr>\n",
              "  </thead>\n",
              "  <tbody>\n",
              "    <tr>\n",
              "      <th>9</th>\n",
              "      <td>2023-03-10</td>\n",
              "      <td>92</td>\n",
              "      <td>229</td>\n",
              "      <td>37</td>\n",
              "      <td>2023-03-09 21:07:00+0000</td>\n",
              "      <td>2023-03-10 05:14:00+0000</td>\n",
              "      <td>129</td>\n",
              "      <td>NaN</td>\n",
              "    </tr>\n",
              "    <tr>\n",
              "      <th>10</th>\n",
              "      <td>2023-03-11</td>\n",
              "      <td>53</td>\n",
              "      <td>282</td>\n",
              "      <td>0</td>\n",
              "      <td>2023-03-10 22:29:00+0000</td>\n",
              "      <td>2023-03-11 05:03:00+0000</td>\n",
              "      <td>59</td>\n",
              "      <td>NaN</td>\n",
              "    </tr>\n",
              "    <tr>\n",
              "      <th>11</th>\n",
              "      <td>2023-03-12</td>\n",
              "      <td>71</td>\n",
              "      <td>412</td>\n",
              "      <td>0</td>\n",
              "      <td>2023-03-11 20:26:00+0000</td>\n",
              "      <td>2023-03-12 05:05:00+0000</td>\n",
              "      <td>36</td>\n",
              "      <td>NaN</td>\n",
              "    </tr>\n",
              "    <tr>\n",
              "      <th>12</th>\n",
              "      <td>2023-03-13</td>\n",
              "      <td>100</td>\n",
              "      <td>285</td>\n",
              "      <td>0</td>\n",
              "      <td>2023-03-12 21:24:00+0000</td>\n",
              "      <td>2023-03-13 05:05:00+0000</td>\n",
              "      <td>76</td>\n",
              "      <td>NaN</td>\n",
              "    </tr>\n",
              "    <tr>\n",
              "      <th>13</th>\n",
              "      <td>2023-03-14</td>\n",
              "      <td>36</td>\n",
              "      <td>130</td>\n",
              "      <td>0</td>\n",
              "      <td>2023-03-14 01:48:00+0000</td>\n",
              "      <td>2023-03-14 05:23:00+0000</td>\n",
              "      <td>49</td>\n",
              "      <td>NaN</td>\n",
              "    </tr>\n",
              "  </tbody>\n",
              "</table>\n",
              "</div>\n",
              "      <button class=\"colab-df-convert\" onclick=\"convertToInteractive('df-eadadf1e-584f-46b0-aa2e-aaa327c0f1f4')\"\n",
              "              title=\"Convert this dataframe to an interactive table.\"\n",
              "              style=\"display:none;\">\n",
              "        \n",
              "  <svg xmlns=\"http://www.w3.org/2000/svg\" height=\"24px\"viewBox=\"0 0 24 24\"\n",
              "       width=\"24px\">\n",
              "    <path d=\"M0 0h24v24H0V0z\" fill=\"none\"/>\n",
              "    <path d=\"M18.56 5.44l.94 2.06.94-2.06 2.06-.94-2.06-.94-.94-2.06-.94 2.06-2.06.94zm-11 1L8.5 8.5l.94-2.06 2.06-.94-2.06-.94L8.5 2.5l-.94 2.06-2.06.94zm10 10l.94 2.06.94-2.06 2.06-.94-2.06-.94-.94-2.06-.94 2.06-2.06.94z\"/><path d=\"M17.41 7.96l-1.37-1.37c-.4-.4-.92-.59-1.43-.59-.52 0-1.04.2-1.43.59L10.3 9.45l-7.72 7.72c-.78.78-.78 2.05 0 2.83L4 21.41c.39.39.9.59 1.41.59.51 0 1.02-.2 1.41-.59l7.78-7.78 2.81-2.81c.8-.78.8-2.07 0-2.86zM5.41 20L4 18.59l7.72-7.72 1.47 1.35L5.41 20z\"/>\n",
              "  </svg>\n",
              "      </button>\n",
              "      \n",
              "  <style>\n",
              "    .colab-df-container {\n",
              "      display:flex;\n",
              "      flex-wrap:wrap;\n",
              "      gap: 12px;\n",
              "    }\n",
              "\n",
              "    .colab-df-convert {\n",
              "      background-color: #E8F0FE;\n",
              "      border: none;\n",
              "      border-radius: 50%;\n",
              "      cursor: pointer;\n",
              "      display: none;\n",
              "      fill: #1967D2;\n",
              "      height: 32px;\n",
              "      padding: 0 0 0 0;\n",
              "      width: 32px;\n",
              "    }\n",
              "\n",
              "    .colab-df-convert:hover {\n",
              "      background-color: #E2EBFA;\n",
              "      box-shadow: 0px 1px 2px rgba(60, 64, 67, 0.3), 0px 1px 3px 1px rgba(60, 64, 67, 0.15);\n",
              "      fill: #174EA6;\n",
              "    }\n",
              "\n",
              "    [theme=dark] .colab-df-convert {\n",
              "      background-color: #3B4455;\n",
              "      fill: #D2E3FC;\n",
              "    }\n",
              "\n",
              "    [theme=dark] .colab-df-convert:hover {\n",
              "      background-color: #434B5C;\n",
              "      box-shadow: 0px 1px 3px 1px rgba(0, 0, 0, 0.15);\n",
              "      filter: drop-shadow(0px 1px 2px rgba(0, 0, 0, 0.3));\n",
              "      fill: #FFFFFF;\n",
              "    }\n",
              "  </style>\n",
              "\n",
              "      <script>\n",
              "        const buttonEl =\n",
              "          document.querySelector('#df-eadadf1e-584f-46b0-aa2e-aaa327c0f1f4 button.colab-df-convert');\n",
              "        buttonEl.style.display =\n",
              "          google.colab.kernel.accessAllowed ? 'block' : 'none';\n",
              "\n",
              "        async function convertToInteractive(key) {\n",
              "          const element = document.querySelector('#df-eadadf1e-584f-46b0-aa2e-aaa327c0f1f4');\n",
              "          const dataTable =\n",
              "            await google.colab.kernel.invokeFunction('convertToInteractive',\n",
              "                                                     [key], {});\n",
              "          if (!dataTable) return;\n",
              "\n",
              "          const docLinkHtml = 'Like what you see? Visit the ' +\n",
              "            '<a target=\"_blank\" href=https://colab.research.google.com/notebooks/data_table.ipynb>data table notebook</a>'\n",
              "            + ' to learn more about interactive tables.';\n",
              "          element.innerHTML = '';\n",
              "          dataTable['output_type'] = 'display_data';\n",
              "          await google.colab.output.renderOutput(dataTable, element);\n",
              "          const docLink = document.createElement('div');\n",
              "          docLink.innerHTML = docLinkHtml;\n",
              "          element.appendChild(docLink);\n",
              "        }\n",
              "      </script>\n",
              "    </div>\n",
              "  </div>\n",
              "  "
            ]
          },
          "metadata": {},
          "execution_count": 8
        }
      ]
    },
    {
      "cell_type": "code",
      "source": [
        "df_sleeps.start = pd.to_datetime(df_sleeps.start) + pd.Timedelta('03:00:00')\n",
        "df_sleeps.stop = pd.to_datetime(df_sleeps.stop) + pd.Timedelta('03:00:00')\n",
        "df_sleeps.start = pd.to_datetime(df_sleeps.start, unit='s', utc=True) \n",
        "df_sleeps.stop = pd.to_datetime(df_sleeps.stop, unit='s', utc=True)\n",
        "\n",
        "df_sleeps.date = pd.to_datetime(df_sleeps.date)"
      ],
      "metadata": {
        "id": "vX4j7CKNLLCQ"
      },
      "execution_count": null,
      "outputs": []
    },
    {
      "cell_type": "code",
      "source": [
        "df_sleeps"
      ],
      "metadata": {
        "colab": {
          "base_uri": "https://localhost:8080/",
          "height": 206
        },
        "id": "tdv93flVLQcr",
        "outputId": "30264493-5b52-4c2d-c3bd-ee60a23587d4"
      },
      "execution_count": null,
      "outputs": [
        {
          "output_type": "execute_result",
          "data": {
            "text/plain": [
              "         date  deepSleepTime  shallowSleepTime  wakeTime  \\\n",
              "9  2023-03-10             92               229        37   \n",
              "10 2023-03-11             53               282         0   \n",
              "11 2023-03-12             71               412         0   \n",
              "12 2023-03-13            100               285         0   \n",
              "13 2023-03-14             36               130         0   \n",
              "\n",
              "                       start                      stop  REMTime  naps  \n",
              "9  2023-03-10 00:07:00+00:00 2023-03-10 08:14:00+00:00      129   NaN  \n",
              "10 2023-03-11 01:29:00+00:00 2023-03-11 08:03:00+00:00       59   NaN  \n",
              "11 2023-03-11 23:26:00+00:00 2023-03-12 08:05:00+00:00       36   NaN  \n",
              "12 2023-03-13 00:24:00+00:00 2023-03-13 08:05:00+00:00       76   NaN  \n",
              "13 2023-03-14 04:48:00+00:00 2023-03-14 08:23:00+00:00       49   NaN  "
            ],
            "text/html": [
              "\n",
              "  <div id=\"df-cd78ebfb-b35c-4356-9231-a2bb017df38b\">\n",
              "    <div class=\"colab-df-container\">\n",
              "      <div>\n",
              "<style scoped>\n",
              "    .dataframe tbody tr th:only-of-type {\n",
              "        vertical-align: middle;\n",
              "    }\n",
              "\n",
              "    .dataframe tbody tr th {\n",
              "        vertical-align: top;\n",
              "    }\n",
              "\n",
              "    .dataframe thead th {\n",
              "        text-align: right;\n",
              "    }\n",
              "</style>\n",
              "<table border=\"1\" class=\"dataframe\">\n",
              "  <thead>\n",
              "    <tr style=\"text-align: right;\">\n",
              "      <th></th>\n",
              "      <th>date</th>\n",
              "      <th>deepSleepTime</th>\n",
              "      <th>shallowSleepTime</th>\n",
              "      <th>wakeTime</th>\n",
              "      <th>start</th>\n",
              "      <th>stop</th>\n",
              "      <th>REMTime</th>\n",
              "      <th>naps</th>\n",
              "    </tr>\n",
              "  </thead>\n",
              "  <tbody>\n",
              "    <tr>\n",
              "      <th>9</th>\n",
              "      <td>2023-03-10</td>\n",
              "      <td>92</td>\n",
              "      <td>229</td>\n",
              "      <td>37</td>\n",
              "      <td>2023-03-10 00:07:00+00:00</td>\n",
              "      <td>2023-03-10 08:14:00+00:00</td>\n",
              "      <td>129</td>\n",
              "      <td>NaN</td>\n",
              "    </tr>\n",
              "    <tr>\n",
              "      <th>10</th>\n",
              "      <td>2023-03-11</td>\n",
              "      <td>53</td>\n",
              "      <td>282</td>\n",
              "      <td>0</td>\n",
              "      <td>2023-03-11 01:29:00+00:00</td>\n",
              "      <td>2023-03-11 08:03:00+00:00</td>\n",
              "      <td>59</td>\n",
              "      <td>NaN</td>\n",
              "    </tr>\n",
              "    <tr>\n",
              "      <th>11</th>\n",
              "      <td>2023-03-12</td>\n",
              "      <td>71</td>\n",
              "      <td>412</td>\n",
              "      <td>0</td>\n",
              "      <td>2023-03-11 23:26:00+00:00</td>\n",
              "      <td>2023-03-12 08:05:00+00:00</td>\n",
              "      <td>36</td>\n",
              "      <td>NaN</td>\n",
              "    </tr>\n",
              "    <tr>\n",
              "      <th>12</th>\n",
              "      <td>2023-03-13</td>\n",
              "      <td>100</td>\n",
              "      <td>285</td>\n",
              "      <td>0</td>\n",
              "      <td>2023-03-13 00:24:00+00:00</td>\n",
              "      <td>2023-03-13 08:05:00+00:00</td>\n",
              "      <td>76</td>\n",
              "      <td>NaN</td>\n",
              "    </tr>\n",
              "    <tr>\n",
              "      <th>13</th>\n",
              "      <td>2023-03-14</td>\n",
              "      <td>36</td>\n",
              "      <td>130</td>\n",
              "      <td>0</td>\n",
              "      <td>2023-03-14 04:48:00+00:00</td>\n",
              "      <td>2023-03-14 08:23:00+00:00</td>\n",
              "      <td>49</td>\n",
              "      <td>NaN</td>\n",
              "    </tr>\n",
              "  </tbody>\n",
              "</table>\n",
              "</div>\n",
              "      <button class=\"colab-df-convert\" onclick=\"convertToInteractive('df-cd78ebfb-b35c-4356-9231-a2bb017df38b')\"\n",
              "              title=\"Convert this dataframe to an interactive table.\"\n",
              "              style=\"display:none;\">\n",
              "        \n",
              "  <svg xmlns=\"http://www.w3.org/2000/svg\" height=\"24px\"viewBox=\"0 0 24 24\"\n",
              "       width=\"24px\">\n",
              "    <path d=\"M0 0h24v24H0V0z\" fill=\"none\"/>\n",
              "    <path d=\"M18.56 5.44l.94 2.06.94-2.06 2.06-.94-2.06-.94-.94-2.06-.94 2.06-2.06.94zm-11 1L8.5 8.5l.94-2.06 2.06-.94-2.06-.94L8.5 2.5l-.94 2.06-2.06.94zm10 10l.94 2.06.94-2.06 2.06-.94-2.06-.94-.94-2.06-.94 2.06-2.06.94z\"/><path d=\"M17.41 7.96l-1.37-1.37c-.4-.4-.92-.59-1.43-.59-.52 0-1.04.2-1.43.59L10.3 9.45l-7.72 7.72c-.78.78-.78 2.05 0 2.83L4 21.41c.39.39.9.59 1.41.59.51 0 1.02-.2 1.41-.59l7.78-7.78 2.81-2.81c.8-.78.8-2.07 0-2.86zM5.41 20L4 18.59l7.72-7.72 1.47 1.35L5.41 20z\"/>\n",
              "  </svg>\n",
              "      </button>\n",
              "      \n",
              "  <style>\n",
              "    .colab-df-container {\n",
              "      display:flex;\n",
              "      flex-wrap:wrap;\n",
              "      gap: 12px;\n",
              "    }\n",
              "\n",
              "    .colab-df-convert {\n",
              "      background-color: #E8F0FE;\n",
              "      border: none;\n",
              "      border-radius: 50%;\n",
              "      cursor: pointer;\n",
              "      display: none;\n",
              "      fill: #1967D2;\n",
              "      height: 32px;\n",
              "      padding: 0 0 0 0;\n",
              "      width: 32px;\n",
              "    }\n",
              "\n",
              "    .colab-df-convert:hover {\n",
              "      background-color: #E2EBFA;\n",
              "      box-shadow: 0px 1px 2px rgba(60, 64, 67, 0.3), 0px 1px 3px 1px rgba(60, 64, 67, 0.15);\n",
              "      fill: #174EA6;\n",
              "    }\n",
              "\n",
              "    [theme=dark] .colab-df-convert {\n",
              "      background-color: #3B4455;\n",
              "      fill: #D2E3FC;\n",
              "    }\n",
              "\n",
              "    [theme=dark] .colab-df-convert:hover {\n",
              "      background-color: #434B5C;\n",
              "      box-shadow: 0px 1px 3px 1px rgba(0, 0, 0, 0.15);\n",
              "      filter: drop-shadow(0px 1px 2px rgba(0, 0, 0, 0.3));\n",
              "      fill: #FFFFFF;\n",
              "    }\n",
              "  </style>\n",
              "\n",
              "      <script>\n",
              "        const buttonEl =\n",
              "          document.querySelector('#df-cd78ebfb-b35c-4356-9231-a2bb017df38b button.colab-df-convert');\n",
              "        buttonEl.style.display =\n",
              "          google.colab.kernel.accessAllowed ? 'block' : 'none';\n",
              "\n",
              "        async function convertToInteractive(key) {\n",
              "          const element = document.querySelector('#df-cd78ebfb-b35c-4356-9231-a2bb017df38b');\n",
              "          const dataTable =\n",
              "            await google.colab.kernel.invokeFunction('convertToInteractive',\n",
              "                                                     [key], {});\n",
              "          if (!dataTable) return;\n",
              "\n",
              "          const docLinkHtml = 'Like what you see? Visit the ' +\n",
              "            '<a target=\"_blank\" href=https://colab.research.google.com/notebooks/data_table.ipynb>data table notebook</a>'\n",
              "            + ' to learn more about interactive tables.';\n",
              "          element.innerHTML = '';\n",
              "          dataTable['output_type'] = 'display_data';\n",
              "          await google.colab.output.renderOutput(dataTable, element);\n",
              "          const docLink = document.createElement('div');\n",
              "          docLink.innerHTML = docLinkHtml;\n",
              "          element.appendChild(docLink);\n",
              "        }\n",
              "      </script>\n",
              "    </div>\n",
              "  </div>\n",
              "  "
            ]
          },
          "metadata": {},
          "execution_count": 67
        }
      ]
    },
    {
      "cell_type": "markdown",
      "source": [
        "Добавляем в данные переменную кислород в крови из другого датасета"
      ],
      "metadata": {
        "id": "sDQ6oLu28yP4"
      }
    },
    {
      "cell_type": "code",
      "source": [
        "spo2_data = pd.read_csv('/content/drive/MyDrive/Sleep_MO/14.03/data_spo2.csv')\n",
        "spo2_data.rename(columns=({\"Проценты\":\"spo\",\"Время\":\"time\",\"Дата\":\"date\"}),inplace=True)\n",
        "spo2_data"
      ],
      "metadata": {
        "colab": {
          "base_uri": "https://localhost:8080/",
          "height": 424
        },
        "id": "bJW0Sypk8s0-",
        "outputId": "9c0c7f46-aada-4ccb-d857-fc0654bf639a"
      },
      "execution_count": null,
      "outputs": [
        {
          "output_type": "execute_result",
          "data": {
            "text/plain": [
              "     spo   time        date\n",
              "0    99%   0:05  13.03.2023\n",
              "1    99%   0:10  13.03.2023\n",
              "2    95%   0:15  13.03.2023\n",
              "3    99%   0:25  13.03.2023\n",
              "4    98%   0:30  13.03.2023\n",
              "..   ...    ...         ...\n",
              "419  99%  23:35  11.03.2023\n",
              "420  99%  23:40  11.03.2023\n",
              "421  99%  23:45  11.03.2023\n",
              "422  97%  23:50  11.03.2023\n",
              "423  97%  23:55  11.03.2023\n",
              "\n",
              "[424 rows x 3 columns]"
            ],
            "text/html": [
              "\n",
              "  <div id=\"df-86ab0c96-8715-4ae9-9431-6611219664dc\">\n",
              "    <div class=\"colab-df-container\">\n",
              "      <div>\n",
              "<style scoped>\n",
              "    .dataframe tbody tr th:only-of-type {\n",
              "        vertical-align: middle;\n",
              "    }\n",
              "\n",
              "    .dataframe tbody tr th {\n",
              "        vertical-align: top;\n",
              "    }\n",
              "\n",
              "    .dataframe thead th {\n",
              "        text-align: right;\n",
              "    }\n",
              "</style>\n",
              "<table border=\"1\" class=\"dataframe\">\n",
              "  <thead>\n",
              "    <tr style=\"text-align: right;\">\n",
              "      <th></th>\n",
              "      <th>spo</th>\n",
              "      <th>time</th>\n",
              "      <th>date</th>\n",
              "    </tr>\n",
              "  </thead>\n",
              "  <tbody>\n",
              "    <tr>\n",
              "      <th>0</th>\n",
              "      <td>99%</td>\n",
              "      <td>0:05</td>\n",
              "      <td>13.03.2023</td>\n",
              "    </tr>\n",
              "    <tr>\n",
              "      <th>1</th>\n",
              "      <td>99%</td>\n",
              "      <td>0:10</td>\n",
              "      <td>13.03.2023</td>\n",
              "    </tr>\n",
              "    <tr>\n",
              "      <th>2</th>\n",
              "      <td>95%</td>\n",
              "      <td>0:15</td>\n",
              "      <td>13.03.2023</td>\n",
              "    </tr>\n",
              "    <tr>\n",
              "      <th>3</th>\n",
              "      <td>99%</td>\n",
              "      <td>0:25</td>\n",
              "      <td>13.03.2023</td>\n",
              "    </tr>\n",
              "    <tr>\n",
              "      <th>4</th>\n",
              "      <td>98%</td>\n",
              "      <td>0:30</td>\n",
              "      <td>13.03.2023</td>\n",
              "    </tr>\n",
              "    <tr>\n",
              "      <th>...</th>\n",
              "      <td>...</td>\n",
              "      <td>...</td>\n",
              "      <td>...</td>\n",
              "    </tr>\n",
              "    <tr>\n",
              "      <th>419</th>\n",
              "      <td>99%</td>\n",
              "      <td>23:35</td>\n",
              "      <td>11.03.2023</td>\n",
              "    </tr>\n",
              "    <tr>\n",
              "      <th>420</th>\n",
              "      <td>99%</td>\n",
              "      <td>23:40</td>\n",
              "      <td>11.03.2023</td>\n",
              "    </tr>\n",
              "    <tr>\n",
              "      <th>421</th>\n",
              "      <td>99%</td>\n",
              "      <td>23:45</td>\n",
              "      <td>11.03.2023</td>\n",
              "    </tr>\n",
              "    <tr>\n",
              "      <th>422</th>\n",
              "      <td>97%</td>\n",
              "      <td>23:50</td>\n",
              "      <td>11.03.2023</td>\n",
              "    </tr>\n",
              "    <tr>\n",
              "      <th>423</th>\n",
              "      <td>97%</td>\n",
              "      <td>23:55</td>\n",
              "      <td>11.03.2023</td>\n",
              "    </tr>\n",
              "  </tbody>\n",
              "</table>\n",
              "<p>424 rows × 3 columns</p>\n",
              "</div>\n",
              "      <button class=\"colab-df-convert\" onclick=\"convertToInteractive('df-86ab0c96-8715-4ae9-9431-6611219664dc')\"\n",
              "              title=\"Convert this dataframe to an interactive table.\"\n",
              "              style=\"display:none;\">\n",
              "        \n",
              "  <svg xmlns=\"http://www.w3.org/2000/svg\" height=\"24px\"viewBox=\"0 0 24 24\"\n",
              "       width=\"24px\">\n",
              "    <path d=\"M0 0h24v24H0V0z\" fill=\"none\"/>\n",
              "    <path d=\"M18.56 5.44l.94 2.06.94-2.06 2.06-.94-2.06-.94-.94-2.06-.94 2.06-2.06.94zm-11 1L8.5 8.5l.94-2.06 2.06-.94-2.06-.94L8.5 2.5l-.94 2.06-2.06.94zm10 10l.94 2.06.94-2.06 2.06-.94-2.06-.94-.94-2.06-.94 2.06-2.06.94z\"/><path d=\"M17.41 7.96l-1.37-1.37c-.4-.4-.92-.59-1.43-.59-.52 0-1.04.2-1.43.59L10.3 9.45l-7.72 7.72c-.78.78-.78 2.05 0 2.83L4 21.41c.39.39.9.59 1.41.59.51 0 1.02-.2 1.41-.59l7.78-7.78 2.81-2.81c.8-.78.8-2.07 0-2.86zM5.41 20L4 18.59l7.72-7.72 1.47 1.35L5.41 20z\"/>\n",
              "  </svg>\n",
              "      </button>\n",
              "      \n",
              "  <style>\n",
              "    .colab-df-container {\n",
              "      display:flex;\n",
              "      flex-wrap:wrap;\n",
              "      gap: 12px;\n",
              "    }\n",
              "\n",
              "    .colab-df-convert {\n",
              "      background-color: #E8F0FE;\n",
              "      border: none;\n",
              "      border-radius: 50%;\n",
              "      cursor: pointer;\n",
              "      display: none;\n",
              "      fill: #1967D2;\n",
              "      height: 32px;\n",
              "      padding: 0 0 0 0;\n",
              "      width: 32px;\n",
              "    }\n",
              "\n",
              "    .colab-df-convert:hover {\n",
              "      background-color: #E2EBFA;\n",
              "      box-shadow: 0px 1px 2px rgba(60, 64, 67, 0.3), 0px 1px 3px 1px rgba(60, 64, 67, 0.15);\n",
              "      fill: #174EA6;\n",
              "    }\n",
              "\n",
              "    [theme=dark] .colab-df-convert {\n",
              "      background-color: #3B4455;\n",
              "      fill: #D2E3FC;\n",
              "    }\n",
              "\n",
              "    [theme=dark] .colab-df-convert:hover {\n",
              "      background-color: #434B5C;\n",
              "      box-shadow: 0px 1px 3px 1px rgba(0, 0, 0, 0.15);\n",
              "      filter: drop-shadow(0px 1px 2px rgba(0, 0, 0, 0.3));\n",
              "      fill: #FFFFFF;\n",
              "    }\n",
              "  </style>\n",
              "\n",
              "      <script>\n",
              "        const buttonEl =\n",
              "          document.querySelector('#df-86ab0c96-8715-4ae9-9431-6611219664dc button.colab-df-convert');\n",
              "        buttonEl.style.display =\n",
              "          google.colab.kernel.accessAllowed ? 'block' : 'none';\n",
              "\n",
              "        async function convertToInteractive(key) {\n",
              "          const element = document.querySelector('#df-86ab0c96-8715-4ae9-9431-6611219664dc');\n",
              "          const dataTable =\n",
              "            await google.colab.kernel.invokeFunction('convertToInteractive',\n",
              "                                                     [key], {});\n",
              "          if (!dataTable) return;\n",
              "\n",
              "          const docLinkHtml = 'Like what you see? Visit the ' +\n",
              "            '<a target=\"_blank\" href=https://colab.research.google.com/notebooks/data_table.ipynb>data table notebook</a>'\n",
              "            + ' to learn more about interactive tables.';\n",
              "          element.innerHTML = '';\n",
              "          dataTable['output_type'] = 'display_data';\n",
              "          await google.colab.output.renderOutput(dataTable, element);\n",
              "          const docLink = document.createElement('div');\n",
              "          docLink.innerHTML = docLinkHtml;\n",
              "          element.appendChild(docLink);\n",
              "        }\n",
              "      </script>\n",
              "    </div>\n",
              "  </div>\n",
              "  "
            ]
          },
          "metadata": {},
          "execution_count": 17
        }
      ]
    },
    {
      "cell_type": "code",
      "source": [
        "spo2_data.info()"
      ],
      "metadata": {
        "colab": {
          "base_uri": "https://localhost:8080/"
        },
        "id": "ZOEH4D97-JJc",
        "outputId": "caf6007e-585c-4a59-ff0c-c4f7934eac99"
      },
      "execution_count": null,
      "outputs": [
        {
          "output_type": "stream",
          "name": "stdout",
          "text": [
            "<class 'pandas.core.frame.DataFrame'>\n",
            "RangeIndex: 424 entries, 0 to 423\n",
            "Data columns (total 3 columns):\n",
            " #   Column  Non-Null Count  Dtype \n",
            "---  ------  --------------  ----- \n",
            " 0   spo     424 non-null    object\n",
            " 1   time    424 non-null    object\n",
            " 2   date    424 non-null    object\n",
            "dtypes: object(3)\n",
            "memory usage: 10.1+ KB\n"
          ]
        }
      ]
    },
    {
      "cell_type": "code",
      "source": [
        "spo2_data.drop_duplicates(inplace=True)\n",
        "spo2_data.shape"
      ],
      "metadata": {
        "colab": {
          "base_uri": "https://localhost:8080/"
        },
        "id": "g8FpqeCJ8s4-",
        "outputId": "a1f8a853-112a-4181-97d9-acfe9f06fe8a"
      },
      "execution_count": null,
      "outputs": [
        {
          "output_type": "execute_result",
          "data": {
            "text/plain": [
              "(403, 3)"
            ]
          },
          "metadata": {},
          "execution_count": 19
        }
      ]
    },
    {
      "cell_type": "markdown",
      "source": [
        "Подготовим признак дата и время для объединения с другими датасетами"
      ],
      "metadata": {
        "id": "92fSIoTw-f41"
      }
    },
    {
      "cell_type": "code",
      "source": [
        "spo2_data.date = pd.to_datetime(spo2_data.date,infer_datetime_format=True)\n",
        "spo2_data['date_time'] = spo2_data[['date','time']].apply(lambda x: str(x[0]) + ' ' + str(x[1]),axis=1) \n",
        "spo2_data.date_time = pd.to_datetime(spo2_data.date_time)"
      ],
      "metadata": {
        "id": "Pd1BVSue8d0U"
      },
      "execution_count": null,
      "outputs": []
    },
    {
      "cell_type": "code",
      "source": [
        "spo2_data.date_time"
      ],
      "metadata": {
        "colab": {
          "base_uri": "https://localhost:8080/"
        },
        "id": "_Ln9FWot-aeF",
        "outputId": "75498427-6eb9-4ed4-edf2-246a80944818"
      },
      "execution_count": null,
      "outputs": [
        {
          "output_type": "execute_result",
          "data": {
            "text/plain": [
              "0     2023-03-13 00:05:00\n",
              "1     2023-03-13 00:10:00\n",
              "2     2023-03-13 00:15:00\n",
              "3     2023-03-13 00:25:00\n",
              "4     2023-03-13 00:30:00\n",
              "              ...        \n",
              "419   2023-03-11 23:35:00\n",
              "420   2023-03-11 23:40:00\n",
              "421   2023-03-11 23:45:00\n",
              "422   2023-03-11 23:50:00\n",
              "423   2023-03-11 23:55:00\n",
              "Name: date_time, Length: 403, dtype: datetime64[ns]"
            ]
          },
          "metadata": {},
          "execution_count": 22
        }
      ]
    },
    {
      "cell_type": "code",
      "source": [
        "spo2_data.date_time = pd.to_datetime(spo2_data.date_time, unit='s', utc=True)"
      ],
      "metadata": {
        "id": "nftFDe-E-fMi"
      },
      "execution_count": null,
      "outputs": []
    },
    {
      "cell_type": "markdown",
      "source": [
        "Объединяем датасеты в один"
      ],
      "metadata": {
        "id": "OjAlgzam-qaI"
      }
    },
    {
      "cell_type": "code",
      "source": [
        "dates = list(spo2_data.date.unique())\n",
        "df_spo2_ = pd.DataFrame()\n",
        "\n",
        "for date in dates:\n",
        "\n",
        "  start_times = spo2_data[spo2_data.date == date].date_time.min()\n",
        "  temp_time = start_times\n",
        "  \n",
        "  max_time = pd.to_datetime('2023-03-'+ str(start_times.day) + ' 23:55:00+0000')\n",
        "  all_times = list(spo2_data[spo2_data.date == date].date_time)\n",
        "\n",
        "  while temp_time!= max_time:\n",
        "    \n",
        "    temp_time += pd.Timedelta('00:05:00')\n",
        "    \n",
        "    if temp_time not in all_times:\n",
        "      row={'spo': 0,'time': np.NAN ,'date': date,'date_time':temp_time}\n",
        "      df_spo2_ = df_spo2_.append(row, ignore_index=True)\n",
        "    else:\n",
        "      df_spo2_ = df_spo2_.append(spo2_data[(spo2_data.date == date) & (spo2_data.date_time == temp_time)],ignore_index=True)"
      ],
      "metadata": {
        "id": "8QjNxkgF-oxP"
      },
      "execution_count": null,
      "outputs": []
    },
    {
      "cell_type": "code",
      "source": [
        "df_spo2_"
      ],
      "metadata": {
        "colab": {
          "base_uri": "https://localhost:8080/",
          "height": 424
        },
        "id": "k1rxhCvu-ozi",
        "outputId": "4866df15-52c2-4ec8-9ea3-9ec7b6636877"
      },
      "execution_count": null,
      "outputs": [
        {
          "output_type": "execute_result",
          "data": {
            "text/plain": [
              "      spo   time       date                 date_time\n",
              "0     99%   0:10 2023-03-13 2023-03-13 00:10:00+00:00\n",
              "1     95%   0:15 2023-03-13 2023-03-13 00:15:00+00:00\n",
              "2       0    NaN 2023-03-13 2023-03-13 00:20:00+00:00\n",
              "3     99%   0:25 2023-03-13 2023-03-13 00:25:00+00:00\n",
              "4     98%   0:30 2023-03-13 2023-03-13 00:30:00+00:00\n",
              "...   ...    ...        ...                       ...\n",
              "1268  99%  23:35 2023-03-11 2023-03-11 23:35:00+00:00\n",
              "1269  99%  23:40 2023-03-11 2023-03-11 23:40:00+00:00\n",
              "1270  99%  23:45 2023-03-11 2023-03-11 23:45:00+00:00\n",
              "1271  97%  23:50 2023-03-11 2023-03-11 23:50:00+00:00\n",
              "1272  97%  23:55 2023-03-11 2023-03-11 23:55:00+00:00\n",
              "\n",
              "[1273 rows x 4 columns]"
            ],
            "text/html": [
              "\n",
              "  <div id=\"df-257da6d0-814c-4f71-8dbd-c4ab66c0e3dc\">\n",
              "    <div class=\"colab-df-container\">\n",
              "      <div>\n",
              "<style scoped>\n",
              "    .dataframe tbody tr th:only-of-type {\n",
              "        vertical-align: middle;\n",
              "    }\n",
              "\n",
              "    .dataframe tbody tr th {\n",
              "        vertical-align: top;\n",
              "    }\n",
              "\n",
              "    .dataframe thead th {\n",
              "        text-align: right;\n",
              "    }\n",
              "</style>\n",
              "<table border=\"1\" class=\"dataframe\">\n",
              "  <thead>\n",
              "    <tr style=\"text-align: right;\">\n",
              "      <th></th>\n",
              "      <th>spo</th>\n",
              "      <th>time</th>\n",
              "      <th>date</th>\n",
              "      <th>date_time</th>\n",
              "    </tr>\n",
              "  </thead>\n",
              "  <tbody>\n",
              "    <tr>\n",
              "      <th>0</th>\n",
              "      <td>99%</td>\n",
              "      <td>0:10</td>\n",
              "      <td>2023-03-13</td>\n",
              "      <td>2023-03-13 00:10:00+00:00</td>\n",
              "    </tr>\n",
              "    <tr>\n",
              "      <th>1</th>\n",
              "      <td>95%</td>\n",
              "      <td>0:15</td>\n",
              "      <td>2023-03-13</td>\n",
              "      <td>2023-03-13 00:15:00+00:00</td>\n",
              "    </tr>\n",
              "    <tr>\n",
              "      <th>2</th>\n",
              "      <td>0</td>\n",
              "      <td>NaN</td>\n",
              "      <td>2023-03-13</td>\n",
              "      <td>2023-03-13 00:20:00+00:00</td>\n",
              "    </tr>\n",
              "    <tr>\n",
              "      <th>3</th>\n",
              "      <td>99%</td>\n",
              "      <td>0:25</td>\n",
              "      <td>2023-03-13</td>\n",
              "      <td>2023-03-13 00:25:00+00:00</td>\n",
              "    </tr>\n",
              "    <tr>\n",
              "      <th>4</th>\n",
              "      <td>98%</td>\n",
              "      <td>0:30</td>\n",
              "      <td>2023-03-13</td>\n",
              "      <td>2023-03-13 00:30:00+00:00</td>\n",
              "    </tr>\n",
              "    <tr>\n",
              "      <th>...</th>\n",
              "      <td>...</td>\n",
              "      <td>...</td>\n",
              "      <td>...</td>\n",
              "      <td>...</td>\n",
              "    </tr>\n",
              "    <tr>\n",
              "      <th>1268</th>\n",
              "      <td>99%</td>\n",
              "      <td>23:35</td>\n",
              "      <td>2023-03-11</td>\n",
              "      <td>2023-03-11 23:35:00+00:00</td>\n",
              "    </tr>\n",
              "    <tr>\n",
              "      <th>1269</th>\n",
              "      <td>99%</td>\n",
              "      <td>23:40</td>\n",
              "      <td>2023-03-11</td>\n",
              "      <td>2023-03-11 23:40:00+00:00</td>\n",
              "    </tr>\n",
              "    <tr>\n",
              "      <th>1270</th>\n",
              "      <td>99%</td>\n",
              "      <td>23:45</td>\n",
              "      <td>2023-03-11</td>\n",
              "      <td>2023-03-11 23:45:00+00:00</td>\n",
              "    </tr>\n",
              "    <tr>\n",
              "      <th>1271</th>\n",
              "      <td>97%</td>\n",
              "      <td>23:50</td>\n",
              "      <td>2023-03-11</td>\n",
              "      <td>2023-03-11 23:50:00+00:00</td>\n",
              "    </tr>\n",
              "    <tr>\n",
              "      <th>1272</th>\n",
              "      <td>97%</td>\n",
              "      <td>23:55</td>\n",
              "      <td>2023-03-11</td>\n",
              "      <td>2023-03-11 23:55:00+00:00</td>\n",
              "    </tr>\n",
              "  </tbody>\n",
              "</table>\n",
              "<p>1273 rows × 4 columns</p>\n",
              "</div>\n",
              "      <button class=\"colab-df-convert\" onclick=\"convertToInteractive('df-257da6d0-814c-4f71-8dbd-c4ab66c0e3dc')\"\n",
              "              title=\"Convert this dataframe to an interactive table.\"\n",
              "              style=\"display:none;\">\n",
              "        \n",
              "  <svg xmlns=\"http://www.w3.org/2000/svg\" height=\"24px\"viewBox=\"0 0 24 24\"\n",
              "       width=\"24px\">\n",
              "    <path d=\"M0 0h24v24H0V0z\" fill=\"none\"/>\n",
              "    <path d=\"M18.56 5.44l.94 2.06.94-2.06 2.06-.94-2.06-.94-.94-2.06-.94 2.06-2.06.94zm-11 1L8.5 8.5l.94-2.06 2.06-.94-2.06-.94L8.5 2.5l-.94 2.06-2.06.94zm10 10l.94 2.06.94-2.06 2.06-.94-2.06-.94-.94-2.06-.94 2.06-2.06.94z\"/><path d=\"M17.41 7.96l-1.37-1.37c-.4-.4-.92-.59-1.43-.59-.52 0-1.04.2-1.43.59L10.3 9.45l-7.72 7.72c-.78.78-.78 2.05 0 2.83L4 21.41c.39.39.9.59 1.41.59.51 0 1.02-.2 1.41-.59l7.78-7.78 2.81-2.81c.8-.78.8-2.07 0-2.86zM5.41 20L4 18.59l7.72-7.72 1.47 1.35L5.41 20z\"/>\n",
              "  </svg>\n",
              "      </button>\n",
              "      \n",
              "  <style>\n",
              "    .colab-df-container {\n",
              "      display:flex;\n",
              "      flex-wrap:wrap;\n",
              "      gap: 12px;\n",
              "    }\n",
              "\n",
              "    .colab-df-convert {\n",
              "      background-color: #E8F0FE;\n",
              "      border: none;\n",
              "      border-radius: 50%;\n",
              "      cursor: pointer;\n",
              "      display: none;\n",
              "      fill: #1967D2;\n",
              "      height: 32px;\n",
              "      padding: 0 0 0 0;\n",
              "      width: 32px;\n",
              "    }\n",
              "\n",
              "    .colab-df-convert:hover {\n",
              "      background-color: #E2EBFA;\n",
              "      box-shadow: 0px 1px 2px rgba(60, 64, 67, 0.3), 0px 1px 3px 1px rgba(60, 64, 67, 0.15);\n",
              "      fill: #174EA6;\n",
              "    }\n",
              "\n",
              "    [theme=dark] .colab-df-convert {\n",
              "      background-color: #3B4455;\n",
              "      fill: #D2E3FC;\n",
              "    }\n",
              "\n",
              "    [theme=dark] .colab-df-convert:hover {\n",
              "      background-color: #434B5C;\n",
              "      box-shadow: 0px 1px 3px 1px rgba(0, 0, 0, 0.15);\n",
              "      filter: drop-shadow(0px 1px 2px rgba(0, 0, 0, 0.3));\n",
              "      fill: #FFFFFF;\n",
              "    }\n",
              "  </style>\n",
              "\n",
              "      <script>\n",
              "        const buttonEl =\n",
              "          document.querySelector('#df-257da6d0-814c-4f71-8dbd-c4ab66c0e3dc button.colab-df-convert');\n",
              "        buttonEl.style.display =\n",
              "          google.colab.kernel.accessAllowed ? 'block' : 'none';\n",
              "\n",
              "        async function convertToInteractive(key) {\n",
              "          const element = document.querySelector('#df-257da6d0-814c-4f71-8dbd-c4ab66c0e3dc');\n",
              "          const dataTable =\n",
              "            await google.colab.kernel.invokeFunction('convertToInteractive',\n",
              "                                                     [key], {});\n",
              "          if (!dataTable) return;\n",
              "\n",
              "          const docLinkHtml = 'Like what you see? Visit the ' +\n",
              "            '<a target=\"_blank\" href=https://colab.research.google.com/notebooks/data_table.ipynb>data table notebook</a>'\n",
              "            + ' to learn more about interactive tables.';\n",
              "          element.innerHTML = '';\n",
              "          dataTable['output_type'] = 'display_data';\n",
              "          await google.colab.output.renderOutput(dataTable, element);\n",
              "          const docLink = document.createElement('div');\n",
              "          docLink.innerHTML = docLinkHtml;\n",
              "          element.appendChild(docLink);\n",
              "        }\n",
              "      </script>\n",
              "    </div>\n",
              "  </div>\n",
              "  "
            ]
          },
          "metadata": {},
          "execution_count": 27
        }
      ]
    },
    {
      "cell_type": "code",
      "source": [
        "df_spo2_.time = df_spo2_.date_time.dt.time\n",
        "df_spo2_.spo = df_spo2_.spo.str.replace('%', '').fillna(method='ffill').astype(int)\n",
        "df_spo2_.head()"
      ],
      "metadata": {
        "colab": {
          "base_uri": "https://localhost:8080/",
          "height": 206
        },
        "id": "uSuiO6S6-o14",
        "outputId": "ba65a607-f004-4705-e5e0-b4bbcf48845c"
      },
      "execution_count": null,
      "outputs": [
        {
          "output_type": "execute_result",
          "data": {
            "text/plain": [
              "   spo      time       date                 date_time\n",
              "0   99  00:10:00 2023-03-13 2023-03-13 00:10:00+00:00\n",
              "1   95  00:15:00 2023-03-13 2023-03-13 00:15:00+00:00\n",
              "2   95  00:20:00 2023-03-13 2023-03-13 00:20:00+00:00\n",
              "3   99  00:25:00 2023-03-13 2023-03-13 00:25:00+00:00\n",
              "4   98  00:30:00 2023-03-13 2023-03-13 00:30:00+00:00"
            ],
            "text/html": [
              "\n",
              "  <div id=\"df-e145f06a-2872-4e25-99c6-e34a6d639e0f\">\n",
              "    <div class=\"colab-df-container\">\n",
              "      <div>\n",
              "<style scoped>\n",
              "    .dataframe tbody tr th:only-of-type {\n",
              "        vertical-align: middle;\n",
              "    }\n",
              "\n",
              "    .dataframe tbody tr th {\n",
              "        vertical-align: top;\n",
              "    }\n",
              "\n",
              "    .dataframe thead th {\n",
              "        text-align: right;\n",
              "    }\n",
              "</style>\n",
              "<table border=\"1\" class=\"dataframe\">\n",
              "  <thead>\n",
              "    <tr style=\"text-align: right;\">\n",
              "      <th></th>\n",
              "      <th>spo</th>\n",
              "      <th>time</th>\n",
              "      <th>date</th>\n",
              "      <th>date_time</th>\n",
              "    </tr>\n",
              "  </thead>\n",
              "  <tbody>\n",
              "    <tr>\n",
              "      <th>0</th>\n",
              "      <td>99</td>\n",
              "      <td>00:10:00</td>\n",
              "      <td>2023-03-13</td>\n",
              "      <td>2023-03-13 00:10:00+00:00</td>\n",
              "    </tr>\n",
              "    <tr>\n",
              "      <th>1</th>\n",
              "      <td>95</td>\n",
              "      <td>00:15:00</td>\n",
              "      <td>2023-03-13</td>\n",
              "      <td>2023-03-13 00:15:00+00:00</td>\n",
              "    </tr>\n",
              "    <tr>\n",
              "      <th>2</th>\n",
              "      <td>95</td>\n",
              "      <td>00:20:00</td>\n",
              "      <td>2023-03-13</td>\n",
              "      <td>2023-03-13 00:20:00+00:00</td>\n",
              "    </tr>\n",
              "    <tr>\n",
              "      <th>3</th>\n",
              "      <td>99</td>\n",
              "      <td>00:25:00</td>\n",
              "      <td>2023-03-13</td>\n",
              "      <td>2023-03-13 00:25:00+00:00</td>\n",
              "    </tr>\n",
              "    <tr>\n",
              "      <th>4</th>\n",
              "      <td>98</td>\n",
              "      <td>00:30:00</td>\n",
              "      <td>2023-03-13</td>\n",
              "      <td>2023-03-13 00:30:00+00:00</td>\n",
              "    </tr>\n",
              "  </tbody>\n",
              "</table>\n",
              "</div>\n",
              "      <button class=\"colab-df-convert\" onclick=\"convertToInteractive('df-e145f06a-2872-4e25-99c6-e34a6d639e0f')\"\n",
              "              title=\"Convert this dataframe to an interactive table.\"\n",
              "              style=\"display:none;\">\n",
              "        \n",
              "  <svg xmlns=\"http://www.w3.org/2000/svg\" height=\"24px\"viewBox=\"0 0 24 24\"\n",
              "       width=\"24px\">\n",
              "    <path d=\"M0 0h24v24H0V0z\" fill=\"none\"/>\n",
              "    <path d=\"M18.56 5.44l.94 2.06.94-2.06 2.06-.94-2.06-.94-.94-2.06-.94 2.06-2.06.94zm-11 1L8.5 8.5l.94-2.06 2.06-.94-2.06-.94L8.5 2.5l-.94 2.06-2.06.94zm10 10l.94 2.06.94-2.06 2.06-.94-2.06-.94-.94-2.06-.94 2.06-2.06.94z\"/><path d=\"M17.41 7.96l-1.37-1.37c-.4-.4-.92-.59-1.43-.59-.52 0-1.04.2-1.43.59L10.3 9.45l-7.72 7.72c-.78.78-.78 2.05 0 2.83L4 21.41c.39.39.9.59 1.41.59.51 0 1.02-.2 1.41-.59l7.78-7.78 2.81-2.81c.8-.78.8-2.07 0-2.86zM5.41 20L4 18.59l7.72-7.72 1.47 1.35L5.41 20z\"/>\n",
              "  </svg>\n",
              "      </button>\n",
              "      \n",
              "  <style>\n",
              "    .colab-df-container {\n",
              "      display:flex;\n",
              "      flex-wrap:wrap;\n",
              "      gap: 12px;\n",
              "    }\n",
              "\n",
              "    .colab-df-convert {\n",
              "      background-color: #E8F0FE;\n",
              "      border: none;\n",
              "      border-radius: 50%;\n",
              "      cursor: pointer;\n",
              "      display: none;\n",
              "      fill: #1967D2;\n",
              "      height: 32px;\n",
              "      padding: 0 0 0 0;\n",
              "      width: 32px;\n",
              "    }\n",
              "\n",
              "    .colab-df-convert:hover {\n",
              "      background-color: #E2EBFA;\n",
              "      box-shadow: 0px 1px 2px rgba(60, 64, 67, 0.3), 0px 1px 3px 1px rgba(60, 64, 67, 0.15);\n",
              "      fill: #174EA6;\n",
              "    }\n",
              "\n",
              "    [theme=dark] .colab-df-convert {\n",
              "      background-color: #3B4455;\n",
              "      fill: #D2E3FC;\n",
              "    }\n",
              "\n",
              "    [theme=dark] .colab-df-convert:hover {\n",
              "      background-color: #434B5C;\n",
              "      box-shadow: 0px 1px 3px 1px rgba(0, 0, 0, 0.15);\n",
              "      filter: drop-shadow(0px 1px 2px rgba(0, 0, 0, 0.3));\n",
              "      fill: #FFFFFF;\n",
              "    }\n",
              "  </style>\n",
              "\n",
              "      <script>\n",
              "        const buttonEl =\n",
              "          document.querySelector('#df-e145f06a-2872-4e25-99c6-e34a6d639e0f button.colab-df-convert');\n",
              "        buttonEl.style.display =\n",
              "          google.colab.kernel.accessAllowed ? 'block' : 'none';\n",
              "\n",
              "        async function convertToInteractive(key) {\n",
              "          const element = document.querySelector('#df-e145f06a-2872-4e25-99c6-e34a6d639e0f');\n",
              "          const dataTable =\n",
              "            await google.colab.kernel.invokeFunction('convertToInteractive',\n",
              "                                                     [key], {});\n",
              "          if (!dataTable) return;\n",
              "\n",
              "          const docLinkHtml = 'Like what you see? Visit the ' +\n",
              "            '<a target=\"_blank\" href=https://colab.research.google.com/notebooks/data_table.ipynb>data table notebook</a>'\n",
              "            + ' to learn more about interactive tables.';\n",
              "          element.innerHTML = '';\n",
              "          dataTable['output_type'] = 'display_data';\n",
              "          await google.colab.output.renderOutput(dataTable, element);\n",
              "          const docLink = document.createElement('div');\n",
              "          docLink.innerHTML = docLinkHtml;\n",
              "          element.appendChild(docLink);\n",
              "        }\n",
              "      </script>\n",
              "    </div>\n",
              "  </div>\n",
              "  "
            ]
          },
          "metadata": {},
          "execution_count": 28
        }
      ]
    },
    {
      "cell_type": "code",
      "source": [
        "df_spo2_.info()"
      ],
      "metadata": {
        "colab": {
          "base_uri": "https://localhost:8080/"
        },
        "id": "3bAqTTX5BRRa",
        "outputId": "41646f7a-2ad2-4bb1-ae7b-f323dca4ac0e"
      },
      "execution_count": null,
      "outputs": [
        {
          "output_type": "stream",
          "name": "stdout",
          "text": [
            "<class 'pandas.core.frame.DataFrame'>\n",
            "RangeIndex: 1273 entries, 0 to 1272\n",
            "Data columns (total 4 columns):\n",
            " #   Column     Non-Null Count  Dtype              \n",
            "---  ------     --------------  -----              \n",
            " 0   spo        1273 non-null   int64              \n",
            " 1   time       1273 non-null   object             \n",
            " 2   date       1273 non-null   datetime64[ns]     \n",
            " 3   date_time  1273 non-null   datetime64[ns, UTC]\n",
            "dtypes: datetime64[ns, UTC](1), datetime64[ns](1), int64(1), object(1)\n",
            "memory usage: 39.9+ KB\n"
          ]
        }
      ]
    },
    {
      "cell_type": "markdown",
      "source": [
        "Добавляем пульс "
      ],
      "metadata": {
        "id": "5Kmrke3qBrOh"
      }
    },
    {
      "cell_type": "code",
      "source": [
        "df_spo2_ = df_spo2_.merge(df_pulses, how = 'left', on=['date','time','date_time'])\n",
        "df_spo2_"
      ],
      "metadata": {
        "colab": {
          "base_uri": "https://localhost:8080/",
          "height": 424
        },
        "id": "TcCX9WF2BVRC",
        "outputId": "a7f4c754-44f6-443a-8ad5-585b79d91ca5"
      },
      "execution_count": null,
      "outputs": [
        {
          "output_type": "execute_result",
          "data": {
            "text/plain": [
              "      spo      time       date                 date_time  heartRate\n",
              "0      99  00:10:00 2023-03-13 2023-03-13 00:10:00+00:00        NaN\n",
              "1      95  00:15:00 2023-03-13 2023-03-13 00:15:00+00:00        NaN\n",
              "2      95  00:20:00 2023-03-13 2023-03-13 00:20:00+00:00        NaN\n",
              "3      99  00:25:00 2023-03-13 2023-03-13 00:25:00+00:00        NaN\n",
              "4      98  00:30:00 2023-03-13 2023-03-13 00:30:00+00:00        NaN\n",
              "...   ...       ...        ...                       ...        ...\n",
              "1268   99  23:35:00 2023-03-11 2023-03-11 23:35:00+00:00        NaN\n",
              "1269   99  23:40:00 2023-03-11 2023-03-11 23:40:00+00:00       83.0\n",
              "1270   99  23:45:00 2023-03-11 2023-03-11 23:45:00+00:00       80.0\n",
              "1271   97  23:50:00 2023-03-11 2023-03-11 23:50:00+00:00       78.0\n",
              "1272   97  23:55:00 2023-03-11 2023-03-11 23:55:00+00:00       79.0\n",
              "\n",
              "[1273 rows x 5 columns]"
            ],
            "text/html": [
              "\n",
              "  <div id=\"df-cb9b049a-7a4d-49e3-b519-0d33cbb0c932\">\n",
              "    <div class=\"colab-df-container\">\n",
              "      <div>\n",
              "<style scoped>\n",
              "    .dataframe tbody tr th:only-of-type {\n",
              "        vertical-align: middle;\n",
              "    }\n",
              "\n",
              "    .dataframe tbody tr th {\n",
              "        vertical-align: top;\n",
              "    }\n",
              "\n",
              "    .dataframe thead th {\n",
              "        text-align: right;\n",
              "    }\n",
              "</style>\n",
              "<table border=\"1\" class=\"dataframe\">\n",
              "  <thead>\n",
              "    <tr style=\"text-align: right;\">\n",
              "      <th></th>\n",
              "      <th>spo</th>\n",
              "      <th>time</th>\n",
              "      <th>date</th>\n",
              "      <th>date_time</th>\n",
              "      <th>heartRate</th>\n",
              "    </tr>\n",
              "  </thead>\n",
              "  <tbody>\n",
              "    <tr>\n",
              "      <th>0</th>\n",
              "      <td>99</td>\n",
              "      <td>00:10:00</td>\n",
              "      <td>2023-03-13</td>\n",
              "      <td>2023-03-13 00:10:00+00:00</td>\n",
              "      <td>NaN</td>\n",
              "    </tr>\n",
              "    <tr>\n",
              "      <th>1</th>\n",
              "      <td>95</td>\n",
              "      <td>00:15:00</td>\n",
              "      <td>2023-03-13</td>\n",
              "      <td>2023-03-13 00:15:00+00:00</td>\n",
              "      <td>NaN</td>\n",
              "    </tr>\n",
              "    <tr>\n",
              "      <th>2</th>\n",
              "      <td>95</td>\n",
              "      <td>00:20:00</td>\n",
              "      <td>2023-03-13</td>\n",
              "      <td>2023-03-13 00:20:00+00:00</td>\n",
              "      <td>NaN</td>\n",
              "    </tr>\n",
              "    <tr>\n",
              "      <th>3</th>\n",
              "      <td>99</td>\n",
              "      <td>00:25:00</td>\n",
              "      <td>2023-03-13</td>\n",
              "      <td>2023-03-13 00:25:00+00:00</td>\n",
              "      <td>NaN</td>\n",
              "    </tr>\n",
              "    <tr>\n",
              "      <th>4</th>\n",
              "      <td>98</td>\n",
              "      <td>00:30:00</td>\n",
              "      <td>2023-03-13</td>\n",
              "      <td>2023-03-13 00:30:00+00:00</td>\n",
              "      <td>NaN</td>\n",
              "    </tr>\n",
              "    <tr>\n",
              "      <th>...</th>\n",
              "      <td>...</td>\n",
              "      <td>...</td>\n",
              "      <td>...</td>\n",
              "      <td>...</td>\n",
              "      <td>...</td>\n",
              "    </tr>\n",
              "    <tr>\n",
              "      <th>1268</th>\n",
              "      <td>99</td>\n",
              "      <td>23:35:00</td>\n",
              "      <td>2023-03-11</td>\n",
              "      <td>2023-03-11 23:35:00+00:00</td>\n",
              "      <td>NaN</td>\n",
              "    </tr>\n",
              "    <tr>\n",
              "      <th>1269</th>\n",
              "      <td>99</td>\n",
              "      <td>23:40:00</td>\n",
              "      <td>2023-03-11</td>\n",
              "      <td>2023-03-11 23:40:00+00:00</td>\n",
              "      <td>83.0</td>\n",
              "    </tr>\n",
              "    <tr>\n",
              "      <th>1270</th>\n",
              "      <td>99</td>\n",
              "      <td>23:45:00</td>\n",
              "      <td>2023-03-11</td>\n",
              "      <td>2023-03-11 23:45:00+00:00</td>\n",
              "      <td>80.0</td>\n",
              "    </tr>\n",
              "    <tr>\n",
              "      <th>1271</th>\n",
              "      <td>97</td>\n",
              "      <td>23:50:00</td>\n",
              "      <td>2023-03-11</td>\n",
              "      <td>2023-03-11 23:50:00+00:00</td>\n",
              "      <td>78.0</td>\n",
              "    </tr>\n",
              "    <tr>\n",
              "      <th>1272</th>\n",
              "      <td>97</td>\n",
              "      <td>23:55:00</td>\n",
              "      <td>2023-03-11</td>\n",
              "      <td>2023-03-11 23:55:00+00:00</td>\n",
              "      <td>79.0</td>\n",
              "    </tr>\n",
              "  </tbody>\n",
              "</table>\n",
              "<p>1273 rows × 5 columns</p>\n",
              "</div>\n",
              "      <button class=\"colab-df-convert\" onclick=\"convertToInteractive('df-cb9b049a-7a4d-49e3-b519-0d33cbb0c932')\"\n",
              "              title=\"Convert this dataframe to an interactive table.\"\n",
              "              style=\"display:none;\">\n",
              "        \n",
              "  <svg xmlns=\"http://www.w3.org/2000/svg\" height=\"24px\"viewBox=\"0 0 24 24\"\n",
              "       width=\"24px\">\n",
              "    <path d=\"M0 0h24v24H0V0z\" fill=\"none\"/>\n",
              "    <path d=\"M18.56 5.44l.94 2.06.94-2.06 2.06-.94-2.06-.94-.94-2.06-.94 2.06-2.06.94zm-11 1L8.5 8.5l.94-2.06 2.06-.94-2.06-.94L8.5 2.5l-.94 2.06-2.06.94zm10 10l.94 2.06.94-2.06 2.06-.94-2.06-.94-.94-2.06-.94 2.06-2.06.94z\"/><path d=\"M17.41 7.96l-1.37-1.37c-.4-.4-.92-.59-1.43-.59-.52 0-1.04.2-1.43.59L10.3 9.45l-7.72 7.72c-.78.78-.78 2.05 0 2.83L4 21.41c.39.39.9.59 1.41.59.51 0 1.02-.2 1.41-.59l7.78-7.78 2.81-2.81c.8-.78.8-2.07 0-2.86zM5.41 20L4 18.59l7.72-7.72 1.47 1.35L5.41 20z\"/>\n",
              "  </svg>\n",
              "      </button>\n",
              "      \n",
              "  <style>\n",
              "    .colab-df-container {\n",
              "      display:flex;\n",
              "      flex-wrap:wrap;\n",
              "      gap: 12px;\n",
              "    }\n",
              "\n",
              "    .colab-df-convert {\n",
              "      background-color: #E8F0FE;\n",
              "      border: none;\n",
              "      border-radius: 50%;\n",
              "      cursor: pointer;\n",
              "      display: none;\n",
              "      fill: #1967D2;\n",
              "      height: 32px;\n",
              "      padding: 0 0 0 0;\n",
              "      width: 32px;\n",
              "    }\n",
              "\n",
              "    .colab-df-convert:hover {\n",
              "      background-color: #E2EBFA;\n",
              "      box-shadow: 0px 1px 2px rgba(60, 64, 67, 0.3), 0px 1px 3px 1px rgba(60, 64, 67, 0.15);\n",
              "      fill: #174EA6;\n",
              "    }\n",
              "\n",
              "    [theme=dark] .colab-df-convert {\n",
              "      background-color: #3B4455;\n",
              "      fill: #D2E3FC;\n",
              "    }\n",
              "\n",
              "    [theme=dark] .colab-df-convert:hover {\n",
              "      background-color: #434B5C;\n",
              "      box-shadow: 0px 1px 3px 1px rgba(0, 0, 0, 0.15);\n",
              "      filter: drop-shadow(0px 1px 2px rgba(0, 0, 0, 0.3));\n",
              "      fill: #FFFFFF;\n",
              "    }\n",
              "  </style>\n",
              "\n",
              "      <script>\n",
              "        const buttonEl =\n",
              "          document.querySelector('#df-cb9b049a-7a4d-49e3-b519-0d33cbb0c932 button.colab-df-convert');\n",
              "        buttonEl.style.display =\n",
              "          google.colab.kernel.accessAllowed ? 'block' : 'none';\n",
              "\n",
              "        async function convertToInteractive(key) {\n",
              "          const element = document.querySelector('#df-cb9b049a-7a4d-49e3-b519-0d33cbb0c932');\n",
              "          const dataTable =\n",
              "            await google.colab.kernel.invokeFunction('convertToInteractive',\n",
              "                                                     [key], {});\n",
              "          if (!dataTable) return;\n",
              "\n",
              "          const docLinkHtml = 'Like what you see? Visit the ' +\n",
              "            '<a target=\"_blank\" href=https://colab.research.google.com/notebooks/data_table.ipynb>data table notebook</a>'\n",
              "            + ' to learn more about interactive tables.';\n",
              "          element.innerHTML = '';\n",
              "          dataTable['output_type'] = 'display_data';\n",
              "          await google.colab.output.renderOutput(dataTable, element);\n",
              "          const docLink = document.createElement('div');\n",
              "          docLink.innerHTML = docLinkHtml;\n",
              "          element.appendChild(docLink);\n",
              "        }\n",
              "      </script>\n",
              "    </div>\n",
              "  </div>\n",
              "  "
            ]
          },
          "metadata": {},
          "execution_count": 57
        }
      ]
    },
    {
      "cell_type": "code",
      "source": [
        "df_spo2_.heartRate = df_spo2_[['date','date_time']].apply(lambda x: df_pulses[(df_pulses.date == x.date) & (df_pulses.date_time <= (x.date_time)) & (df_pulses.date_time >= (x.date_time - pd.Timedelta('00:10:00')))].heartRate.mean() \n",
        "                                     ,axis=1)"
      ],
      "metadata": {
        "id": "F7q8XOFiBims"
      },
      "execution_count": null,
      "outputs": []
    },
    {
      "cell_type": "code",
      "source": [
        "df_spo2_.info()"
      ],
      "metadata": {
        "colab": {
          "base_uri": "https://localhost:8080/"
        },
        "id": "DTCvxBUqK4qx",
        "outputId": "69243dbd-05d6-4c83-d380-907e9528913a"
      },
      "execution_count": null,
      "outputs": [
        {
          "output_type": "stream",
          "name": "stdout",
          "text": [
            "<class 'pandas.core.frame.DataFrame'>\n",
            "Int64Index: 1273 entries, 0 to 1272\n",
            "Data columns (total 5 columns):\n",
            " #   Column     Non-Null Count  Dtype              \n",
            "---  ------     --------------  -----              \n",
            " 0   spo        1273 non-null   int64              \n",
            " 1   time       1273 non-null   object             \n",
            " 2   date       1273 non-null   datetime64[ns]     \n",
            " 3   date_time  1273 non-null   datetime64[ns, UTC]\n",
            " 4   heartRate  1084 non-null   float64            \n",
            "dtypes: datetime64[ns, UTC](1), datetime64[ns](1), float64(1), int64(1), object(1)\n",
            "memory usage: 59.7+ KB\n"
          ]
        }
      ]
    },
    {
      "cell_type": "code",
      "source": [
        "df_spo2_.heartRate.fillna(method='bfill',inplace=True)\n",
        "df_spo2_.info()"
      ],
      "metadata": {
        "colab": {
          "base_uri": "https://localhost:8080/"
        },
        "id": "vh8a6m7WK9tl",
        "outputId": "66272eed-2263-48c0-a686-8cb6175d9795"
      },
      "execution_count": null,
      "outputs": [
        {
          "output_type": "stream",
          "name": "stdout",
          "text": [
            "<class 'pandas.core.frame.DataFrame'>\n",
            "Int64Index: 1273 entries, 0 to 1272\n",
            "Data columns (total 5 columns):\n",
            " #   Column     Non-Null Count  Dtype              \n",
            "---  ------     --------------  -----              \n",
            " 0   spo        1273 non-null   int64              \n",
            " 1   time       1273 non-null   object             \n",
            " 2   date       1273 non-null   datetime64[ns]     \n",
            " 3   date_time  1273 non-null   datetime64[ns, UTC]\n",
            " 4   heartRate  1273 non-null   float64            \n",
            "dtypes: datetime64[ns, UTC](1), datetime64[ns](1), float64(1), int64(1), object(1)\n",
            "memory usage: 59.7+ KB\n"
          ]
        }
      ]
    },
    {
      "cell_type": "markdown",
      "source": [
        "Добавляем целевую переменную"
      ],
      "metadata": {
        "id": "YSSlIa-0LB4x"
      }
    },
    {
      "cell_type": "code",
      "source": [
        "df_spo2_['sleep'] = 0\n",
        "\n",
        "for dat in dates:\n",
        "  start_time = pd.to_datetime(df_sleeps[df_sleeps.date==dat].start.values[0], unit='s', utc=True)\n",
        "  stop_time = pd.to_datetime(df_sleeps[df_sleeps.date==dat].stop.values[0], unit='s', utc=True)\n",
        "  print(start_time,stop_time)\n",
        "  df_spo2_.loc[((df_spo2_.date_time >= start_time) & (df_spo2_.date_time   <= stop_time)),'sleep'] = 1 \n",
        "\n",
        "df_spo2_"
      ],
      "metadata": {
        "colab": {
          "base_uri": "https://localhost:8080/",
          "height": 515
        },
        "id": "pAXrG1wJLAA1",
        "outputId": "cab56205-2680-43f9-b7fc-f335a1a7e204"
      },
      "execution_count": null,
      "outputs": [
        {
          "output_type": "stream",
          "name": "stdout",
          "text": [
            "2023-03-13 00:24:00+00:00 2023-03-13 08:05:00+00:00\n",
            "2023-03-11 23:26:00+00:00 2023-03-12 08:05:00+00:00\n",
            "2023-03-14 04:48:00+00:00 2023-03-14 08:23:00+00:00\n",
            "2023-03-10 00:07:00+00:00 2023-03-10 08:14:00+00:00\n",
            "2023-03-11 01:29:00+00:00 2023-03-11 08:03:00+00:00\n"
          ]
        },
        {
          "output_type": "execute_result",
          "data": {
            "text/plain": [
              "      spo      time       date                 date_time  heartRate  sleep\n",
              "0      99  00:10:00 2023-03-13 2023-03-13 00:10:00+00:00  84.000000      0\n",
              "1      95  00:15:00 2023-03-13 2023-03-13 00:15:00+00:00  83.000000      0\n",
              "2      95  00:20:00 2023-03-13 2023-03-13 00:20:00+00:00  83.000000      0\n",
              "3      99  00:25:00 2023-03-13 2023-03-13 00:25:00+00:00  75.000000      1\n",
              "4      98  00:30:00 2023-03-13 2023-03-13 00:30:00+00:00  75.000000      1\n",
              "...   ...       ...        ...                       ...        ...    ...\n",
              "1268   99  23:35:00 2023-03-11 2023-03-11 23:35:00+00:00  80.000000      1\n",
              "1269   99  23:40:00 2023-03-11 2023-03-11 23:40:00+00:00  80.500000      1\n",
              "1270   99  23:45:00 2023-03-11 2023-03-11 23:45:00+00:00  82.250000      1\n",
              "1271   97  23:50:00 2023-03-11 2023-03-11 23:50:00+00:00  81.000000      1\n",
              "1272   97  23:55:00 2023-03-11 2023-03-11 23:55:00+00:00  79.272727      1\n",
              "\n",
              "[1273 rows x 6 columns]"
            ],
            "text/html": [
              "\n",
              "  <div id=\"df-425ff17c-8f47-4ab5-bfdb-60d63b9f46e6\">\n",
              "    <div class=\"colab-df-container\">\n",
              "      <div>\n",
              "<style scoped>\n",
              "    .dataframe tbody tr th:only-of-type {\n",
              "        vertical-align: middle;\n",
              "    }\n",
              "\n",
              "    .dataframe tbody tr th {\n",
              "        vertical-align: top;\n",
              "    }\n",
              "\n",
              "    .dataframe thead th {\n",
              "        text-align: right;\n",
              "    }\n",
              "</style>\n",
              "<table border=\"1\" class=\"dataframe\">\n",
              "  <thead>\n",
              "    <tr style=\"text-align: right;\">\n",
              "      <th></th>\n",
              "      <th>spo</th>\n",
              "      <th>time</th>\n",
              "      <th>date</th>\n",
              "      <th>date_time</th>\n",
              "      <th>heartRate</th>\n",
              "      <th>sleep</th>\n",
              "    </tr>\n",
              "  </thead>\n",
              "  <tbody>\n",
              "    <tr>\n",
              "      <th>0</th>\n",
              "      <td>99</td>\n",
              "      <td>00:10:00</td>\n",
              "      <td>2023-03-13</td>\n",
              "      <td>2023-03-13 00:10:00+00:00</td>\n",
              "      <td>84.000000</td>\n",
              "      <td>0</td>\n",
              "    </tr>\n",
              "    <tr>\n",
              "      <th>1</th>\n",
              "      <td>95</td>\n",
              "      <td>00:15:00</td>\n",
              "      <td>2023-03-13</td>\n",
              "      <td>2023-03-13 00:15:00+00:00</td>\n",
              "      <td>83.000000</td>\n",
              "      <td>0</td>\n",
              "    </tr>\n",
              "    <tr>\n",
              "      <th>2</th>\n",
              "      <td>95</td>\n",
              "      <td>00:20:00</td>\n",
              "      <td>2023-03-13</td>\n",
              "      <td>2023-03-13 00:20:00+00:00</td>\n",
              "      <td>83.000000</td>\n",
              "      <td>0</td>\n",
              "    </tr>\n",
              "    <tr>\n",
              "      <th>3</th>\n",
              "      <td>99</td>\n",
              "      <td>00:25:00</td>\n",
              "      <td>2023-03-13</td>\n",
              "      <td>2023-03-13 00:25:00+00:00</td>\n",
              "      <td>75.000000</td>\n",
              "      <td>1</td>\n",
              "    </tr>\n",
              "    <tr>\n",
              "      <th>4</th>\n",
              "      <td>98</td>\n",
              "      <td>00:30:00</td>\n",
              "      <td>2023-03-13</td>\n",
              "      <td>2023-03-13 00:30:00+00:00</td>\n",
              "      <td>75.000000</td>\n",
              "      <td>1</td>\n",
              "    </tr>\n",
              "    <tr>\n",
              "      <th>...</th>\n",
              "      <td>...</td>\n",
              "      <td>...</td>\n",
              "      <td>...</td>\n",
              "      <td>...</td>\n",
              "      <td>...</td>\n",
              "      <td>...</td>\n",
              "    </tr>\n",
              "    <tr>\n",
              "      <th>1268</th>\n",
              "      <td>99</td>\n",
              "      <td>23:35:00</td>\n",
              "      <td>2023-03-11</td>\n",
              "      <td>2023-03-11 23:35:00+00:00</td>\n",
              "      <td>80.000000</td>\n",
              "      <td>1</td>\n",
              "    </tr>\n",
              "    <tr>\n",
              "      <th>1269</th>\n",
              "      <td>99</td>\n",
              "      <td>23:40:00</td>\n",
              "      <td>2023-03-11</td>\n",
              "      <td>2023-03-11 23:40:00+00:00</td>\n",
              "      <td>80.500000</td>\n",
              "      <td>1</td>\n",
              "    </tr>\n",
              "    <tr>\n",
              "      <th>1270</th>\n",
              "      <td>99</td>\n",
              "      <td>23:45:00</td>\n",
              "      <td>2023-03-11</td>\n",
              "      <td>2023-03-11 23:45:00+00:00</td>\n",
              "      <td>82.250000</td>\n",
              "      <td>1</td>\n",
              "    </tr>\n",
              "    <tr>\n",
              "      <th>1271</th>\n",
              "      <td>97</td>\n",
              "      <td>23:50:00</td>\n",
              "      <td>2023-03-11</td>\n",
              "      <td>2023-03-11 23:50:00+00:00</td>\n",
              "      <td>81.000000</td>\n",
              "      <td>1</td>\n",
              "    </tr>\n",
              "    <tr>\n",
              "      <th>1272</th>\n",
              "      <td>97</td>\n",
              "      <td>23:55:00</td>\n",
              "      <td>2023-03-11</td>\n",
              "      <td>2023-03-11 23:55:00+00:00</td>\n",
              "      <td>79.272727</td>\n",
              "      <td>1</td>\n",
              "    </tr>\n",
              "  </tbody>\n",
              "</table>\n",
              "<p>1273 rows × 6 columns</p>\n",
              "</div>\n",
              "      <button class=\"colab-df-convert\" onclick=\"convertToInteractive('df-425ff17c-8f47-4ab5-bfdb-60d63b9f46e6')\"\n",
              "              title=\"Convert this dataframe to an interactive table.\"\n",
              "              style=\"display:none;\">\n",
              "        \n",
              "  <svg xmlns=\"http://www.w3.org/2000/svg\" height=\"24px\"viewBox=\"0 0 24 24\"\n",
              "       width=\"24px\">\n",
              "    <path d=\"M0 0h24v24H0V0z\" fill=\"none\"/>\n",
              "    <path d=\"M18.56 5.44l.94 2.06.94-2.06 2.06-.94-2.06-.94-.94-2.06-.94 2.06-2.06.94zm-11 1L8.5 8.5l.94-2.06 2.06-.94-2.06-.94L8.5 2.5l-.94 2.06-2.06.94zm10 10l.94 2.06.94-2.06 2.06-.94-2.06-.94-.94-2.06-.94 2.06-2.06.94z\"/><path d=\"M17.41 7.96l-1.37-1.37c-.4-.4-.92-.59-1.43-.59-.52 0-1.04.2-1.43.59L10.3 9.45l-7.72 7.72c-.78.78-.78 2.05 0 2.83L4 21.41c.39.39.9.59 1.41.59.51 0 1.02-.2 1.41-.59l7.78-7.78 2.81-2.81c.8-.78.8-2.07 0-2.86zM5.41 20L4 18.59l7.72-7.72 1.47 1.35L5.41 20z\"/>\n",
              "  </svg>\n",
              "      </button>\n",
              "      \n",
              "  <style>\n",
              "    .colab-df-container {\n",
              "      display:flex;\n",
              "      flex-wrap:wrap;\n",
              "      gap: 12px;\n",
              "    }\n",
              "\n",
              "    .colab-df-convert {\n",
              "      background-color: #E8F0FE;\n",
              "      border: none;\n",
              "      border-radius: 50%;\n",
              "      cursor: pointer;\n",
              "      display: none;\n",
              "      fill: #1967D2;\n",
              "      height: 32px;\n",
              "      padding: 0 0 0 0;\n",
              "      width: 32px;\n",
              "    }\n",
              "\n",
              "    .colab-df-convert:hover {\n",
              "      background-color: #E2EBFA;\n",
              "      box-shadow: 0px 1px 2px rgba(60, 64, 67, 0.3), 0px 1px 3px 1px rgba(60, 64, 67, 0.15);\n",
              "      fill: #174EA6;\n",
              "    }\n",
              "\n",
              "    [theme=dark] .colab-df-convert {\n",
              "      background-color: #3B4455;\n",
              "      fill: #D2E3FC;\n",
              "    }\n",
              "\n",
              "    [theme=dark] .colab-df-convert:hover {\n",
              "      background-color: #434B5C;\n",
              "      box-shadow: 0px 1px 3px 1px rgba(0, 0, 0, 0.15);\n",
              "      filter: drop-shadow(0px 1px 2px rgba(0, 0, 0, 0.3));\n",
              "      fill: #FFFFFF;\n",
              "    }\n",
              "  </style>\n",
              "\n",
              "      <script>\n",
              "        const buttonEl =\n",
              "          document.querySelector('#df-425ff17c-8f47-4ab5-bfdb-60d63b9f46e6 button.colab-df-convert');\n",
              "        buttonEl.style.display =\n",
              "          google.colab.kernel.accessAllowed ? 'block' : 'none';\n",
              "\n",
              "        async function convertToInteractive(key) {\n",
              "          const element = document.querySelector('#df-425ff17c-8f47-4ab5-bfdb-60d63b9f46e6');\n",
              "          const dataTable =\n",
              "            await google.colab.kernel.invokeFunction('convertToInteractive',\n",
              "                                                     [key], {});\n",
              "          if (!dataTable) return;\n",
              "\n",
              "          const docLinkHtml = 'Like what you see? Visit the ' +\n",
              "            '<a target=\"_blank\" href=https://colab.research.google.com/notebooks/data_table.ipynb>data table notebook</a>'\n",
              "            + ' to learn more about interactive tables.';\n",
              "          element.innerHTML = '';\n",
              "          dataTable['output_type'] = 'display_data';\n",
              "          await google.colab.output.renderOutput(dataTable, element);\n",
              "          const docLink = document.createElement('div');\n",
              "          docLink.innerHTML = docLinkHtml;\n",
              "          element.appendChild(docLink);\n",
              "        }\n",
              "      </script>\n",
              "    </div>\n",
              "  </div>\n",
              "  "
            ]
          },
          "metadata": {},
          "execution_count": 68
        }
      ]
    },
    {
      "cell_type": "markdown",
      "source": [
        "# Исследование данных"
      ],
      "metadata": {
        "id": "I3zyatydLlle"
      }
    },
    {
      "cell_type": "markdown",
      "source": [
        "Определить предикторы;\n",
        "\n",
        "Провести анализ и выбрать оптимальный алгоритм для реализации задачи выбранной темы (на основе сравнительного анализа);\n",
        "\n",
        "Обосновать выбор алгоритма (сравнительный анализ необходимо представить в табличном виде);"
      ],
      "metadata": {
        "id": "8L4jd3o-MB35"
      }
    },
    {
      "cell_type": "code",
      "source": [
        "df_spo2_.info()"
      ],
      "metadata": {
        "colab": {
          "base_uri": "https://localhost:8080/"
        },
        "id": "FMGSdSQkLmqG",
        "outputId": "ad4a01cf-ff27-4019-9382-ed8a92b44917"
      },
      "execution_count": null,
      "outputs": [
        {
          "output_type": "stream",
          "name": "stdout",
          "text": [
            "<class 'pandas.core.frame.DataFrame'>\n",
            "Int64Index: 1273 entries, 0 to 1272\n",
            "Data columns (total 6 columns):\n",
            " #   Column     Non-Null Count  Dtype              \n",
            "---  ------     --------------  -----              \n",
            " 0   spo        1273 non-null   int64              \n",
            " 1   time       1273 non-null   object             \n",
            " 2   date       1273 non-null   datetime64[ns]     \n",
            " 3   date_time  1273 non-null   datetime64[ns, UTC]\n",
            " 4   heartRate  1273 non-null   float64            \n",
            " 5   sleep      1273 non-null   int64              \n",
            "dtypes: datetime64[ns, UTC](1), datetime64[ns](1), float64(1), int64(2), object(1)\n",
            "memory usage: 69.6+ KB\n"
          ]
        }
      ]
    },
    {
      "cell_type": "code",
      "source": [
        "df_spo2_.heartRate.hist(bins=20)\n",
        "plt.xlabel('Пульс')\n",
        "plt.ylabel('Частота')\n",
        "plt.title('Частота значений Пульса')\n",
        "plt.show()"
      ],
      "metadata": {
        "colab": {
          "base_uri": "https://localhost:8080/",
          "height": 295
        },
        "id": "LNwbFVA6aWn8",
        "outputId": "c2746f9a-5300-42a2-d9c4-8a742d37ebd9"
      },
      "execution_count": null,
      "outputs": [
        {
          "output_type": "display_data",
          "data": {
            "text/plain": [
              "<Figure size 432x288 with 1 Axes>"
            ],
            "image/png": "[encoded data removed]"
          },
          "metadata": {
            "needs_background": "light"
          }
        }
      ]
    },
    {
      "cell_type": "code",
      "source": [
        "sns.set_style(\"whitegrid\")\n",
        "sns.boxplot(data=df_spo2_ , x = 'sleep', y = 'heartRate')\n",
        "plt.title('Распределение значений heartRate в зависимости от sleep')"
      ],
      "metadata": {
        "colab": {
          "base_uri": "https://localhost:8080/",
          "height": 313
        },
        "id": "O4k_FHacbqzy",
        "outputId": "21a2366f-a399-4980-bc8d-c7ace4e4e95a"
      },
      "execution_count": null,
      "outputs": [
        {
          "output_type": "execute_result",
          "data": {
            "text/plain": [
              "Text(0.5, 1.0, 'Распределение значений heartRate в зависимости от sleep')"
            ]
          },
          "metadata": {},
          "execution_count": 161
        },
        {
          "output_type": "display_data",
          "data": {
            "text/plain": [
              "<Figure size 432x288 with 1 Axes>"
            ],
            "image/png": "[encoded data removed]"
          },
          "metadata": {}
        }
      ]
    },
    {
      "cell_type": "code",
      "source": [
        "df_spo2_['heartRate'].skew()"
      ],
      "metadata": {
        "colab": {
          "base_uri": "https://localhost:8080/"
        },
        "id": "aj1FFVh1bFS0",
        "outputId": "6841fd58-492e-4896-cb55-e32ae3eda5de"
      },
      "execution_count": null,
      "outputs": [
        {
          "output_type": "execute_result",
          "data": {
            "text/plain": [
              "1.0244111832037124"
            ]
          },
          "metadata": {},
          "execution_count": 162
        }
      ]
    },
    {
      "cell_type": "code",
      "source": [
        "dates = df_spo2_.date.unique()"
      ],
      "metadata": {
        "colab": {
          "base_uri": "https://localhost:8080/"
        },
        "id": "MX4nQowGNAia",
        "outputId": "ff28af01-c0ba-437a-f888-de896c075754"
      },
      "execution_count": null,
      "outputs": [
        {
          "output_type": "execute_result",
          "data": {
            "text/plain": [
              "array(['2023-03-13T00:00:00.000000000', '2023-03-12T00:00:00.000000000',\n",
              "       '2023-03-14T00:00:00.000000000', '2023-03-10T00:00:00.000000000',\n",
              "       '2023-03-11T00:00:00.000000000'], dtype='datetime64[ns]')"
            ]
          },
          "metadata": {},
          "execution_count": 72
        }
      ]
    },
    {
      "cell_type": "code",
      "source": [
        "fig, axes = plt.subplots(ncols=5, figsize=(25, 5), layout=\"constrained\")\n",
        "ax = 0\n",
        "plt.xticks(rotation=70)\n",
        "fontsize=12\n",
        "print('Зависимость пульса от времени дня')\n",
        "\n",
        "for dat in dates:\n",
        "  temp = df_spo2_[df_spo2_.date == dat][['heartRate','time']]\n",
        "\n",
        "  temp.time = temp.time.astype(str)\n",
        "  temp.time = temp.time.apply(lambda x: x[:5])\n",
        "\n",
        "  axes[ax].plot(temp.time, temp.heartRate)\n",
        "\n",
        "  axes[ax].xaxis.set_major_locator(ticker.MultipleLocator(20))\n",
        "  axes[ax].xaxis.set_minor_locator(ticker.MultipleLocator(10))\n",
        "\n",
        "  axes[ax].set_xlabel('Время', fontsize=fontsize)\n",
        "  axes[ax].set_ylabel('Пульс', fontsize=fontsize)\n",
        "  axes[ax].set_title(dat.astype(str)[:10], fontsize=fontsize)\n",
        "\n",
        "  axes[ax].tick_params(axis='x', labelrotation=70)\n",
        "\n",
        "  ax+=1\n",
        "\n",
        "plt.show()"
      ],
      "metadata": {
        "colab": {
          "base_uri": "https://localhost:8080/",
          "height": 314
        },
        "id": "TULlBnJfMQm7",
        "outputId": "5343c2c1-66f7-448b-80ba-7da1a93e59e6"
      },
      "execution_count": null,
      "outputs": [
        {
          "output_type": "stream",
          "name": "stdout",
          "text": [
            "Зависимость пульса от времени дня\n"
          ]
        },
        {
          "output_type": "display_data",
          "data": {
            "text/plain": [
              "<Figure size 1800x360 with 5 Axes>"
            ],
            "image/png": "[encoded data removed]"
          },
          "metadata": {
            "needs_background": "light"
          }
        }
      ]
    },
    {
      "cell_type": "markdown",
      "source": [
        "Похоже, что пульс зависит от времени, из-за чего следует зависимость на сон"
      ],
      "metadata": {
        "id": "1PB56U9-V6R9"
      }
    },
    {
      "cell_type": "code",
      "source": [
        "df_spo2_.spo.hist(bins=20)\n",
        "plt.xlabel('SpO2')\n",
        "plt.ylabel('Частота')\n",
        "plt.title('Частота значений SpO2')\n",
        "plt.show()"
      ],
      "metadata": {
        "colab": {
          "base_uri": "https://localhost:8080/",
          "height": 295
        },
        "id": "ZM-N1CVyaJby",
        "outputId": "8de4f058-0b16-44c3-abaf-b7e8ab8091ac"
      },
      "execution_count": null,
      "outputs": [
        {
          "output_type": "display_data",
          "data": {
            "text/plain": [
              "<Figure size 432x288 with 1 Axes>"
            ],
            "image/png": "[encoded data removed]"
          },
          "metadata": {
            "needs_background": "light"
          }
        }
      ]
    },
    {
      "cell_type": "code",
      "source": [
        "sns.set_style(\"whitegrid\")\n",
        "sns.boxplot(data=df_spo2_ , x = 'sleep', y = 'spo')\n",
        "plt.title('Распределение значений SpO2 в зависимости от sleep')"
      ],
      "metadata": {
        "colab": {
          "base_uri": "https://localhost:8080/",
          "height": 313
        },
        "id": "A0jCek_CdBxy",
        "outputId": "28de032a-f042-40ad-b95a-d20fab91b987"
      },
      "execution_count": null,
      "outputs": [
        {
          "output_type": "execute_result",
          "data": {
            "text/plain": [
              "Text(0.5, 1.0, 'Распределение значений SpO2 в зависимости от sleep')"
            ]
          },
          "metadata": {},
          "execution_count": 163
        },
        {
          "output_type": "display_data",
          "data": {
            "text/plain": [
              "<Figure size 432x288 with 1 Axes>"
            ],
            "image/png": "[encoded data removed]"
          },
          "metadata": {}
        }
      ]
    },
    {
      "cell_type": "code",
      "source": [
        "fig, axes = plt.subplots(ncols=5, figsize=(25, 5), layout=\"constrained\")\n",
        "ax = 0\n",
        "plt.xticks(rotation=70)\n",
        "fontsize=12\n",
        "print('Зависимость значение SpO2 от времени дня')\n",
        "\n",
        "for dat in dates:\n",
        "  temp = df_spo2_[df_spo2_.date == dat][['spo','time']]\n",
        "\n",
        "  temp.time = temp.time.astype(str)\n",
        "  temp.time = temp.time.apply(lambda x: x[:5])\n",
        "\n",
        "  axes[ax].plot(temp.time, temp.spo)\n",
        "\n",
        "  axes[ax].xaxis.set_major_locator(ticker.MultipleLocator(20))\n",
        "  axes[ax].xaxis.set_minor_locator(ticker.MultipleLocator(10))\n",
        "\n",
        "  axes[ax].set_xlabel('Время', fontsize=fontsize)\n",
        "  axes[ax].set_ylabel('SpO2', fontsize=fontsize)\n",
        "  axes[ax].set_title(dat.astype(str)[:10], fontsize=fontsize)\n",
        "\n",
        "  axes[ax].tick_params(axis='x', labelrotation=70)\n",
        "\n",
        "  ax+=1\n",
        "\n",
        "plt.show()"
      ],
      "metadata": {
        "colab": {
          "base_uri": "https://localhost:8080/",
          "height": 314
        },
        "id": "mw6FIlknMPIP",
        "outputId": "2db60020-b14c-43f0-b3e9-80a6c3cd7d8a"
      },
      "execution_count": null,
      "outputs": [
        {
          "output_type": "stream",
          "name": "stdout",
          "text": [
            "Зависимость значение SpO2 от времени дня\n"
          ]
        },
        {
          "output_type": "display_data",
          "data": {
            "text/plain": [
              "<Figure size 1800x360 with 5 Axes>"
            ],
            "image/png": "[encoded data removed]"
          },
          "metadata": {
            "needs_background": "light"
          }
        }
      ]
    },
    {
      "cell_type": "markdown",
      "source": [
        "Зависимость SpO2 с временем, на первый взгляд, неясна"
      ],
      "metadata": {
        "id": "FZ6hbqyyWFkH"
      }
    },
    {
      "cell_type": "markdown",
      "source": [
        "### Добавим признаки, исходя из имеющихся"
      ],
      "metadata": {
        "id": "sTXuQZthWopc"
      }
    },
    {
      "cell_type": "code",
      "source": [
        "df_spo2_.info()"
      ],
      "metadata": {
        "colab": {
          "base_uri": "https://localhost:8080/"
        },
        "id": "Xdd8EoT9St_e",
        "outputId": "e2e7d357-e3f9-49a6-d63f-3d930ab50066"
      },
      "execution_count": null,
      "outputs": [
        {
          "output_type": "stream",
          "name": "stdout",
          "text": [
            "<class 'pandas.core.frame.DataFrame'>\n",
            "Int64Index: 1273 entries, 0 to 1272\n",
            "Data columns (total 6 columns):\n",
            " #   Column     Non-Null Count  Dtype              \n",
            "---  ------     --------------  -----              \n",
            " 0   spo        1273 non-null   int64              \n",
            " 1   time       1273 non-null   object             \n",
            " 2   date       1273 non-null   datetime64[ns]     \n",
            " 3   date_time  1273 non-null   datetime64[ns, UTC]\n",
            " 4   heartRate  1273 non-null   float64            \n",
            " 5   sleep      1273 non-null   int64              \n",
            "dtypes: datetime64[ns, UTC](1), datetime64[ns](1), float64(1), int64(2), object(1)\n",
            "memory usage: 101.9+ KB\n"
          ]
        }
      ]
    },
    {
      "cell_type": "code",
      "source": [
        "df_spo2_['year'] = df_spo2_.date.dt.year\n",
        "df_spo2_['month'] = df_spo2_.date.dt.month\n",
        "df_spo2_['day'] = df_spo2_.date.dt.day\n",
        "df_spo2_['hour'] = df_spo2_.date_time.dt.hour\n",
        "df_spo2_['minute'] = df_spo2_.date_time.dt.minute\n",
        "\n",
        "df_spo2_['dayofweek'] = df_spo2_.date_time.dt.dayofweek\n",
        "df_spo2_['seasons'] = df_spo2_.month.apply(lambda x: 'winter' if x in [12,1,2] else ('spring' if x in [3,4,5] else ('summer' if x in [6,7,8] else 'autumn'))) \n",
        "\n",
        "df_spo2_['time_of_day'] = df_spo2_.hour.apply(lambda x: 'night' if x in [0,1,2,3,4,5] else ('morning' if x in [6,7,8,9,10,11,12] else ('evening' if x in [18,19,20,21,22,23] else 'day'))) \n",
        "df_spo2_"
      ],
      "metadata": {
        "colab": {
          "base_uri": "https://localhost:8080/",
          "height": 424
        },
        "id": "pxLqmOS7WvLx",
        "outputId": "6186eeb4-135e-45cf-ff21-d774a87ffd9a"
      },
      "execution_count": null,
      "outputs": [
        {
          "output_type": "execute_result",
          "data": {
            "text/plain": [
              "      spo      time       date                 date_time  heartRate  sleep  \\\n",
              "0      99  00:10:00 2023-03-13 2023-03-13 00:10:00+00:00  84.000000      0   \n",
              "1      95  00:15:00 2023-03-13 2023-03-13 00:15:00+00:00  83.000000      0   \n",
              "2      95  00:20:00 2023-03-13 2023-03-13 00:20:00+00:00  83.000000      0   \n",
              "3      99  00:25:00 2023-03-13 2023-03-13 00:25:00+00:00  75.000000      1   \n",
              "4      98  00:30:00 2023-03-13 2023-03-13 00:30:00+00:00  75.000000      1   \n",
              "...   ...       ...        ...                       ...        ...    ...   \n",
              "1268   99  23:35:00 2023-03-11 2023-03-11 23:35:00+00:00  80.000000      1   \n",
              "1269   99  23:40:00 2023-03-11 2023-03-11 23:40:00+00:00  80.500000      1   \n",
              "1270   99  23:45:00 2023-03-11 2023-03-11 23:45:00+00:00  82.250000      1   \n",
              "1271   97  23:50:00 2023-03-11 2023-03-11 23:50:00+00:00  81.000000      1   \n",
              "1272   97  23:55:00 2023-03-11 2023-03-11 23:55:00+00:00  79.272727      1   \n",
              "\n",
              "      year  month  day  hour  minute  dayofweek seasons time_of_day  \n",
              "0     2023      3   13     0      10          0  spring       night  \n",
              "1     2023      3   13     0      15          0  spring       night  \n",
              "2     2023      3   13     0      20          0  spring       night  \n",
              "3     2023      3   13     0      25          0  spring       night  \n",
              "4     2023      3   13     0      30          0  spring       night  \n",
              "...    ...    ...  ...   ...     ...        ...     ...         ...  \n",
              "1268  2023      3   11    23      35          5  spring     evening  \n",
              "1269  2023      3   11    23      40          5  spring     evening  \n",
              "1270  2023      3   11    23      45          5  spring     evening  \n",
              "1271  2023      3   11    23      50          5  spring     evening  \n",
              "1272  2023      3   11    23      55          5  spring     evening  \n",
              "\n",
              "[1273 rows x 14 columns]"
            ],
            "text/html": [
              "\n",
              "  <div id=\"df-c01cfe70-e1b8-4ded-8ee0-42518a484968\">\n",
              "    <div class=\"colab-df-container\">\n",
              "      <div>\n",
              "<style scoped>\n",
              "    .dataframe tbody tr th:only-of-type {\n",
              "        vertical-align: middle;\n",
              "    }\n",
              "\n",
              "    .dataframe tbody tr th {\n",
              "        vertical-align: top;\n",
              "    }\n",
              "\n",
              "    .dataframe thead th {\n",
              "        text-align: right;\n",
              "    }\n",
              "</style>\n",
              "<table border=\"1\" class=\"dataframe\">\n",
              "  <thead>\n",
              "    <tr style=\"text-align: right;\">\n",
              "      <th></th>\n",
              "      <th>spo</th>\n",
              "      <th>time</th>\n",
              "      <th>date</th>\n",
              "      <th>date_time</th>\n",
              "      <th>heartRate</th>\n",
              "      <th>sleep</th>\n",
              "      <th>year</th>\n",
              "      <th>month</th>\n",
              "      <th>day</th>\n",
              "      <th>hour</th>\n",
              "      <th>minute</th>\n",
              "      <th>dayofweek</th>\n",
              "      <th>seasons</th>\n",
              "      <th>time_of_day</th>\n",
              "    </tr>\n",
              "  </thead>\n",
              "  <tbody>\n",
              "    <tr>\n",
              "      <th>0</th>\n",
              "      <td>99</td>\n",
              "      <td>00:10:00</td>\n",
              "      <td>2023-03-13</td>\n",
              "      <td>2023-03-13 00:10:00+00:00</td>\n",
              "      <td>84.000000</td>\n",
              "      <td>0</td>\n",
              "      <td>2023</td>\n",
              "      <td>3</td>\n",
              "      <td>13</td>\n",
              "      <td>0</td>\n",
              "      <td>10</td>\n",
              "      <td>0</td>\n",
              "      <td>spring</td>\n",
              "      <td>night</td>\n",
              "    </tr>\n",
              "    <tr>\n",
              "      <th>1</th>\n",
              "      <td>95</td>\n",
              "      <td>00:15:00</td>\n",
              "      <td>2023-03-13</td>\n",
              "      <td>2023-03-13 00:15:00+00:00</td>\n",
              "      <td>83.000000</td>\n",
              "      <td>0</td>\n",
              "      <td>2023</td>\n",
              "      <td>3</td>\n",
              "      <td>13</td>\n",
              "      <td>0</td>\n",
              "      <td>15</td>\n",
              "      <td>0</td>\n",
              "      <td>spring</td>\n",
              "      <td>night</td>\n",
              "    </tr>\n",
              "    <tr>\n",
              "      <th>2</th>\n",
              "      <td>95</td>\n",
              "      <td>00:20:00</td>\n",
              "      <td>2023-03-13</td>\n",
              "      <td>2023-03-13 00:20:00+00:00</td>\n",
              "      <td>83.000000</td>\n",
              "      <td>0</td>\n",
              "      <td>2023</td>\n",
              "      <td>3</td>\n",
              "      <td>13</td>\n",
              "      <td>0</td>\n",
              "      <td>20</td>\n",
              "      <td>0</td>\n",
              "      <td>spring</td>\n",
              "      <td>night</td>\n",
              "    </tr>\n",
              "    <tr>\n",
              "      <th>3</th>\n",
              "      <td>99</td>\n",
              "      <td>00:25:00</td>\n",
              "      <td>2023-03-13</td>\n",
              "      <td>2023-03-13 00:25:00+00:00</td>\n",
              "      <td>75.000000</td>\n",
              "      <td>1</td>\n",
              "      <td>2023</td>\n",
              "      <td>3</td>\n",
              "      <td>13</td>\n",
              "      <td>0</td>\n",
              "      <td>25</td>\n",
              "      <td>0</td>\n",
              "      <td>spring</td>\n",
              "      <td>night</td>\n",
              "    </tr>\n",
              "    <tr>\n",
              "      <th>4</th>\n",
              "      <td>98</td>\n",
              "      <td>00:30:00</td>\n",
              "      <td>2023-03-13</td>\n",
              "      <td>2023-03-13 00:30:00+00:00</td>\n",
              "      <td>75.000000</td>\n",
              "      <td>1</td>\n",
              "      <td>2023</td>\n",
              "      <td>3</td>\n",
              "      <td>13</td>\n",
              "      <td>0</td>\n",
              "      <td>30</td>\n",
              "      <td>0</td>\n",
              "      <td>spring</td>\n",
              "      <td>night</td>\n",
              "    </tr>\n",
              "    <tr>\n",
              "      <th>...</th>\n",
              "      <td>...</td>\n",
              "      <td>...</td>\n",
              "      <td>...</td>\n",
              "      <td>...</td>\n",
              "      <td>...</td>\n",
              "      <td>...</td>\n",
              "      <td>...</td>\n",
              "      <td>...</td>\n",
              "      <td>...</td>\n",
              "      <td>...</td>\n",
              "      <td>...</td>\n",
              "      <td>...</td>\n",
              "      <td>...</td>\n",
              "      <td>...</td>\n",
              "    </tr>\n",
              "    <tr>\n",
              "      <th>1268</th>\n",
              "      <td>99</td>\n",
              "      <td>23:35:00</td>\n",
              "      <td>2023-03-11</td>\n",
              "      <td>2023-03-11 23:35:00+00:00</td>\n",
              "      <td>80.000000</td>\n",
              "      <td>1</td>\n",
              "      <td>2023</td>\n",
              "      <td>3</td>\n",
              "      <td>11</td>\n",
              "      <td>23</td>\n",
              "      <td>35</td>\n",
              "      <td>5</td>\n",
              "      <td>spring</td>\n",
              "      <td>evening</td>\n",
              "    </tr>\n",
              "    <tr>\n",
              "      <th>1269</th>\n",
              "      <td>99</td>\n",
              "      <td>23:40:00</td>\n",
              "      <td>2023-03-11</td>\n",
              "      <td>2023-03-11 23:40:00+00:00</td>\n",
              "      <td>80.500000</td>\n",
              "      <td>1</td>\n",
              "      <td>2023</td>\n",
              "      <td>3</td>\n",
              "      <td>11</td>\n",
              "      <td>23</td>\n",
              "      <td>40</td>\n",
              "      <td>5</td>\n",
              "      <td>spring</td>\n",
              "      <td>evening</td>\n",
              "    </tr>\n",
              "    <tr>\n",
              "      <th>1270</th>\n",
              "      <td>99</td>\n",
              "      <td>23:45:00</td>\n",
              "      <td>2023-03-11</td>\n",
              "      <td>2023-03-11 23:45:00+00:00</td>\n",
              "      <td>82.250000</td>\n",
              "      <td>1</td>\n",
              "      <td>2023</td>\n",
              "      <td>3</td>\n",
              "      <td>11</td>\n",
              "      <td>23</td>\n",
              "      <td>45</td>\n",
              "      <td>5</td>\n",
              "      <td>spring</td>\n",
              "      <td>evening</td>\n",
              "    </tr>\n",
              "    <tr>\n",
              "      <th>1271</th>\n",
              "      <td>97</td>\n",
              "      <td>23:50:00</td>\n",
              "      <td>2023-03-11</td>\n",
              "      <td>2023-03-11 23:50:00+00:00</td>\n",
              "      <td>81.000000</td>\n",
              "      <td>1</td>\n",
              "      <td>2023</td>\n",
              "      <td>3</td>\n",
              "      <td>11</td>\n",
              "      <td>23</td>\n",
              "      <td>50</td>\n",
              "      <td>5</td>\n",
              "      <td>spring</td>\n",
              "      <td>evening</td>\n",
              "    </tr>\n",
              "    <tr>\n",
              "      <th>1272</th>\n",
              "      <td>97</td>\n",
              "      <td>23:55:00</td>\n",
              "      <td>2023-03-11</td>\n",
              "      <td>2023-03-11 23:55:00+00:00</td>\n",
              "      <td>79.272727</td>\n",
              "      <td>1</td>\n",
              "      <td>2023</td>\n",
              "      <td>3</td>\n",
              "      <td>11</td>\n",
              "      <td>23</td>\n",
              "      <td>55</td>\n",
              "      <td>5</td>\n",
              "      <td>spring</td>\n",
              "      <td>evening</td>\n",
              "    </tr>\n",
              "  </tbody>\n",
              "</table>\n",
              "<p>1273 rows × 14 columns</p>\n",
              "</div>\n",
              "      <button class=\"colab-df-convert\" onclick=\"convertToInteractive('df-c01cfe70-e1b8-4ded-8ee0-42518a484968')\"\n",
              "              title=\"Convert this dataframe to an interactive table.\"\n",
              "              style=\"display:none;\">\n",
              "        \n",
              "  <svg xmlns=\"http://www.w3.org/2000/svg\" height=\"24px\"viewBox=\"0 0 24 24\"\n",
              "       width=\"24px\">\n",
              "    <path d=\"M0 0h24v24H0V0z\" fill=\"none\"/>\n",
              "    <path d=\"M18.56 5.44l.94 2.06.94-2.06 2.06-.94-2.06-.94-.94-2.06-.94 2.06-2.06.94zm-11 1L8.5 8.5l.94-2.06 2.06-.94-2.06-.94L8.5 2.5l-.94 2.06-2.06.94zm10 10l.94 2.06.94-2.06 2.06-.94-2.06-.94-.94-2.06-.94 2.06-2.06.94z\"/><path d=\"M17.41 7.96l-1.37-1.37c-.4-.4-.92-.59-1.43-.59-.52 0-1.04.2-1.43.59L10.3 9.45l-7.72 7.72c-.78.78-.78 2.05 0 2.83L4 21.41c.39.39.9.59 1.41.59.51 0 1.02-.2 1.41-.59l7.78-7.78 2.81-2.81c.8-.78.8-2.07 0-2.86zM5.41 20L4 18.59l7.72-7.72 1.47 1.35L5.41 20z\"/>\n",
              "  </svg>\n",
              "      </button>\n",
              "      \n",
              "  <style>\n",
              "    .colab-df-container {\n",
              "      display:flex;\n",
              "      flex-wrap:wrap;\n",
              "      gap: 12px;\n",
              "    }\n",
              "\n",
              "    .colab-df-convert {\n",
              "      background-color: #E8F0FE;\n",
              "      border: none;\n",
              "      border-radius: 50%;\n",
              "      cursor: pointer;\n",
              "      display: none;\n",
              "      fill: #1967D2;\n",
              "      height: 32px;\n",
              "      padding: 0 0 0 0;\n",
              "      width: 32px;\n",
              "    }\n",
              "\n",
              "    .colab-df-convert:hover {\n",
              "      background-color: #E2EBFA;\n",
              "      box-shadow: 0px 1px 2px rgba(60, 64, 67, 0.3), 0px 1px 3px 1px rgba(60, 64, 67, 0.15);\n",
              "      fill: #174EA6;\n",
              "    }\n",
              "\n",
              "    [theme=dark] .colab-df-convert {\n",
              "      background-color: #3B4455;\n",
              "      fill: #D2E3FC;\n",
              "    }\n",
              "\n",
              "    [theme=dark] .colab-df-convert:hover {\n",
              "      background-color: #434B5C;\n",
              "      box-shadow: 0px 1px 3px 1px rgba(0, 0, 0, 0.15);\n",
              "      filter: drop-shadow(0px 1px 2px rgba(0, 0, 0, 0.3));\n",
              "      fill: #FFFFFF;\n",
              "    }\n",
              "  </style>\n",
              "\n",
              "      <script>\n",
              "        const buttonEl =\n",
              "          document.querySelector('#df-c01cfe70-e1b8-4ded-8ee0-42518a484968 button.colab-df-convert');\n",
              "        buttonEl.style.display =\n",
              "          google.colab.kernel.accessAllowed ? 'block' : 'none';\n",
              "\n",
              "        async function convertToInteractive(key) {\n",
              "          const element = document.querySelector('#df-c01cfe70-e1b8-4ded-8ee0-42518a484968');\n",
              "          const dataTable =\n",
              "            await google.colab.kernel.invokeFunction('convertToInteractive',\n",
              "                                                     [key], {});\n",
              "          if (!dataTable) return;\n",
              "\n",
              "          const docLinkHtml = 'Like what you see? Visit the ' +\n",
              "            '<a target=\"_blank\" href=https://colab.research.google.com/notebooks/data_table.ipynb>data table notebook</a>'\n",
              "            + ' to learn more about interactive tables.';\n",
              "          element.innerHTML = '';\n",
              "          dataTable['output_type'] = 'display_data';\n",
              "          await google.colab.output.renderOutput(dataTable, element);\n",
              "          const docLink = document.createElement('div');\n",
              "          docLink.innerHTML = docLinkHtml;\n",
              "          element.appendChild(docLink);\n",
              "        }\n",
              "      </script>\n",
              "    </div>\n",
              "  </div>\n",
              "  "
            ]
          },
          "metadata": {},
          "execution_count": 138
        }
      ]
    },
    {
      "cell_type": "markdown",
      "source": [
        "Корреляция и распределение новых признаков"
      ],
      "metadata": {
        "id": "SRmSThUpfgso"
      }
    },
    {
      "cell_type": "code",
      "source": [
        "new_cols = ['year',\t'month',\t'day',\t'hour',\t'minute',\t'dayofweek',\t'seasons', 'time_of_day']\n",
        "len(new_cols)"
      ],
      "metadata": {
        "colab": {
          "base_uri": "https://localhost:8080/"
        },
        "id": "uX1bwfipfgUI",
        "outputId": "f0b4bc13-0513-40a7-ed26-4580a69ab47b"
      },
      "execution_count": null,
      "outputs": [
        {
          "output_type": "execute_result",
          "data": {
            "text/plain": [
              "8"
            ]
          },
          "metadata": {},
          "execution_count": 172
        }
      ]
    },
    {
      "cell_type": "code",
      "source": [
        "for col in new_cols:\n",
        "  print('For col',col,' unique vales: ', df_spo2_[col].unique())"
      ],
      "metadata": {
        "colab": {
          "base_uri": "https://localhost:8080/"
        },
        "id": "j38kGBO3fgWq",
        "outputId": "f4d794d1-ac30-4210-c9a6-76980fd28e9a"
      },
      "execution_count": null,
      "outputs": [
        {
          "output_type": "stream",
          "name": "stdout",
          "text": [
            "For col year  unique vales:  [2023]\n",
            "For col month  unique vales:  [3]\n",
            "For col day  unique vales:  [13 12 14 10 11]\n",
            "For col hour  unique vales:  [ 0  1  2  3  4  5  6  7  8  9 10 11 12 13 14 15 16 17 18 19 20 21 22 23]\n",
            "For col minute  unique vales:  [10 15 20 25 30 35 40 45 50 55  0  5]\n",
            "For col dayofweek  unique vales:  [0 6 1 4 5]\n",
            "For col seasons  unique vales:  ['spring']\n",
            "For col time_of_day  unique vales:  ['night' 'morning' 'day' 'evening']\n"
          ]
        }
      ]
    },
    {
      "cell_type": "code",
      "source": [
        "fig, axes = plt.subplots(ncols=len(new_cols), figsize=(25, 5), layout=\"constrained\")\n",
        "ax = 0\n",
        "plt.xticks(rotation=70)\n",
        "fontsize=12\n",
        "\n",
        "print('Распределение новых признаков на гистограмме')\n",
        "\n",
        "for col in new_cols:\n",
        "\n",
        "  axes[ax].hist(df_spo2_[col])\n",
        "\n",
        "  axes[ax].set_xlabel(col, fontsize=fontsize)\n",
        "  axes[ax].set_ylabel('Распределение', fontsize=fontsize)\n",
        "\n",
        "  axes[ax].tick_params(axis='x', labelrotation=90)\n",
        "\n",
        "  ax+=1\n",
        "\n",
        "plt.show()"
      ],
      "metadata": {
        "colab": {
          "base_uri": "https://localhost:8080/",
          "height": 423
        },
        "id": "7XoY5B6IZ-oZ",
        "outputId": "034917da-fd94-4758-ad77-bdd7bc934d0e"
      },
      "execution_count": null,
      "outputs": [
        {
          "output_type": "stream",
          "name": "stdout",
          "text": [
            "Распределение новых признаков на гистограмме\n"
          ]
        },
        {
          "output_type": "display_data",
          "data": {
            "text/plain": [
              "<Figure size 1800x360 with 8 Axes>"
            ],
            "image/png": "[encoded data removed]"
          },
          "metadata": {}
        }
      ]
    },
    {
      "cell_type": "markdown",
      "source": [
        "Видно, что пока такие признаки как год, месяц и сезон не будут объективно полезными из-за малого набора в данных, однако их можно считать потенциально полезными при увеличении объема данных. Эта же ситуация характерна и для дня.\n",
        "\n",
        "Удалим признаки для дальнейшего обучения"
      ],
      "metadata": {
        "id": "f5Zx2QJihVQQ"
      }
    },
    {
      "cell_type": "code",
      "source": [
        "df_spo2_.drop(['year','month','seasons'],axis=1,inplace=True)"
      ],
      "metadata": {
        "id": "tckG2CHkhyfE"
      },
      "execution_count": null,
      "outputs": []
    },
    {
      "cell_type": "markdown",
      "source": [
        "### Посмотрим на распределение целевой переменной"
      ],
      "metadata": {
        "id": "AfinTD-BYHzK"
      }
    },
    {
      "cell_type": "code",
      "source": [
        "dates.sort()"
      ],
      "metadata": {
        "id": "zyWfKV19ZJlx"
      },
      "execution_count": null,
      "outputs": []
    },
    {
      "cell_type": "code",
      "source": [
        "fig, axes = plt.subplots(ncols=5, figsize=(25, 5), layout=\"constrained\")\n",
        "ax = 0\n",
        "plt.xticks(rotation=70)\n",
        "fontsize=12\n",
        "\n",
        "print('Зависимость значение целевой переменной от времени дня')\n",
        "\n",
        "for dat in dates:\n",
        "  temp = df_spo2_[df_spo2_.date == dat][['sleep','time']]\n",
        "\n",
        "  temp.time = temp.time.astype(str)\n",
        "  temp.time = temp.time.apply(lambda x: x[:5])\n",
        "  temp.sleep = temp.sleep.apply(lambda x: 'сон' if x==1 else 'бодроствование')\n",
        "\n",
        "  axes[ax].plot(temp.time, temp.sleep)\n",
        "\n",
        "  axes[ax].xaxis.set_major_locator(ticker.MultipleLocator(20))\n",
        "  axes[ax].xaxis.set_minor_locator(ticker.MultipleLocator(10))\n",
        "\n",
        "  axes[ax].set_xlabel('Время', fontsize=fontsize)\n",
        "  axes[ax].set_ylabel('Состояние активности', fontsize=fontsize)\n",
        "  axes[ax].set_title(dat.astype(str)[:10], fontsize=fontsize)\n",
        "\n",
        "  axes[ax].tick_params(axis='x', labelrotation=70)\n",
        "\n",
        "  ax+=1\n",
        "\n",
        "plt.show()"
      ],
      "metadata": {
        "colab": {
          "base_uri": "https://localhost:8080/",
          "height": 314
        },
        "id": "bwrD8NGpYMbB",
        "outputId": "e62d1a1b-45bc-44ef-806d-53c0d6ebebd5"
      },
      "execution_count": null,
      "outputs": [
        {
          "output_type": "stream",
          "name": "stdout",
          "text": [
            "Зависимость значение целевой переменной от времени дня\n"
          ]
        },
        {
          "output_type": "display_data",
          "data": {
            "text/plain": [
              "<Figure size 1800x360 with 5 Axes>"
            ],
            "image/png": "[encoded data removed]"
          },
          "metadata": {
            "needs_background": "light"
          }
        }
      ]
    },
    {
      "cell_type": "markdown",
      "source": [
        "Получилось, что сна совершенно нет в данных от 10.03 и совсем маленький промежуток 14.03"
      ],
      "metadata": {
        "id": "hkV-EdrwZkzf"
      }
    },
    {
      "cell_type": "code",
      "source": [
        "df_spo2_.sleep.value_counts()"
      ],
      "metadata": {
        "colab": {
          "base_uri": "https://localhost:8080/"
        },
        "id": "6BmQbxhvYM05",
        "outputId": "4d373507-e0f7-4b90-fe2b-b7658b3dbd84"
      },
      "execution_count": null,
      "outputs": [
        {
          "output_type": "execute_result",
          "data": {
            "text/plain": [
              "0    956\n",
              "1    317\n",
              "Name: sleep, dtype: int64"
            ]
          },
          "metadata": {},
          "execution_count": 164
        }
      ]
    },
    {
      "cell_type": "markdown",
      "source": [
        "Заметно, что в задаче присутствует дисбаланс классов => **будем использовать метрику ROC-AUC, тогда дисбаланс классов нет необходимости выравнивать, потому что метрика не чувствительна к смещению.**"
      ],
      "metadata": {
        "id": "pDJS9Pkdd-6l"
      }
    },
    {
      "cell_type": "markdown",
      "source": [
        "# Разделение данных на обучающую и тестовую выборку "
      ],
      "metadata": {
        "id": "4EisDc5eiMXh"
      }
    },
    {
      "cell_type": "code",
      "source": [
        "df_spo2_.head()"
      ],
      "metadata": {
        "colab": {
          "base_uri": "https://localhost:8080/",
          "height": 206
        },
        "id": "_oVaXVkiioQT",
        "outputId": "209f225a-d9e2-4513-967b-a3c96804b17f"
      },
      "execution_count": null,
      "outputs": [
        {
          "output_type": "execute_result",
          "data": {
            "text/plain": [
              "   spo      time       date                 date_time  heartRate  sleep  day  \\\n",
              "0   99  00:10:00 2023-03-13 2023-03-13 00:10:00+00:00       84.0      0   13   \n",
              "1   95  00:15:00 2023-03-13 2023-03-13 00:15:00+00:00       83.0      0   13   \n",
              "2   95  00:20:00 2023-03-13 2023-03-13 00:20:00+00:00       83.0      0   13   \n",
              "3   99  00:25:00 2023-03-13 2023-03-13 00:25:00+00:00       75.0      1   13   \n",
              "4   98  00:30:00 2023-03-13 2023-03-13 00:30:00+00:00       75.0      1   13   \n",
              "\n",
              "   hour  minute  dayofweek time_of_day  \n",
              "0     0      10          0       night  \n",
              "1     0      15          0       night  \n",
              "2     0      20          0       night  \n",
              "3     0      25          0       night  \n",
              "4     0      30          0       night  "
            ],
            "text/html": [
              "\n",
              "  <div id=\"df-663915d4-f9eb-44dc-9080-1a3c09f65665\">\n",
              "    <div class=\"colab-df-container\">\n",
              "      <div>\n",
              "<style scoped>\n",
              "    .dataframe tbody tr th:only-of-type {\n",
              "        vertical-align: middle;\n",
              "    }\n",
              "\n",
              "    .dataframe tbody tr th {\n",
              "        vertical-align: top;\n",
              "    }\n",
              "\n",
              "    .dataframe thead th {\n",
              "        text-align: right;\n",
              "    }\n",
              "</style>\n",
              "<table border=\"1\" class=\"dataframe\">\n",
              "  <thead>\n",
              "    <tr style=\"text-align: right;\">\n",
              "      <th></th>\n",
              "      <th>spo</th>\n",
              "      <th>time</th>\n",
              "      <th>date</th>\n",
              "      <th>date_time</th>\n",
              "      <th>heartRate</th>\n",
              "      <th>sleep</th>\n",
              "      <th>day</th>\n",
              "      <th>hour</th>\n",
              "      <th>minute</th>\n",
              "      <th>dayofweek</th>\n",
              "      <th>time_of_day</th>\n",
              "    </tr>\n",
              "  </thead>\n",
              "  <tbody>\n",
              "    <tr>\n",
              "      <th>0</th>\n",
              "      <td>99</td>\n",
              "      <td>00:10:00</td>\n",
              "      <td>2023-03-13</td>\n",
              "      <td>2023-03-13 00:10:00+00:00</td>\n",
              "      <td>84.0</td>\n",
              "      <td>0</td>\n",
              "      <td>13</td>\n",
              "      <td>0</td>\n",
              "      <td>10</td>\n",
              "      <td>0</td>\n",
              "      <td>night</td>\n",
              "    </tr>\n",
              "    <tr>\n",
              "      <th>1</th>\n",
              "      <td>95</td>\n",
              "      <td>00:15:00</td>\n",
              "      <td>2023-03-13</td>\n",
              "      <td>2023-03-13 00:15:00+00:00</td>\n",
              "      <td>83.0</td>\n",
              "      <td>0</td>\n",
              "      <td>13</td>\n",
              "      <td>0</td>\n",
              "      <td>15</td>\n",
              "      <td>0</td>\n",
              "      <td>night</td>\n",
              "    </tr>\n",
              "    <tr>\n",
              "      <th>2</th>\n",
              "      <td>95</td>\n",
              "      <td>00:20:00</td>\n",
              "      <td>2023-03-13</td>\n",
              "      <td>2023-03-13 00:20:00+00:00</td>\n",
              "      <td>83.0</td>\n",
              "      <td>0</td>\n",
              "      <td>13</td>\n",
              "      <td>0</td>\n",
              "      <td>20</td>\n",
              "      <td>0</td>\n",
              "      <td>night</td>\n",
              "    </tr>\n",
              "    <tr>\n",
              "      <th>3</th>\n",
              "      <td>99</td>\n",
              "      <td>00:25:00</td>\n",
              "      <td>2023-03-13</td>\n",
              "      <td>2023-03-13 00:25:00+00:00</td>\n",
              "      <td>75.0</td>\n",
              "      <td>1</td>\n",
              "      <td>13</td>\n",
              "      <td>0</td>\n",
              "      <td>25</td>\n",
              "      <td>0</td>\n",
              "      <td>night</td>\n",
              "    </tr>\n",
              "    <tr>\n",
              "      <th>4</th>\n",
              "      <td>98</td>\n",
              "      <td>00:30:00</td>\n",
              "      <td>2023-03-13</td>\n",
              "      <td>2023-03-13 00:30:00+00:00</td>\n",
              "      <td>75.0</td>\n",
              "      <td>1</td>\n",
              "      <td>13</td>\n",
              "      <td>0</td>\n",
              "      <td>30</td>\n",
              "      <td>0</td>\n",
              "      <td>night</td>\n",
              "    </tr>\n",
              "  </tbody>\n",
              "</table>\n",
              "</div>\n",
              "      <button class=\"colab-df-convert\" onclick=\"convertToInteractive('df-663915d4-f9eb-44dc-9080-1a3c09f65665')\"\n",
              "              title=\"Convert this dataframe to an interactive table.\"\n",
              "              style=\"display:none;\">\n",
              "        \n",
              "  <svg xmlns=\"http://www.w3.org/2000/svg\" height=\"24px\"viewBox=\"0 0 24 24\"\n",
              "       width=\"24px\">\n",
              "    <path d=\"M0 0h24v24H0V0z\" fill=\"none\"/>\n",
              "    <path d=\"M18.56 5.44l.94 2.06.94-2.06 2.06-.94-2.06-.94-.94-2.06-.94 2.06-2.06.94zm-11 1L8.5 8.5l.94-2.06 2.06-.94-2.06-.94L8.5 2.5l-.94 2.06-2.06.94zm10 10l.94 2.06.94-2.06 2.06-.94-2.06-.94-.94-2.06-.94 2.06-2.06.94z\"/><path d=\"M17.41 7.96l-1.37-1.37c-.4-.4-.92-.59-1.43-.59-.52 0-1.04.2-1.43.59L10.3 9.45l-7.72 7.72c-.78.78-.78 2.05 0 2.83L4 21.41c.39.39.9.59 1.41.59.51 0 1.02-.2 1.41-.59l7.78-7.78 2.81-2.81c.8-.78.8-2.07 0-2.86zM5.41 20L4 18.59l7.72-7.72 1.47 1.35L5.41 20z\"/>\n",
              "  </svg>\n",
              "      </button>\n",
              "      \n",
              "  <style>\n",
              "    .colab-df-container {\n",
              "      display:flex;\n",
              "      flex-wrap:wrap;\n",
              "      gap: 12px;\n",
              "    }\n",
              "\n",
              "    .colab-df-convert {\n",
              "      background-color: #E8F0FE;\n",
              "      border: none;\n",
              "      border-radius: 50%;\n",
              "      cursor: pointer;\n",
              "      display: none;\n",
              "      fill: #1967D2;\n",
              "      height: 32px;\n",
              "      padding: 0 0 0 0;\n",
              "      width: 32px;\n",
              "    }\n",
              "\n",
              "    .colab-df-convert:hover {\n",
              "      background-color: #E2EBFA;\n",
              "      box-shadow: 0px 1px 2px rgba(60, 64, 67, 0.3), 0px 1px 3px 1px rgba(60, 64, 67, 0.15);\n",
              "      fill: #174EA6;\n",
              "    }\n",
              "\n",
              "    [theme=dark] .colab-df-convert {\n",
              "      background-color: #3B4455;\n",
              "      fill: #D2E3FC;\n",
              "    }\n",
              "\n",
              "    [theme=dark] .colab-df-convert:hover {\n",
              "      background-color: #434B5C;\n",
              "      box-shadow: 0px 1px 3px 1px rgba(0, 0, 0, 0.15);\n",
              "      filter: drop-shadow(0px 1px 2px rgba(0, 0, 0, 0.3));\n",
              "      fill: #FFFFFF;\n",
              "    }\n",
              "  </style>\n",
              "\n",
              "      <script>\n",
              "        const buttonEl =\n",
              "          document.querySelector('#df-663915d4-f9eb-44dc-9080-1a3c09f65665 button.colab-df-convert');\n",
              "        buttonEl.style.display =\n",
              "          google.colab.kernel.accessAllowed ? 'block' : 'none';\n",
              "\n",
              "        async function convertToInteractive(key) {\n",
              "          const element = document.querySelector('#df-663915d4-f9eb-44dc-9080-1a3c09f65665');\n",
              "          const dataTable =\n",
              "            await google.colab.kernel.invokeFunction('convertToInteractive',\n",
              "                                                     [key], {});\n",
              "          if (!dataTable) return;\n",
              "\n",
              "          const docLinkHtml = 'Like what you see? Visit the ' +\n",
              "            '<a target=\"_blank\" href=https://colab.research.google.com/notebooks/data_table.ipynb>data table notebook</a>'\n",
              "            + ' to learn more about interactive tables.';\n",
              "          element.innerHTML = '';\n",
              "          dataTable['output_type'] = 'display_data';\n",
              "          await google.colab.output.renderOutput(dataTable, element);\n",
              "          const docLink = document.createElement('div');\n",
              "          docLink.innerHTML = docLinkHtml;\n",
              "          element.appendChild(docLink);\n",
              "        }\n",
              "      </script>\n",
              "    </div>\n",
              "  </div>\n",
              "  "
            ]
          },
          "metadata": {},
          "execution_count": 177
        }
      ]
    },
    {
      "cell_type": "code",
      "source": [
        "X = df_spo2_.drop(['time','date','date_time','sleep'],axis=1)\n",
        "y = df_spo2_.sleep  "
      ],
      "metadata": {
        "id": "4qdBIMdJYM3p"
      },
      "execution_count": null,
      "outputs": []
    },
    {
      "cell_type": "code",
      "source": [
        "X_train, X_test, y_train, y_test = train_test_split(X, y, test_size=0.3, random_state = 42 )"
      ],
      "metadata": {
        "id": "_M8US6UgYM8D"
      },
      "execution_count": null,
      "outputs": []
    },
    {
      "cell_type": "code",
      "source": [
        "X_train.sample(5)"
      ],
      "metadata": {
        "colab": {
          "base_uri": "https://localhost:8080/",
          "height": 206
        },
        "id": "a0yhYxM1i_lW",
        "outputId": "9bab62f6-76fe-4802-cb5a-0a274a3c88d6"
      },
      "execution_count": null,
      "outputs": [
        {
          "output_type": "execute_result",
          "data": {
            "text/plain": [
              "      spo  heartRate  day  hour  minute  dayofweek time_of_day\n",
              "520    97  97.833333   12    19      40          6     evening\n",
              "571    99  71.000000   12    23      55          6     evening\n",
              "1261   92  87.000000   11    23       0          5     evening\n",
              "320    98  73.272727   12     3       0          6       night\n",
              "1225   96  82.000000   11    20       0          5     evening"
            ],
            "text/html": [
              "\n",
              "  <div id=\"df-d16d8a91-7b65-4c03-95de-03f3c7490d6f\">\n",
              "    <div class=\"colab-df-container\">\n",
              "      <div>\n",
              "<style scoped>\n",
              "    .dataframe tbody tr th:only-of-type {\n",
              "        vertical-align: middle;\n",
              "    }\n",
              "\n",
              "    .dataframe tbody tr th {\n",
              "        vertical-align: top;\n",
              "    }\n",
              "\n",
              "    .dataframe thead th {\n",
              "        text-align: right;\n",
              "    }\n",
              "</style>\n",
              "<table border=\"1\" class=\"dataframe\">\n",
              "  <thead>\n",
              "    <tr style=\"text-align: right;\">\n",
              "      <th></th>\n",
              "      <th>spo</th>\n",
              "      <th>heartRate</th>\n",
              "      <th>day</th>\n",
              "      <th>hour</th>\n",
              "      <th>minute</th>\n",
              "      <th>dayofweek</th>\n",
              "      <th>time_of_day</th>\n",
              "    </tr>\n",
              "  </thead>\n",
              "  <tbody>\n",
              "    <tr>\n",
              "      <th>520</th>\n",
              "      <td>97</td>\n",
              "      <td>97.833333</td>\n",
              "      <td>12</td>\n",
              "      <td>19</td>\n",
              "      <td>40</td>\n",
              "      <td>6</td>\n",
              "      <td>evening</td>\n",
              "    </tr>\n",
              "    <tr>\n",
              "      <th>571</th>\n",
              "      <td>99</td>\n",
              "      <td>71.000000</td>\n",
              "      <td>12</td>\n",
              "      <td>23</td>\n",
              "      <td>55</td>\n",
              "      <td>6</td>\n",
              "      <td>evening</td>\n",
              "    </tr>\n",
              "    <tr>\n",
              "      <th>1261</th>\n",
              "      <td>92</td>\n",
              "      <td>87.000000</td>\n",
              "      <td>11</td>\n",
              "      <td>23</td>\n",
              "      <td>0</td>\n",
              "      <td>5</td>\n",
              "      <td>evening</td>\n",
              "    </tr>\n",
              "    <tr>\n",
              "      <th>320</th>\n",
              "      <td>98</td>\n",
              "      <td>73.272727</td>\n",
              "      <td>12</td>\n",
              "      <td>3</td>\n",
              "      <td>0</td>\n",
              "      <td>6</td>\n",
              "      <td>night</td>\n",
              "    </tr>\n",
              "    <tr>\n",
              "      <th>1225</th>\n",
              "      <td>96</td>\n",
              "      <td>82.000000</td>\n",
              "      <td>11</td>\n",
              "      <td>20</td>\n",
              "      <td>0</td>\n",
              "      <td>5</td>\n",
              "      <td>evening</td>\n",
              "    </tr>\n",
              "  </tbody>\n",
              "</table>\n",
              "</div>\n",
              "      <button class=\"colab-df-convert\" onclick=\"convertToInteractive('df-d16d8a91-7b65-4c03-95de-03f3c7490d6f')\"\n",
              "              title=\"Convert this dataframe to an interactive table.\"\n",
              "              style=\"display:none;\">\n",
              "        \n",
              "  <svg xmlns=\"http://www.w3.org/2000/svg\" height=\"24px\"viewBox=\"0 0 24 24\"\n",
              "       width=\"24px\">\n",
              "    <path d=\"M0 0h24v24H0V0z\" fill=\"none\"/>\n",
              "    <path d=\"M18.56 5.44l.94 2.06.94-2.06 2.06-.94-2.06-.94-.94-2.06-.94 2.06-2.06.94zm-11 1L8.5 8.5l.94-2.06 2.06-.94-2.06-.94L8.5 2.5l-.94 2.06-2.06.94zm10 10l.94 2.06.94-2.06 2.06-.94-2.06-.94-.94-2.06-.94 2.06-2.06.94z\"/><path d=\"M17.41 7.96l-1.37-1.37c-.4-.4-.92-.59-1.43-.59-.52 0-1.04.2-1.43.59L10.3 9.45l-7.72 7.72c-.78.78-.78 2.05 0 2.83L4 21.41c.39.39.9.59 1.41.59.51 0 1.02-.2 1.41-.59l7.78-7.78 2.81-2.81c.8-.78.8-2.07 0-2.86zM5.41 20L4 18.59l7.72-7.72 1.47 1.35L5.41 20z\"/>\n",
              "  </svg>\n",
              "      </button>\n",
              "      \n",
              "  <style>\n",
              "    .colab-df-container {\n",
              "      display:flex;\n",
              "      flex-wrap:wrap;\n",
              "      gap: 12px;\n",
              "    }\n",
              "\n",
              "    .colab-df-convert {\n",
              "      background-color: #E8F0FE;\n",
              "      border: none;\n",
              "      border-radius: 50%;\n",
              "      cursor: pointer;\n",
              "      display: none;\n",
              "      fill: #1967D2;\n",
              "      height: 32px;\n",
              "      padding: 0 0 0 0;\n",
              "      width: 32px;\n",
              "    }\n",
              "\n",
              "    .colab-df-convert:hover {\n",
              "      background-color: #E2EBFA;\n",
              "      box-shadow: 0px 1px 2px rgba(60, 64, 67, 0.3), 0px 1px 3px 1px rgba(60, 64, 67, 0.15);\n",
              "      fill: #174EA6;\n",
              "    }\n",
              "\n",
              "    [theme=dark] .colab-df-convert {\n",
              "      background-color: #3B4455;\n",
              "      fill: #D2E3FC;\n",
              "    }\n",
              "\n",
              "    [theme=dark] .colab-df-convert:hover {\n",
              "      background-color: #434B5C;\n",
              "      box-shadow: 0px 1px 3px 1px rgba(0, 0, 0, 0.15);\n",
              "      filter: drop-shadow(0px 1px 2px rgba(0, 0, 0, 0.3));\n",
              "      fill: #FFFFFF;\n",
              "    }\n",
              "  </style>\n",
              "\n",
              "      <script>\n",
              "        const buttonEl =\n",
              "          document.querySelector('#df-d16d8a91-7b65-4c03-95de-03f3c7490d6f button.colab-df-convert');\n",
              "        buttonEl.style.display =\n",
              "          google.colab.kernel.accessAllowed ? 'block' : 'none';\n",
              "\n",
              "        async function convertToInteractive(key) {\n",
              "          const element = document.querySelector('#df-d16d8a91-7b65-4c03-95de-03f3c7490d6f');\n",
              "          const dataTable =\n",
              "            await google.colab.kernel.invokeFunction('convertToInteractive',\n",
              "                                                     [key], {});\n",
              "          if (!dataTable) return;\n",
              "\n",
              "          const docLinkHtml = 'Like what you see? Visit the ' +\n",
              "            '<a target=\"_blank\" href=https://colab.research.google.com/notebooks/data_table.ipynb>data table notebook</a>'\n",
              "            + ' to learn more about interactive tables.';\n",
              "          element.innerHTML = '';\n",
              "          dataTable['output_type'] = 'display_data';\n",
              "          await google.colab.output.renderOutput(dataTable, element);\n",
              "          const docLink = document.createElement('div');\n",
              "          docLink.innerHTML = docLinkHtml;\n",
              "          element.appendChild(docLink);\n",
              "        }\n",
              "      </script>\n",
              "    </div>\n",
              "  </div>\n",
              "  "
            ]
          },
          "metadata": {},
          "execution_count": 180
        }
      ]
    },
    {
      "cell_type": "code",
      "source": [
        "categoric = ['hour', 'day', 'minute','dayofweek','time_of_day' ]\n",
        "numeric = ['heartRate','spo']"
      ],
      "metadata": {
        "id": "mNxHmL1Ci0Zf"
      },
      "execution_count": null,
      "outputs": []
    },
    {
      "cell_type": "code",
      "source": [
        "column_transformer = ColumnTransformer([\n",
        "    ('ohe',OneHotEncoder(handle_unknown=\"ignore\"),categoric),\n",
        "    ('scaling',StandardScaler(),numeric),\n",
        "])\n",
        "\n",
        "X_train = column_transformer.fit_transform(X_train)  \n",
        "X_test = column_transformer.fit_transform(X_test)  "
      ],
      "metadata": {
        "id": "yNnDW5L1i0cb"
      },
      "execution_count": null,
      "outputs": []
    },
    {
      "cell_type": "markdown",
      "source": [
        "# Обучение моделей"
      ],
      "metadata": {
        "id": "80gZBd0HjKvH"
      }
    },
    {
      "cell_type": "markdown",
      "source": [
        "Задача бинарной классификации, попробуем ряд моделей для выявления лучшей"
      ],
      "metadata": {
        "id": "8KPljlwnjV9L"
      }
    },
    {
      "cell_type": "code",
      "source": [
        "def get_answer(clf, X_train, y_train, X_test):\n",
        "    '''Функция получения предсказаний классификатора clf'''\n",
        "    clf.fit(X_train, y_train)\n",
        "    y_pred = clf.predict(X_test)\n",
        "    Z = clf.predict_proba(X_test)[:, 1]\n",
        "    \n",
        "    return y_pred, Z"
      ],
      "metadata": {
        "id": "8dTnVYJZi0h6"
      },
      "execution_count": null,
      "outputs": []
    },
    {
      "cell_type": "code",
      "source": [
        "def get_metrics(y_test, y_pred, Z, name, prec=5):\n",
        "    '''Получаем метрики и визуализируем результат'''\n",
        "    print(name)\n",
        "    # матрица ошибок\n",
        "    cnf_matrix = metrics.confusion_matrix(y_test, y_pred)\n",
        "       \n",
        "    class_names = [0,1] # имена классов\n",
        "    fig, ax1 = plt.subplots()\n",
        "    tick_marks = np.arange(len(class_names))\n",
        "    plt.xticks(tick_marks, class_names)\n",
        "    plt.yticks(tick_marks, class_names)\n",
        "\n",
        "    # создаем heatmap\n",
        "    sns.heatmap(pd.DataFrame(cnf_matrix), annot=True, cmap=\"GnBu\" ,fmt='g')\n",
        "    ax1.xaxis.set_label_position(\"top\")\n",
        "    plt.tight_layout()\n",
        "    plt.title('Confusion matrix', y=1.1)\n",
        "    plt.ylabel('Actual label')\n",
        "    plt.xlabel('Predicted label')\n",
        "     \n",
        "    # найдем precision и recall\n",
        "    pr = metrics.precision_score(y_test, y_pred) \n",
        "    print(f'precision={round(pr, prec)}')\n",
        "    rc = metrics.recall_score(y_test, y_pred) \n",
        "    print(f'recall={round(rc, prec)}')\n",
        "\n",
        "    # AUC ROC\n",
        "    fpr, tpr, _ = metrics.roc_curve(y_test,  Z)\n",
        "    roc_auc = metrics.roc_auc_score(y_test, Z)\n",
        "    print(f'roc-auc={round(roc_auc, prec)}')\n",
        "\n",
        "    fig, ax2 = plt.subplots()\n",
        "    plt.plot(fpr,tpr,label=f\"auc={round(roc_auc, prec)}\")\n",
        "    plt.title(f'ROC-AUC for {name}')\n",
        "    plt.xlabel('False Positive Rate')\n",
        "    plt.ylabel('True Positive Rate')\n",
        "    plt.plot([0, 1], [0, 1], 'k--', label='Random clf')\n",
        "    plt.legend(loc=4)\n",
        "    plt.show()\n",
        "    \n",
        "    #AUC_PR\n",
        "    precision, recall, _ = metrics.precision_recall_curve(y_test,  Z)\n",
        "    pr_auc = metrics.auc(recall, precision)\n",
        "    print(f'pr_auc={pr_auc}')\n",
        "\n",
        "    fig, ax3 = plt.subplots()\n",
        "    no_skill = len(y_test[y_test==1]) / len(y_test)\n",
        "    plt.plot(recall, precision)\n",
        "    plt.title(f'PR-AUC for {name}')\n",
        "    plt.xlabel('Recall')\n",
        "    plt.ylabel('Precision')\n",
        "    plt.plot([1, 0],  [no_skill, 1], 'k--', label='Random clf')\n",
        "    plt.legend(loc=1)\n",
        "    plt.show()"
      ],
      "metadata": {
        "id": "kLcyvriok-1u"
      },
      "execution_count": null,
      "outputs": []
    },
    {
      "cell_type": "markdown",
      "source": [
        "## GradientBoostingClassifier"
      ],
      "metadata": {
        "id": "TFYSJwRCoX59"
      }
    },
    {
      "cell_type": "code",
      "source": [
        "boosting = GradientBoostingClassifier()\n",
        "y_pred, Z = get_answer(boosting, X_train, y_train, X_test)"
      ],
      "metadata": {
        "id": "CBbDlEvMoZyM"
      },
      "execution_count": null,
      "outputs": []
    },
    {
      "cell_type": "code",
      "source": [
        "get_metrics(y_test, y_pred, Z, 'RandomForestClassifier') "
      ],
      "metadata": {
        "colab": {
          "base_uri": "https://localhost:8080/",
          "height": 985
        },
        "id": "Btgd71IhobPU",
        "outputId": "827c33da-c682-449f-b8f4-307dd1e941d2"
      },
      "execution_count": null,
      "outputs": [
        {
          "output_type": "stream",
          "name": "stdout",
          "text": [
            "RandomForestClassifier\n",
            "precision=0.94118\n",
            "recall=0.9505\n",
            "roc-auc=0.99757\n"
          ]
        },
        {
          "output_type": "display_data",
          "data": {
            "text/plain": [
              "<Figure size 432x288 with 2 Axes>"
            ],
            "image/png": "[encoded data removed]"
          },
          "metadata": {}
        },
        {
          "output_type": "display_data",
          "data": {
            "text/plain": [
              "<Figure size 432x288 with 1 Axes>"
            ],
            "image/png": "[encoded data removed]"
          },
          "metadata": {}
        },
        {
          "output_type": "stream",
          "name": "stdout",
          "text": [
            "pr_auc=0.9937845927849306\n"
          ]
        },
        {
          "output_type": "display_data",
          "data": {
            "text/plain": [
              "<Figure size 432x288 with 1 Axes>"
            ],
            "image/png": "[encoded data removed]"
          },
          "metadata": {}
        }
      ]
    },
    {
      "cell_type": "markdown",
      "source": [
        "## RandomForestClassifier"
      ],
      "metadata": {
        "id": "vu3fKAiclzNV"
      }
    },
    {
      "cell_type": "code",
      "source": [
        "forest = RandomForestClassifier()\n",
        "y_pred, Z = get_answer(forest, X_train, y_train, X_test)"
      ],
      "metadata": {
        "id": "hWKoOBFKklED"
      },
      "execution_count": null,
      "outputs": []
    },
    {
      "cell_type": "code",
      "source": [
        "get_metrics(y_test, y_pred, Z, 'RandomForestClassifier') "
      ],
      "metadata": {
        "colab": {
          "base_uri": "https://localhost:8080/",
          "height": 985
        },
        "id": "LFnX-R7Wlkql",
        "outputId": "d483304c-8bf7-4a8c-c1fd-541f790919dc"
      },
      "execution_count": null,
      "outputs": [
        {
          "output_type": "stream",
          "name": "stdout",
          "text": [
            "RandomForestClassifier\n",
            "precision=0.9697\n",
            "recall=0.9505\n",
            "roc-auc=0.99734\n"
          ]
        },
        {
          "output_type": "display_data",
          "data": {
            "text/plain": [
              "<Figure size 432x288 with 2 Axes>"
            ],
            "image/png": "[encoded data removed]"
          },
          "metadata": {}
        },
        {
          "output_type": "display_data",
          "data": {
            "text/plain": [
              "<Figure size 432x288 with 1 Axes>"
            ],
            "image/png": "[encoded data removed]"
          },
          "metadata": {}
        },
        {
          "output_type": "stream",
          "name": "stdout",
          "text": [
            "pr_auc=0.9934342703942904\n"
          ]
        },
        {
          "output_type": "display_data",
          "data": {
            "text/plain": [
              "<Figure size 432x288 with 1 Axes>"
            ],
            "image/png": "[encoded data removed]"
          },
          "metadata": {}
        }
      ]
    },
    {
      "cell_type": "markdown",
      "source": [
        "### CatBoostClassifier"
      ],
      "metadata": {
        "id": "vuthpU7zmUCt"
      }
    },
    {
      "cell_type": "code",
      "source": [
        "cat = CatBoostClassifier(iterations=10,\n",
        "                           depth=5,\n",
        "                           learning_rate=0.1,\n",
        "                           loss_function='Logloss',\n",
        "                           verbose=True)\n",
        "y_pred, Z = get_answer(cat, X_train, y_train, X_test)"
      ],
      "metadata": {
        "colab": {
          "base_uri": "https://localhost:8080/"
        },
        "id": "Kmu8mv8Nl2Wv",
        "outputId": "42eaf6e0-9f5c-4181-f88c-fbbf152c8718"
      },
      "execution_count": null,
      "outputs": [
        {
          "output_type": "stream",
          "name": "stdout",
          "text": [
            "0:\tlearn: 0.5361183\ttotal: 1.29ms\tremaining: 11.6ms\n",
            "1:\tlearn: 0.4267473\ttotal: 5.89ms\tremaining: 23.6ms\n",
            "2:\tlearn: 0.3822194\ttotal: 8.39ms\tremaining: 19.6ms\n",
            "3:\tlearn: 0.3118728\ttotal: 9.76ms\tremaining: 14.6ms\n",
            "4:\tlearn: 0.2752945\ttotal: 10.6ms\tremaining: 10.6ms\n",
            "5:\tlearn: 0.2379912\ttotal: 11.6ms\tremaining: 7.74ms\n",
            "6:\tlearn: 0.2120462\ttotal: 12.6ms\tremaining: 5.4ms\n",
            "7:\tlearn: 0.1906177\ttotal: 13.4ms\tremaining: 3.35ms\n",
            "8:\tlearn: 0.1730589\ttotal: 14.3ms\tremaining: 1.58ms\n",
            "9:\tlearn: 0.1610825\ttotal: 15.2ms\tremaining: 0us\n"
          ]
        }
      ]
    },
    {
      "cell_type": "code",
      "source": [
        "get_metrics(y_test, y_pred, Z, 'CatBoostClassifier') "
      ],
      "metadata": {
        "colab": {
          "base_uri": "https://localhost:8080/",
          "height": 985
        },
        "id": "IgbpJiBjl2ZT",
        "outputId": "a525a431-7be6-4e99-c5a4-c16bcce19223"
      },
      "execution_count": null,
      "outputs": [
        {
          "output_type": "stream",
          "name": "stdout",
          "text": [
            "CatBoostClassifier\n",
            "precision=0.94898\n",
            "recall=0.92079\n",
            "roc-auc=0.98518\n"
          ]
        },
        {
          "output_type": "display_data",
          "data": {
            "text/plain": [
              "<Figure size 432x288 with 2 Axes>"
            ],
            "image/png": "[encoded data removed]"
          },
          "metadata": {}
        },
        {
          "output_type": "display_data",
          "data": {
            "text/plain": [
              "<Figure size 432x288 with 1 Axes>"
            ],
            "image/png": "[encoded data removed]"
          },
          "metadata": {}
        },
        {
          "output_type": "stream",
          "name": "stdout",
          "text": [
            "pr_auc=0.9708508037942389\n"
          ]
        },
        {
          "output_type": "display_data",
          "data": {
            "text/plain": [
              "<Figure size 432x288 with 1 Axes>"
            ],
            "image/png": "[encoded data removed]"
          },
          "metadata": {}
        }
      ]
    },
    {
      "cell_type": "markdown",
      "source": [
        "# Удаление выбросов, подбор гиперпараметров, оценка влияния на результат"
      ],
      "metadata": {
        "id": "ITUz6V6_o0pA"
      }
    },
    {
      "cell_type": "code",
      "source": [],
      "metadata": {
        "id": "JutGGOXYl2c3"
      },
      "execution_count": null,
      "outputs": []
    },
    {
      "cell_type": "markdown",
      "source": [
        "Сделать вывод по проделанной работе (выдать численные значения и сравнительную таблицу по аналогичным решениям по accuracy/f1 score, описать полученные значения и возможные ограничения полученного решения и будущего улучшения)."
      ],
      "metadata": {
        "id": "IuWw_TWUo742"
      }
    },
    {
      "cell_type": "markdown",
      "source": [
        "# Лучший метод"
      ],
      "metadata": {
        "id": "nVOh6iSto89L"
      }
    },
    {
      "cell_type": "code",
      "source": [],
      "metadata": {
        "id": "3AY6bKomo8TM"
      },
      "execution_count": null,
      "outputs": []
    },
    {
      "cell_type": "markdown",
      "source": [
        "# Ограничения полученного решения"
      ],
      "metadata": {
        "id": "gE7FT2UnpCXx"
      }
    },
    {
      "cell_type": "markdown",
      "source": [
        "Из анализа данных получилось:\n",
        "\n",
        "1. Признаки такие, как месяц, год, сезон не имеют большой вариативности и из-за этого их вклад в общий результат нулевой. Для дальнейшего же развития следует оставить эти признаки и обучать вместе с ними, так как логично предположить, что сезон года будет влиять на сон.\n",
        "\n",
        "2. Возможно следовало оставить выбросы, так как неясно, будут ли они также являться выбросами при увеличении объема данных"
      ],
      "metadata": {
        "id": "qCL87q_ApGpG"
      }
    },
    {
      "cell_type": "code",
      "source": [],
      "metadata": {
        "id": "Assot13rpMAr"
      },
      "execution_count": null,
      "outputs": []
    },
    {
      "cell_type": "code",
      "source": [],
      "metadata": {
        "id": "7Q90dUlppL80"
      },
      "execution_count": null,
      "outputs": []
    },
    {
      "cell_type": "code",
      "source": [],
      "metadata": {
        "id": "tbqMJ6nDpLVU"
      },
      "execution_count": null,
      "outputs": []
    }
  ]
}